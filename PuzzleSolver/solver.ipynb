{
 "cells": [
  {
   "cell_type": "markdown",
   "metadata": {},
   "source": [
    "# Puzzle Solver\n",
    "\n",
    "This notebook is a trial to make an Algorithm that can resolve some space puzzles.   \n",
    "The puzzles must be in this format:\n",
    "\n",
    "|   |   |   |   |   |\n",
    "|:-:|:-:|:-:|:-:|:-:|\n",
    "| 0 | 0 | 1 | 1 | 1 |   \n",
    "| 0 | 0 | 0 | 1 | 1 |   \n",
    "| 1 | 1 | 1 | 1 | 1 |   \n",
    "| 1 | 1 | 1 | 1 | 1 |   \n",
    "| 1 | 1 | 1 | 1 | 1 |   \n",
    "\n",
    "- The path can start in any cell;\n",
    "- The cells with _0_ cannot be reached;\n",
    "- The cells with _1_ shoud be changed to a number that represent the step to reach the cell;\n",
    "- Puzzle is solved when a path is found between all number _1_ cells, starting by any cell, and ending in the last _1_ cell, not passing though any _0_ cells.\n",
    "\n"
   ]
  },
  {
   "cell_type": "markdown",
   "metadata": {},
   "source": [
    "Let's start with 2 list that contains a puzzle matrix and its optimal path."
   ]
  },
  {
   "cell_type": "code",
   "execution_count": 1,
   "metadata": {},
   "outputs": [],
   "source": [
    "import numpy as np"
   ]
  },
  {
   "cell_type": "code",
   "execution_count": 2,
   "metadata": {},
   "outputs": [],
   "source": [
    "x1 = np.array([[1,1,1,1,1],\n",
    "               [1,1,1,1,1],\n",
    "               [1,1,1,1,1],\n",
    "               [1,1,1,1,1],\n",
    "               [1,1,1,1,1]])\n",
    "y1 = np.array([[1,2,3,4,5],\n",
    "               [22,23,24,25,6],\n",
    "               [21,20,19,18,7],\n",
    "               [14,15,16,17,8],\n",
    "               [13,12,11,10,9]])\n",
    "X_train = list(x1)\n",
    "y_train = list(y1)"
   ]
  },
  {
   "cell_type": "code",
   "execution_count": 3,
   "metadata": {},
   "outputs": [],
   "source": [
    "X_train.append(np.array([[1,1,0,1,1],\n",
    "                         [1,1,1,1,1],\n",
    "                         [1,1,1,1,1],\n",
    "                         [1,1,1,1,1],\n",
    "                         [1,1,1,1,1]]))\n",
    "y_train.append(np.array([[1,2,0,6,7],\n",
    "                         [1,3,4,5,8],\n",
    "                         [17,18,19,20,9],\n",
    "                         [16,23,22,21,10],\n",
    "                         [15,14,13,12,11]]))"
   ]
  },
  {
   "cell_type": "code",
   "execution_count": 4,
   "metadata": {},
   "outputs": [],
   "source": [
    "X_train.append(np.array([[1,0,0,1,1],\n",
    "                [1,1,1,1,1],\n",
    "                [1,1,1,1,1],\n",
    "                [1,1,1,1,1],\n",
    "                [1,1,1,1,1]]))\n",
    "y_train.append(np.array([[1,0,0,6,7],\n",
    "                [2,3,4,5,8],\n",
    "                [17,18,19,20,9],\n",
    "                [16,23,22,21,10],\n",
    "                [15,14,13,12,11]]))"
   ]
  },
  {
   "cell_type": "code",
   "execution_count": 5,
   "metadata": {},
   "outputs": [],
   "source": [
    "X_train.append(np.array([[0,0,0,1,1],\n",
    "                [1,1,1,1,1],\n",
    "                [1,1,1,1,1],\n",
    "                [1,1,1,1,1],\n",
    "                [1,1,1,1,1]]))\n",
    "y_train.append(np.array([[0,0,0,1,2],\n",
    "                [13,14,15,16,3],\n",
    "                [12,19,18,17,4],\n",
    "                [11,20,22,23,5],\n",
    "                [10,9,8,7,6]]))"
   ]
  },
  {
   "cell_type": "code",
   "execution_count": 6,
   "metadata": {},
   "outputs": [],
   "source": [
    "X_train.append(np.array([[0,0,0,0,1],\n",
    "                [1,1,1,1,1],\n",
    "                [1,1,1,1,1],\n",
    "                [1,1,1,1,1],\n",
    "                [1,1,1,1,1]]))\n",
    "y_train.append(np.array([[0,0,0,0,1],\n",
    "                [12,13,14,15,2],\n",
    "                [11,18,17,16,3],\n",
    "                [10,19,20,21,4],\n",
    "                [9,8,7,6,5]]))"
   ]
  },
  {
   "cell_type": "code",
   "execution_count": 7,
   "metadata": {},
   "outputs": [],
   "source": [
    "X_train.append(np.array([[0,0,0,0,1],\n",
    "                         [0,1,1,1,1],\n",
    "                         [1,1,1,1,1],\n",
    "                         [1,1,1,1,1],\n",
    "                         [1,1,1,1,1]]))\n",
    "y_train.append(np.array([[0,0,0,0,1],\n",
    "                         [12,17,16,15,2],\n",
    "                         [11,12,13,14,3],\n",
    "                         [10,19,20,21,4],\n",
    "                         [9,8,7,6,5]]))"
   ]
  },
  {
   "cell_type": "code",
   "execution_count": 8,
   "metadata": {},
   "outputs": [],
   "source": [
    "X_train.append(np.array([[0,0,0,1,1],\n",
    "                         [0,0,1,1,1],\n",
    "                         [1,1,1,1,1],\n",
    "                         [1,1,1,1,1],\n",
    "                         [1,1,1,1,1]]))\n",
    "y_train.append(np.array([[ 0, 0, 0, 1, 2],\n",
    "                         [ 0,18,17,16, 3],\n",
    "                         [12,13,14,15, 4],\n",
    "                         [11,19,20,21, 5],\n",
    "                         [10, 9, 8, 7, 6]]))"
   ]
  },
  {
   "cell_type": "code",
   "execution_count": 9,
   "metadata": {},
   "outputs": [],
   "source": [
    "X_train.append(np.array([[1,0,0,0,1],\n",
    "                         [1,0,1,1,1],\n",
    "                         [1,1,1,1,1],\n",
    "                         [1,1,1,1,1],\n",
    "                         [1,1,1,1,1]]))\n",
    "y_train.append(np.array([[ 1, 0, 0, 0,20],\n",
    "                         [ 2, 0, 6, 7,19],\n",
    "                         [ 3, 4, 5, 8,18],\n",
    "                         [11,10, 9,21,17],\n",
    "                         [12,13,14,15,16]]))"
   ]
  },
  {
   "cell_type": "code",
   "execution_count": 10,
   "metadata": {},
   "outputs": [],
   "source": [
    "X_train.append(np.array([[1,1,0,0,1],\n",
    "                         [1,1,0,1,1],\n",
    "                         [1,1,0,1,1],\n",
    "                         [1,1,1,1,1],\n",
    "                         [1,1,1,1,1]]))\n",
    "y_train.append(np.array([[ 1, 2, 0, 0,21],\n",
    "                         [ 4, 3, 0,19,20],\n",
    "                         [ 5, 6, 0,18,17],\n",
    "                         [ 8, 7,12,13,16],\n",
    "                         [ 9,10,11,14,15]]))"
   ]
  },
  {
   "cell_type": "code",
   "execution_count": 11,
   "metadata": {},
   "outputs": [
    {
     "data": {
      "text/plain": [
       "13"
      ]
     },
     "execution_count": 11,
     "metadata": {},
     "output_type": "execute_result"
    }
   ],
   "source": [
    "len(X_train)"
   ]
  },
  {
   "cell_type": "code",
   "execution_count": null,
   "metadata": {},
   "outputs": [],
   "source": []
  }
 ],
 "metadata": {
  "kernelspec": {
   "display_name": "Python 3",
   "language": "python",
   "name": "python3"
  },
  "language_info": {
   "codemirror_mode": {
    "name": "ipython",
    "version": 3
   },
   "file_extension": ".py",
   "mimetype": "text/x-python",
   "name": "python",
   "nbconvert_exporter": "python",
   "pygments_lexer": "ipython3",
   "version": "3.11.5"
  }
 },
 "nbformat": 4,
 "nbformat_minor": 2
}
