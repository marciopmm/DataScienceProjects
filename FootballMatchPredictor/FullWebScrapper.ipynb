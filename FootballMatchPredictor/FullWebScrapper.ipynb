{
 "cells": [
  {
   "cell_type": "code",
   "execution_count": 1,
   "metadata": {},
   "outputs": [],
   "source": [
    "#\"/en/squads/19538871/2000-2001/Manchester-United-Stats\""
   ]
  },
  {
   "cell_type": "code",
   "execution_count": 1,
   "metadata": {},
   "outputs": [],
   "source": [
    "import pandas as pd\n",
    "import requests\n",
    "import time\n",
    "from bs4 import BeautifulSoup as bs\n"
   ]
  },
  {
   "cell_type": "code",
   "execution_count": 4,
   "metadata": {},
   "outputs": [],
   "source": [
    "standings_url = \"https://fbref.com/en/comps/9/Premier-League-Stats\"\n",
    "data = requests.get(standings_url)\n",
    "soup = bs(data.text)"
   ]
  },
  {
   "cell_type": "code",
   "execution_count": 5,
   "metadata": {},
   "outputs": [],
   "source": [
    "standings_table = soup.select('table.stats_table')[0]"
   ]
  },
  {
   "cell_type": "code",
   "execution_count": 6,
   "metadata": {},
   "outputs": [],
   "source": [
    "links = standings_table.find_all('a')"
   ]
  },
  {
   "cell_type": "code",
   "execution_count": 7,
   "metadata": {},
   "outputs": [],
   "source": [
    "links = [l.get(\"href\") for l in links]"
   ]
  },
  {
   "cell_type": "code",
   "execution_count": 8,
   "metadata": {},
   "outputs": [],
   "source": [
    "links = [l for l in links if '/squads/' in l]"
   ]
  },
  {
   "cell_type": "code",
   "execution_count": 9,
   "metadata": {},
   "outputs": [
    {
     "data": {
      "text/plain": [
       "['/en/squads/822bd0ba/Liverpool-Stats',\n",
       " '/en/squads/8602292d/Aston-Villa-Stats',\n",
       " '/en/squads/b8fd03ef/Manchester-City-Stats',\n",
       " '/en/squads/18bb7c10/Arsenal-Stats',\n",
       " '/en/squads/361ca564/Tottenham-Hotspur-Stats',\n",
       " '/en/squads/7c21e445/West-Ham-United-Stats',\n",
       " '/en/squads/d07537b9/Brighton-and-Hove-Albion-Stats',\n",
       " '/en/squads/19538871/Manchester-United-Stats',\n",
       " '/en/squads/b2b47a98/Newcastle-United-Stats',\n",
       " '/en/squads/cff3d9bb/Chelsea-Stats',\n",
       " '/en/squads/8cec06e1/Wolverhampton-Wanderers-Stats',\n",
       " '/en/squads/4ba7cbea/Bournemouth-Stats',\n",
       " '/en/squads/fd962109/Fulham-Stats',\n",
       " '/en/squads/47c64c55/Crystal-Palace-Stats',\n",
       " '/en/squads/e4a775cb/Nottingham-Forest-Stats',\n",
       " '/en/squads/cd051869/Brentford-Stats',\n",
       " '/en/squads/d3fd31cc/Everton-Stats',\n",
       " '/en/squads/e297cd13/Luton-Town-Stats',\n",
       " '/en/squads/943e8050/Burnley-Stats',\n",
       " '/en/squads/1df6b87e/Sheffield-United-Stats']"
      ]
     },
     "execution_count": 9,
     "metadata": {},
     "output_type": "execute_result"
    }
   ],
   "source": [
    "links"
   ]
  },
  {
   "cell_type": "code",
   "execution_count": 10,
   "metadata": {},
   "outputs": [],
   "source": [
    "team_links = [f\"https://fbref.com{l}\" for l in links]"
   ]
  },
  {
   "cell_type": "code",
   "execution_count": 12,
   "metadata": {},
   "outputs": [],
   "source": [
    "mc_url = team_links[0]"
   ]
  },
  {
   "cell_type": "code",
   "execution_count": 13,
   "metadata": {},
   "outputs": [],
   "source": [
    "data = requests.get(mc_url)"
   ]
  },
  {
   "cell_type": "code",
   "execution_count": 14,
   "metadata": {},
   "outputs": [
    {
     "name": "stderr",
     "output_type": "stream",
     "text": [
      "/var/folders/mq/07ht7frx6vn8rjnw4vfpptvr0000gp/T/ipykernel_19674/463728152.py:1: FutureWarning: Passing literal html to 'read_html' is deprecated and will be removed in a future version. To read from a literal string, wrap it in a 'StringIO' object.\n",
      "  matches = pd.read_html(data.text, match='Scores & Fixtures')[0]\n"
     ]
    }
   ],
   "source": [
    "matches = pd.read_html(data.text, match='Scores & Fixtures')[0]"
   ]
  },
  {
   "cell_type": "code",
   "execution_count": 13,
   "metadata": {},
   "outputs": [
    {
     "data": {
      "text/html": [
       "<div>\n",
       "<style scoped>\n",
       "    .dataframe tbody tr th:only-of-type {\n",
       "        vertical-align: middle;\n",
       "    }\n",
       "\n",
       "    .dataframe tbody tr th {\n",
       "        vertical-align: top;\n",
       "    }\n",
       "\n",
       "    .dataframe thead th {\n",
       "        text-align: right;\n",
       "    }\n",
       "</style>\n",
       "<table border=\"1\" class=\"dataframe\">\n",
       "  <thead>\n",
       "    <tr style=\"text-align: right;\">\n",
       "      <th></th>\n",
       "      <th>Date</th>\n",
       "      <th>Time</th>\n",
       "      <th>Comp</th>\n",
       "      <th>Round</th>\n",
       "      <th>Day</th>\n",
       "      <th>Venue</th>\n",
       "      <th>Result</th>\n",
       "      <th>GF</th>\n",
       "      <th>GA</th>\n",
       "      <th>Opponent</th>\n",
       "      <th>xG</th>\n",
       "      <th>xGA</th>\n",
       "      <th>Poss</th>\n",
       "      <th>Attendance</th>\n",
       "      <th>Captain</th>\n",
       "      <th>Formation</th>\n",
       "      <th>Referee</th>\n",
       "      <th>Match Report</th>\n",
       "      <th>Notes</th>\n",
       "    </tr>\n",
       "  </thead>\n",
       "  <tbody>\n",
       "    <tr>\n",
       "      <th>0</th>\n",
       "      <td>2023-08-06</td>\n",
       "      <td>16:00</td>\n",
       "      <td>Community Shield</td>\n",
       "      <td>FA Community Shield</td>\n",
       "      <td>Sun</td>\n",
       "      <td>Neutral</td>\n",
       "      <td>D</td>\n",
       "      <td>1 (4)</td>\n",
       "      <td>1 (1)</td>\n",
       "      <td>Manchester City</td>\n",
       "      <td>NaN</td>\n",
       "      <td>NaN</td>\n",
       "      <td>45.0</td>\n",
       "      <td>81145.0</td>\n",
       "      <td>Martin Ødegaard</td>\n",
       "      <td>4-3-3</td>\n",
       "      <td>Stuart Attwell</td>\n",
       "      <td>Match Report</td>\n",
       "      <td>Arsenal won on penalty kicks following normal ...</td>\n",
       "    </tr>\n",
       "    <tr>\n",
       "      <th>1</th>\n",
       "      <td>2023-08-12</td>\n",
       "      <td>12:30</td>\n",
       "      <td>Premier League</td>\n",
       "      <td>Matchweek 1</td>\n",
       "      <td>Sat</td>\n",
       "      <td>Home</td>\n",
       "      <td>W</td>\n",
       "      <td>2</td>\n",
       "      <td>1</td>\n",
       "      <td>Nott'ham Forest</td>\n",
       "      <td>0.8</td>\n",
       "      <td>1.2</td>\n",
       "      <td>78.0</td>\n",
       "      <td>59984.0</td>\n",
       "      <td>Martin Ødegaard</td>\n",
       "      <td>4-3-3</td>\n",
       "      <td>Michael Oliver</td>\n",
       "      <td>Match Report</td>\n",
       "      <td>NaN</td>\n",
       "    </tr>\n",
       "    <tr>\n",
       "      <th>2</th>\n",
       "      <td>2023-08-21</td>\n",
       "      <td>20:00</td>\n",
       "      <td>Premier League</td>\n",
       "      <td>Matchweek 2</td>\n",
       "      <td>Mon</td>\n",
       "      <td>Away</td>\n",
       "      <td>W</td>\n",
       "      <td>1</td>\n",
       "      <td>0</td>\n",
       "      <td>Crystal Palace</td>\n",
       "      <td>2.0</td>\n",
       "      <td>1.0</td>\n",
       "      <td>53.0</td>\n",
       "      <td>24189.0</td>\n",
       "      <td>Martin Ødegaard</td>\n",
       "      <td>4-3-3</td>\n",
       "      <td>David Coote</td>\n",
       "      <td>Match Report</td>\n",
       "      <td>NaN</td>\n",
       "    </tr>\n",
       "    <tr>\n",
       "      <th>3</th>\n",
       "      <td>2023-08-26</td>\n",
       "      <td>15:00</td>\n",
       "      <td>Premier League</td>\n",
       "      <td>Matchweek 3</td>\n",
       "      <td>Sat</td>\n",
       "      <td>Home</td>\n",
       "      <td>D</td>\n",
       "      <td>2</td>\n",
       "      <td>2</td>\n",
       "      <td>Fulham</td>\n",
       "      <td>3.2</td>\n",
       "      <td>0.6</td>\n",
       "      <td>71.0</td>\n",
       "      <td>59961.0</td>\n",
       "      <td>Martin Ødegaard</td>\n",
       "      <td>4-3-3</td>\n",
       "      <td>Paul Tierney</td>\n",
       "      <td>Match Report</td>\n",
       "      <td>NaN</td>\n",
       "    </tr>\n",
       "    <tr>\n",
       "      <th>4</th>\n",
       "      <td>2023-09-03</td>\n",
       "      <td>16:30</td>\n",
       "      <td>Premier League</td>\n",
       "      <td>Matchweek 4</td>\n",
       "      <td>Sun</td>\n",
       "      <td>Home</td>\n",
       "      <td>W</td>\n",
       "      <td>3</td>\n",
       "      <td>1</td>\n",
       "      <td>Manchester Utd</td>\n",
       "      <td>2.3</td>\n",
       "      <td>0.9</td>\n",
       "      <td>55.0</td>\n",
       "      <td>60192.0</td>\n",
       "      <td>Martin Ødegaard</td>\n",
       "      <td>4-3-3</td>\n",
       "      <td>Anthony Taylor</td>\n",
       "      <td>Match Report</td>\n",
       "      <td>NaN</td>\n",
       "    </tr>\n",
       "  </tbody>\n",
       "</table>\n",
       "</div>"
      ],
      "text/plain": [
       "         Date   Time              Comp                Round  Day    Venue  \\\n",
       "0  2023-08-06  16:00  Community Shield  FA Community Shield  Sun  Neutral   \n",
       "1  2023-08-12  12:30    Premier League          Matchweek 1  Sat     Home   \n",
       "2  2023-08-21  20:00    Premier League          Matchweek 2  Mon     Away   \n",
       "3  2023-08-26  15:00    Premier League          Matchweek 3  Sat     Home   \n",
       "4  2023-09-03  16:30    Premier League          Matchweek 4  Sun     Home   \n",
       "\n",
       "  Result     GF     GA         Opponent   xG  xGA  Poss  Attendance  \\\n",
       "0      D  1 (4)  1 (1)  Manchester City  NaN  NaN  45.0     81145.0   \n",
       "1      W      2      1  Nott'ham Forest  0.8  1.2  78.0     59984.0   \n",
       "2      W      1      0   Crystal Palace  2.0  1.0  53.0     24189.0   \n",
       "3      D      2      2           Fulham  3.2  0.6  71.0     59961.0   \n",
       "4      W      3      1   Manchester Utd  2.3  0.9  55.0     60192.0   \n",
       "\n",
       "           Captain Formation         Referee  Match Report  \\\n",
       "0  Martin Ødegaard     4-3-3  Stuart Attwell  Match Report   \n",
       "1  Martin Ødegaard     4-3-3  Michael Oliver  Match Report   \n",
       "2  Martin Ødegaard     4-3-3     David Coote  Match Report   \n",
       "3  Martin Ødegaard     4-3-3    Paul Tierney  Match Report   \n",
       "4  Martin Ødegaard     4-3-3  Anthony Taylor  Match Report   \n",
       "\n",
       "                                               Notes  \n",
       "0  Arsenal won on penalty kicks following normal ...  \n",
       "1                                                NaN  \n",
       "2                                                NaN  \n",
       "3                                                NaN  \n",
       "4                                                NaN  "
      ]
     },
     "execution_count": 13,
     "metadata": {},
     "output_type": "execute_result"
    }
   ],
   "source": [
    "matches.head()"
   ]
  },
  {
   "cell_type": "code",
   "execution_count": 14,
   "metadata": {},
   "outputs": [],
   "source": [
    "soup = bs(data.text)"
   ]
  },
  {
   "cell_type": "code",
   "execution_count": 15,
   "metadata": {},
   "outputs": [],
   "source": [
    "links = soup.find_all('a')"
   ]
  },
  {
   "cell_type": "code",
   "execution_count": 16,
   "metadata": {},
   "outputs": [],
   "source": [
    "links = [l.get('href') for l in links]"
   ]
  },
  {
   "cell_type": "code",
   "execution_count": 17,
   "metadata": {},
   "outputs": [],
   "source": [
    "links = [l for l in links if l and '/matchlogs/all_comps/shooting/' in l]"
   ]
  },
  {
   "cell_type": "code",
   "execution_count": 18,
   "metadata": {},
   "outputs": [],
   "source": [
    "mc_shooting_url = links[0]"
   ]
  },
  {
   "cell_type": "code",
   "execution_count": 19,
   "metadata": {},
   "outputs": [],
   "source": [
    "data = requests.get(f\"https://fbref.com{links[0]}\")"
   ]
  },
  {
   "cell_type": "code",
   "execution_count": 16,
   "metadata": {},
   "outputs": [
    {
     "name": "stderr",
     "output_type": "stream",
     "text": [
      "/var/folders/mq/07ht7frx6vn8rjnw4vfpptvr0000gp/T/ipykernel_19674/2517714723.py:1: FutureWarning: Passing literal html to 'read_html' is deprecated and will be removed in a future version. To read from a literal string, wrap it in a 'StringIO' object.\n",
      "  shooting = pd.read_html(data.text, match=\"Shooting\")[0]\n"
     ]
    }
   ],
   "source": [
    "shooting = pd.read_html(data.text, match=\"Shooting\")[0]"
   ]
  },
  {
   "cell_type": "code",
   "execution_count": 17,
   "metadata": {},
   "outputs": [],
   "source": [
    "shooting.columns = shooting.columns.droplevel()"
   ]
  },
  {
   "cell_type": "code",
   "execution_count": 22,
   "metadata": {},
   "outputs": [
    {
     "data": {
      "text/html": [
       "<div>\n",
       "<style scoped>\n",
       "    .dataframe tbody tr th:only-of-type {\n",
       "        vertical-align: middle;\n",
       "    }\n",
       "\n",
       "    .dataframe tbody tr th {\n",
       "        vertical-align: top;\n",
       "    }\n",
       "\n",
       "    .dataframe thead th {\n",
       "        text-align: right;\n",
       "    }\n",
       "</style>\n",
       "<table border=\"1\" class=\"dataframe\">\n",
       "  <thead>\n",
       "    <tr style=\"text-align: right;\">\n",
       "      <th></th>\n",
       "      <th>Date</th>\n",
       "      <th>Time</th>\n",
       "      <th>Comp</th>\n",
       "      <th>Round</th>\n",
       "      <th>Day</th>\n",
       "      <th>Venue</th>\n",
       "      <th>Result</th>\n",
       "      <th>GF</th>\n",
       "      <th>GA</th>\n",
       "      <th>Opponent</th>\n",
       "      <th>...</th>\n",
       "      <th>Dist</th>\n",
       "      <th>FK</th>\n",
       "      <th>PK</th>\n",
       "      <th>PKatt</th>\n",
       "      <th>xG</th>\n",
       "      <th>npxG</th>\n",
       "      <th>npxG/Sh</th>\n",
       "      <th>G-xG</th>\n",
       "      <th>np:G-xG</th>\n",
       "      <th>Match Report</th>\n",
       "    </tr>\n",
       "  </thead>\n",
       "  <tbody>\n",
       "    <tr>\n",
       "      <th>0</th>\n",
       "      <td>2023-08-06</td>\n",
       "      <td>16:00</td>\n",
       "      <td>Community Shield</td>\n",
       "      <td>FA Community Shield</td>\n",
       "      <td>Sun</td>\n",
       "      <td>Neutral</td>\n",
       "      <td>D</td>\n",
       "      <td>1 (4)</td>\n",
       "      <td>1 (1)</td>\n",
       "      <td>Manchester City</td>\n",
       "      <td>...</td>\n",
       "      <td>NaN</td>\n",
       "      <td>NaN</td>\n",
       "      <td>0</td>\n",
       "      <td>0</td>\n",
       "      <td>NaN</td>\n",
       "      <td>NaN</td>\n",
       "      <td>NaN</td>\n",
       "      <td>NaN</td>\n",
       "      <td>NaN</td>\n",
       "      <td>Match Report</td>\n",
       "    </tr>\n",
       "    <tr>\n",
       "      <th>1</th>\n",
       "      <td>2023-08-12</td>\n",
       "      <td>12:30</td>\n",
       "      <td>Premier League</td>\n",
       "      <td>Matchweek 1</td>\n",
       "      <td>Sat</td>\n",
       "      <td>Home</td>\n",
       "      <td>W</td>\n",
       "      <td>2</td>\n",
       "      <td>1</td>\n",
       "      <td>Nott'ham Forest</td>\n",
       "      <td>...</td>\n",
       "      <td>19.1</td>\n",
       "      <td>0.0</td>\n",
       "      <td>0</td>\n",
       "      <td>0</td>\n",
       "      <td>0.8</td>\n",
       "      <td>0.8</td>\n",
       "      <td>0.06</td>\n",
       "      <td>1.2</td>\n",
       "      <td>1.2</td>\n",
       "      <td>Match Report</td>\n",
       "    </tr>\n",
       "    <tr>\n",
       "      <th>2</th>\n",
       "      <td>2023-08-21</td>\n",
       "      <td>20:00</td>\n",
       "      <td>Premier League</td>\n",
       "      <td>Matchweek 2</td>\n",
       "      <td>Mon</td>\n",
       "      <td>Away</td>\n",
       "      <td>W</td>\n",
       "      <td>1</td>\n",
       "      <td>0</td>\n",
       "      <td>Crystal Palace</td>\n",
       "      <td>...</td>\n",
       "      <td>16.4</td>\n",
       "      <td>0.0</td>\n",
       "      <td>1</td>\n",
       "      <td>1</td>\n",
       "      <td>2.0</td>\n",
       "      <td>1.2</td>\n",
       "      <td>0.09</td>\n",
       "      <td>-1.0</td>\n",
       "      <td>-1.2</td>\n",
       "      <td>Match Report</td>\n",
       "    </tr>\n",
       "    <tr>\n",
       "      <th>3</th>\n",
       "      <td>2023-08-26</td>\n",
       "      <td>15:00</td>\n",
       "      <td>Premier League</td>\n",
       "      <td>Matchweek 3</td>\n",
       "      <td>Sat</td>\n",
       "      <td>Home</td>\n",
       "      <td>D</td>\n",
       "      <td>2</td>\n",
       "      <td>2</td>\n",
       "      <td>Fulham</td>\n",
       "      <td>...</td>\n",
       "      <td>13.8</td>\n",
       "      <td>0.0</td>\n",
       "      <td>1</td>\n",
       "      <td>1</td>\n",
       "      <td>3.2</td>\n",
       "      <td>2.4</td>\n",
       "      <td>0.14</td>\n",
       "      <td>-1.2</td>\n",
       "      <td>-1.4</td>\n",
       "      <td>Match Report</td>\n",
       "    </tr>\n",
       "    <tr>\n",
       "      <th>4</th>\n",
       "      <td>2023-09-03</td>\n",
       "      <td>16:30</td>\n",
       "      <td>Premier League</td>\n",
       "      <td>Matchweek 4</td>\n",
       "      <td>Sun</td>\n",
       "      <td>Home</td>\n",
       "      <td>W</td>\n",
       "      <td>3</td>\n",
       "      <td>1</td>\n",
       "      <td>Manchester Utd</td>\n",
       "      <td>...</td>\n",
       "      <td>15.0</td>\n",
       "      <td>0.0</td>\n",
       "      <td>0</td>\n",
       "      <td>0</td>\n",
       "      <td>2.3</td>\n",
       "      <td>2.3</td>\n",
       "      <td>0.13</td>\n",
       "      <td>0.7</td>\n",
       "      <td>0.7</td>\n",
       "      <td>Match Report</td>\n",
       "    </tr>\n",
       "  </tbody>\n",
       "</table>\n",
       "<p>5 rows × 26 columns</p>\n",
       "</div>"
      ],
      "text/plain": [
       "         Date   Time              Comp                Round  Day    Venue  \\\n",
       "0  2023-08-06  16:00  Community Shield  FA Community Shield  Sun  Neutral   \n",
       "1  2023-08-12  12:30    Premier League          Matchweek 1  Sat     Home   \n",
       "2  2023-08-21  20:00    Premier League          Matchweek 2  Mon     Away   \n",
       "3  2023-08-26  15:00    Premier League          Matchweek 3  Sat     Home   \n",
       "4  2023-09-03  16:30    Premier League          Matchweek 4  Sun     Home   \n",
       "\n",
       "  Result     GF     GA         Opponent  ...  Dist   FK  PK  PKatt   xG  npxG  \\\n",
       "0      D  1 (4)  1 (1)  Manchester City  ...   NaN  NaN   0      0  NaN   NaN   \n",
       "1      W      2      1  Nott'ham Forest  ...  19.1  0.0   0      0  0.8   0.8   \n",
       "2      W      1      0   Crystal Palace  ...  16.4  0.0   1      1  2.0   1.2   \n",
       "3      D      2      2           Fulham  ...  13.8  0.0   1      1  3.2   2.4   \n",
       "4      W      3      1   Manchester Utd  ...  15.0  0.0   0      0  2.3   2.3   \n",
       "\n",
       "   npxG/Sh  G-xG  np:G-xG  Match Report  \n",
       "0      NaN   NaN      NaN  Match Report  \n",
       "1     0.06   1.2      1.2  Match Report  \n",
       "2     0.09  -1.0     -1.2  Match Report  \n",
       "3     0.14  -1.2     -1.4  Match Report  \n",
       "4     0.13   0.7      0.7  Match Report  \n",
       "\n",
       "[5 rows x 26 columns]"
      ]
     },
     "execution_count": 22,
     "metadata": {},
     "output_type": "execute_result"
    }
   ],
   "source": [
    "shooting.head()"
   ]
  },
  {
   "cell_type": "code",
   "execution_count": 2,
   "metadata": {},
   "outputs": [
    {
     "ename": "NameError",
     "evalue": "name 'shooting' is not defined",
     "output_type": "error",
     "traceback": [
      "\u001b[0;31m---------------------------------------------------------------------------\u001b[0m",
      "\u001b[0;31mNameError\u001b[0m                                 Traceback (most recent call last)",
      "Cell \u001b[0;32mIn[2], line 1\u001b[0m\n\u001b[0;32m----> 1\u001b[0m \u001b[43mshooting\u001b[49m\u001b[38;5;241m.\u001b[39mcolumns\n",
      "\u001b[0;31mNameError\u001b[0m: name 'shooting' is not defined"
     ]
    }
   ],
   "source": [
    "shooting.columns"
   ]
  },
  {
   "cell_type": "code",
   "execution_count": 23,
   "metadata": {},
   "outputs": [],
   "source": [
    "team_data = matches.merge(shooting[['Date', 'Sh', 'SoT', 'Dist', 'FK', 'PK', 'PKatt']], on='Date')"
   ]
  },
  {
   "cell_type": "code",
   "execution_count": 24,
   "metadata": {},
   "outputs": [
    {
     "data": {
      "text/plain": [
       "(47, 19)"
      ]
     },
     "execution_count": 24,
     "metadata": {},
     "output_type": "execute_result"
    }
   ],
   "source": [
    "matches.shape"
   ]
  },
  {
   "cell_type": "code",
   "execution_count": 25,
   "metadata": {},
   "outputs": [
    {
     "data": {
      "text/plain": [
       "(23, 26)"
      ]
     },
     "execution_count": 25,
     "metadata": {},
     "output_type": "execute_result"
    }
   ],
   "source": [
    "shooting.shape"
   ]
  },
  {
   "cell_type": "code",
   "execution_count": 26,
   "metadata": {},
   "outputs": [
    {
     "data": {
      "text/plain": [
       "(22, 25)"
      ]
     },
     "execution_count": 26,
     "metadata": {},
     "output_type": "execute_result"
    }
   ],
   "source": [
    "team_data.shape"
   ]
  },
  {
   "cell_type": "code",
   "execution_count": 27,
   "metadata": {},
   "outputs": [],
   "source": [
    "years = list(range(2023,2019,-1))"
   ]
  },
  {
   "cell_type": "code",
   "execution_count": 28,
   "metadata": {},
   "outputs": [],
   "source": [
    "all_matches = []"
   ]
  },
  {
   "cell_type": "code",
   "execution_count": 29,
   "metadata": {},
   "outputs": [
    {
     "name": "stderr",
     "output_type": "stream",
     "text": [
      "/var/folders/mq/07ht7frx6vn8rjnw4vfpptvr0000gp/T/ipykernel_2842/3926472445.py:19: FutureWarning: Passing literal html to 'read_html' is deprecated and will be removed in a future version. To read from a literal string, wrap it in a 'StringIO' object.\n",
      "  matches = pd.read_html(data.text, match='Scores & Fixtures')[0]\n"
     ]
    },
    {
     "name": "stdout",
     "output_type": "stream",
     "text": [
      "https://fbref.com/en/squads/18bb7c10/2023-2024/matchlogs/all_comps/shooting/Arsenal-Match-Logs-All-Competitions\n"
     ]
    },
    {
     "name": "stderr",
     "output_type": "stream",
     "text": [
      "/var/folders/mq/07ht7frx6vn8rjnw4vfpptvr0000gp/T/ipykernel_2842/3926472445.py:26: FutureWarning: Passing literal html to 'read_html' is deprecated and will be removed in a future version. To read from a literal string, wrap it in a 'StringIO' object.\n",
      "  shooting = pd.read_html(data.text, match='Shooting')[0]\n",
      "/var/folders/mq/07ht7frx6vn8rjnw4vfpptvr0000gp/T/ipykernel_2842/3926472445.py:19: FutureWarning: Passing literal html to 'read_html' is deprecated and will be removed in a future version. To read from a literal string, wrap it in a 'StringIO' object.\n",
      "  matches = pd.read_html(data.text, match='Scores & Fixtures')[0]\n"
     ]
    },
    {
     "name": "stdout",
     "output_type": "stream",
     "text": [
      "https://fbref.com/en/squads/822bd0ba/2023-2024/matchlogs/all_comps/shooting/Liverpool-Match-Logs-All-Competitions\n"
     ]
    },
    {
     "name": "stderr",
     "output_type": "stream",
     "text": [
      "/var/folders/mq/07ht7frx6vn8rjnw4vfpptvr0000gp/T/ipykernel_2842/3926472445.py:26: FutureWarning: Passing literal html to 'read_html' is deprecated and will be removed in a future version. To read from a literal string, wrap it in a 'StringIO' object.\n",
      "  shooting = pd.read_html(data.text, match='Shooting')[0]\n",
      "/var/folders/mq/07ht7frx6vn8rjnw4vfpptvr0000gp/T/ipykernel_2842/3926472445.py:19: FutureWarning: Passing literal html to 'read_html' is deprecated and will be removed in a future version. To read from a literal string, wrap it in a 'StringIO' object.\n",
      "  matches = pd.read_html(data.text, match='Scores & Fixtures')[0]\n"
     ]
    },
    {
     "name": "stdout",
     "output_type": "stream",
     "text": [
      "https://fbref.com/en/squads/b8fd03ef/2023-2024/matchlogs/all_comps/shooting/Manchester-City-Match-Logs-All-Competitions\n"
     ]
    },
    {
     "name": "stderr",
     "output_type": "stream",
     "text": [
      "/var/folders/mq/07ht7frx6vn8rjnw4vfpptvr0000gp/T/ipykernel_2842/3926472445.py:26: FutureWarning: Passing literal html to 'read_html' is deprecated and will be removed in a future version. To read from a literal string, wrap it in a 'StringIO' object.\n",
      "  shooting = pd.read_html(data.text, match='Shooting')[0]\n",
      "/var/folders/mq/07ht7frx6vn8rjnw4vfpptvr0000gp/T/ipykernel_2842/3926472445.py:19: FutureWarning: Passing literal html to 'read_html' is deprecated and will be removed in a future version. To read from a literal string, wrap it in a 'StringIO' object.\n",
      "  matches = pd.read_html(data.text, match='Scores & Fixtures')[0]\n"
     ]
    },
    {
     "name": "stdout",
     "output_type": "stream",
     "text": [
      "https://fbref.com/en/squads/8602292d/2023-2024/matchlogs/all_comps/shooting/Aston-Villa-Match-Logs-All-Competitions\n"
     ]
    },
    {
     "name": "stderr",
     "output_type": "stream",
     "text": [
      "/var/folders/mq/07ht7frx6vn8rjnw4vfpptvr0000gp/T/ipykernel_2842/3926472445.py:26: FutureWarning: Passing literal html to 'read_html' is deprecated and will be removed in a future version. To read from a literal string, wrap it in a 'StringIO' object.\n",
      "  shooting = pd.read_html(data.text, match='Shooting')[0]\n",
      "/var/folders/mq/07ht7frx6vn8rjnw4vfpptvr0000gp/T/ipykernel_2842/3926472445.py:19: FutureWarning: Passing literal html to 'read_html' is deprecated and will be removed in a future version. To read from a literal string, wrap it in a 'StringIO' object.\n",
      "  matches = pd.read_html(data.text, match='Scores & Fixtures')[0]\n"
     ]
    },
    {
     "name": "stdout",
     "output_type": "stream",
     "text": [
      "https://fbref.com/en/squads/361ca564/2023-2024/matchlogs/all_comps/shooting/Tottenham-Hotspur-Match-Logs-All-Competitions\n"
     ]
    },
    {
     "name": "stderr",
     "output_type": "stream",
     "text": [
      "/var/folders/mq/07ht7frx6vn8rjnw4vfpptvr0000gp/T/ipykernel_2842/3926472445.py:26: FutureWarning: Passing literal html to 'read_html' is deprecated and will be removed in a future version. To read from a literal string, wrap it in a 'StringIO' object.\n",
      "  shooting = pd.read_html(data.text, match='Shooting')[0]\n",
      "/var/folders/mq/07ht7frx6vn8rjnw4vfpptvr0000gp/T/ipykernel_2842/3926472445.py:19: FutureWarning: Passing literal html to 'read_html' is deprecated and will be removed in a future version. To read from a literal string, wrap it in a 'StringIO' object.\n",
      "  matches = pd.read_html(data.text, match='Scores & Fixtures')[0]\n"
     ]
    },
    {
     "name": "stdout",
     "output_type": "stream",
     "text": [
      "https://fbref.com/en/squads/b2b47a98/2023-2024/matchlogs/all_comps/shooting/Newcastle-United-Match-Logs-All-Competitions\n"
     ]
    },
    {
     "name": "stderr",
     "output_type": "stream",
     "text": [
      "/var/folders/mq/07ht7frx6vn8rjnw4vfpptvr0000gp/T/ipykernel_2842/3926472445.py:26: FutureWarning: Passing literal html to 'read_html' is deprecated and will be removed in a future version. To read from a literal string, wrap it in a 'StringIO' object.\n",
      "  shooting = pd.read_html(data.text, match='Shooting')[0]\n",
      "/var/folders/mq/07ht7frx6vn8rjnw4vfpptvr0000gp/T/ipykernel_2842/3926472445.py:19: FutureWarning: Passing literal html to 'read_html' is deprecated and will be removed in a future version. To read from a literal string, wrap it in a 'StringIO' object.\n",
      "  matches = pd.read_html(data.text, match='Scores & Fixtures')[0]\n"
     ]
    },
    {
     "name": "stdout",
     "output_type": "stream",
     "text": [
      "https://fbref.com/en/squads/19538871/2023-2024/matchlogs/all_comps/shooting/Manchester-United-Match-Logs-All-Competitions\n"
     ]
    },
    {
     "name": "stderr",
     "output_type": "stream",
     "text": [
      "/var/folders/mq/07ht7frx6vn8rjnw4vfpptvr0000gp/T/ipykernel_2842/3926472445.py:26: FutureWarning: Passing literal html to 'read_html' is deprecated and will be removed in a future version. To read from a literal string, wrap it in a 'StringIO' object.\n",
      "  shooting = pd.read_html(data.text, match='Shooting')[0]\n",
      "/var/folders/mq/07ht7frx6vn8rjnw4vfpptvr0000gp/T/ipykernel_2842/3926472445.py:19: FutureWarning: Passing literal html to 'read_html' is deprecated and will be removed in a future version. To read from a literal string, wrap it in a 'StringIO' object.\n",
      "  matches = pd.read_html(data.text, match='Scores & Fixtures')[0]\n"
     ]
    },
    {
     "name": "stdout",
     "output_type": "stream",
     "text": [
      "https://fbref.com/en/squads/d07537b9/2023-2024/matchlogs/all_comps/shooting/Brighton-and-Hove-Albion-Match-Logs-All-Competitions\n"
     ]
    },
    {
     "name": "stderr",
     "output_type": "stream",
     "text": [
      "/var/folders/mq/07ht7frx6vn8rjnw4vfpptvr0000gp/T/ipykernel_2842/3926472445.py:26: FutureWarning: Passing literal html to 'read_html' is deprecated and will be removed in a future version. To read from a literal string, wrap it in a 'StringIO' object.\n",
      "  shooting = pd.read_html(data.text, match='Shooting')[0]\n",
      "/var/folders/mq/07ht7frx6vn8rjnw4vfpptvr0000gp/T/ipykernel_2842/3926472445.py:19: FutureWarning: Passing literal html to 'read_html' is deprecated and will be removed in a future version. To read from a literal string, wrap it in a 'StringIO' object.\n",
      "  matches = pd.read_html(data.text, match='Scores & Fixtures')[0]\n"
     ]
    },
    {
     "name": "stdout",
     "output_type": "stream",
     "text": [
      "https://fbref.com/en/squads/7c21e445/2023-2024/matchlogs/all_comps/shooting/West-Ham-United-Match-Logs-All-Competitions\n"
     ]
    },
    {
     "name": "stderr",
     "output_type": "stream",
     "text": [
      "/var/folders/mq/07ht7frx6vn8rjnw4vfpptvr0000gp/T/ipykernel_2842/3926472445.py:26: FutureWarning: Passing literal html to 'read_html' is deprecated and will be removed in a future version. To read from a literal string, wrap it in a 'StringIO' object.\n",
      "  shooting = pd.read_html(data.text, match='Shooting')[0]\n",
      "/var/folders/mq/07ht7frx6vn8rjnw4vfpptvr0000gp/T/ipykernel_2842/3926472445.py:19: FutureWarning: Passing literal html to 'read_html' is deprecated and will be removed in a future version. To read from a literal string, wrap it in a 'StringIO' object.\n",
      "  matches = pd.read_html(data.text, match='Scores & Fixtures')[0]\n"
     ]
    },
    {
     "name": "stdout",
     "output_type": "stream",
     "text": [
      "https://fbref.com/en/squads/cff3d9bb/2023-2024/matchlogs/all_comps/shooting/Chelsea-Match-Logs-All-Competitions\n"
     ]
    },
    {
     "name": "stderr",
     "output_type": "stream",
     "text": [
      "/var/folders/mq/07ht7frx6vn8rjnw4vfpptvr0000gp/T/ipykernel_2842/3926472445.py:26: FutureWarning: Passing literal html to 'read_html' is deprecated and will be removed in a future version. To read from a literal string, wrap it in a 'StringIO' object.\n",
      "  shooting = pd.read_html(data.text, match='Shooting')[0]\n",
      "/var/folders/mq/07ht7frx6vn8rjnw4vfpptvr0000gp/T/ipykernel_2842/3926472445.py:19: FutureWarning: Passing literal html to 'read_html' is deprecated and will be removed in a future version. To read from a literal string, wrap it in a 'StringIO' object.\n",
      "  matches = pd.read_html(data.text, match='Scores & Fixtures')[0]\n"
     ]
    },
    {
     "name": "stdout",
     "output_type": "stream",
     "text": [
      "https://fbref.com/en/squads/cd051869/2023-2024/matchlogs/all_comps/shooting/Brentford-Match-Logs-All-Competitions\n"
     ]
    },
    {
     "name": "stderr",
     "output_type": "stream",
     "text": [
      "/var/folders/mq/07ht7frx6vn8rjnw4vfpptvr0000gp/T/ipykernel_2842/3926472445.py:26: FutureWarning: Passing literal html to 'read_html' is deprecated and will be removed in a future version. To read from a literal string, wrap it in a 'StringIO' object.\n",
      "  shooting = pd.read_html(data.text, match='Shooting')[0]\n",
      "/var/folders/mq/07ht7frx6vn8rjnw4vfpptvr0000gp/T/ipykernel_2842/3926472445.py:19: FutureWarning: Passing literal html to 'read_html' is deprecated and will be removed in a future version. To read from a literal string, wrap it in a 'StringIO' object.\n",
      "  matches = pd.read_html(data.text, match='Scores & Fixtures')[0]\n"
     ]
    },
    {
     "name": "stdout",
     "output_type": "stream",
     "text": [
      "https://fbref.com/en/squads/47c64c55/2023-2024/matchlogs/all_comps/shooting/Crystal-Palace-Match-Logs-All-Competitions\n"
     ]
    },
    {
     "name": "stderr",
     "output_type": "stream",
     "text": [
      "/var/folders/mq/07ht7frx6vn8rjnw4vfpptvr0000gp/T/ipykernel_2842/3926472445.py:26: FutureWarning: Passing literal html to 'read_html' is deprecated and will be removed in a future version. To read from a literal string, wrap it in a 'StringIO' object.\n",
      "  shooting = pd.read_html(data.text, match='Shooting')[0]\n",
      "/var/folders/mq/07ht7frx6vn8rjnw4vfpptvr0000gp/T/ipykernel_2842/3926472445.py:19: FutureWarning: Passing literal html to 'read_html' is deprecated and will be removed in a future version. To read from a literal string, wrap it in a 'StringIO' object.\n",
      "  matches = pd.read_html(data.text, match='Scores & Fixtures')[0]\n"
     ]
    },
    {
     "name": "stdout",
     "output_type": "stream",
     "text": [
      "https://fbref.com/en/squads/8cec06e1/2023-2024/matchlogs/all_comps/shooting/Wolverhampton-Wanderers-Match-Logs-All-Competitions\n"
     ]
    },
    {
     "name": "stderr",
     "output_type": "stream",
     "text": [
      "/var/folders/mq/07ht7frx6vn8rjnw4vfpptvr0000gp/T/ipykernel_2842/3926472445.py:26: FutureWarning: Passing literal html to 'read_html' is deprecated and will be removed in a future version. To read from a literal string, wrap it in a 'StringIO' object.\n",
      "  shooting = pd.read_html(data.text, match='Shooting')[0]\n",
      "/var/folders/mq/07ht7frx6vn8rjnw4vfpptvr0000gp/T/ipykernel_2842/3926472445.py:19: FutureWarning: Passing literal html to 'read_html' is deprecated and will be removed in a future version. To read from a literal string, wrap it in a 'StringIO' object.\n",
      "  matches = pd.read_html(data.text, match='Scores & Fixtures')[0]\n"
     ]
    },
    {
     "name": "stdout",
     "output_type": "stream",
     "text": [
      "https://fbref.com/en/squads/fd962109/2023-2024/matchlogs/all_comps/shooting/Fulham-Match-Logs-All-Competitions\n"
     ]
    },
    {
     "name": "stderr",
     "output_type": "stream",
     "text": [
      "/var/folders/mq/07ht7frx6vn8rjnw4vfpptvr0000gp/T/ipykernel_2842/3926472445.py:26: FutureWarning: Passing literal html to 'read_html' is deprecated and will be removed in a future version. To read from a literal string, wrap it in a 'StringIO' object.\n",
      "  shooting = pd.read_html(data.text, match='Shooting')[0]\n",
      "/var/folders/mq/07ht7frx6vn8rjnw4vfpptvr0000gp/T/ipykernel_2842/3926472445.py:19: FutureWarning: Passing literal html to 'read_html' is deprecated and will be removed in a future version. To read from a literal string, wrap it in a 'StringIO' object.\n",
      "  matches = pd.read_html(data.text, match='Scores & Fixtures')[0]\n"
     ]
    },
    {
     "name": "stdout",
     "output_type": "stream",
     "text": [
      "https://fbref.com/en/squads/e4a775cb/2023-2024/matchlogs/all_comps/shooting/Nottingham-Forest-Match-Logs-All-Competitions\n"
     ]
    },
    {
     "name": "stderr",
     "output_type": "stream",
     "text": [
      "/var/folders/mq/07ht7frx6vn8rjnw4vfpptvr0000gp/T/ipykernel_2842/3926472445.py:26: FutureWarning: Passing literal html to 'read_html' is deprecated and will be removed in a future version. To read from a literal string, wrap it in a 'StringIO' object.\n",
      "  shooting = pd.read_html(data.text, match='Shooting')[0]\n",
      "/var/folders/mq/07ht7frx6vn8rjnw4vfpptvr0000gp/T/ipykernel_2842/3926472445.py:19: FutureWarning: Passing literal html to 'read_html' is deprecated and will be removed in a future version. To read from a literal string, wrap it in a 'StringIO' object.\n",
      "  matches = pd.read_html(data.text, match='Scores & Fixtures')[0]\n"
     ]
    },
    {
     "name": "stdout",
     "output_type": "stream",
     "text": [
      "https://fbref.com/en/squads/4ba7cbea/2023-2024/matchlogs/all_comps/shooting/Bournemouth-Match-Logs-All-Competitions\n"
     ]
    },
    {
     "name": "stderr",
     "output_type": "stream",
     "text": [
      "/var/folders/mq/07ht7frx6vn8rjnw4vfpptvr0000gp/T/ipykernel_2842/3926472445.py:26: FutureWarning: Passing literal html to 'read_html' is deprecated and will be removed in a future version. To read from a literal string, wrap it in a 'StringIO' object.\n",
      "  shooting = pd.read_html(data.text, match='Shooting')[0]\n",
      "/var/folders/mq/07ht7frx6vn8rjnw4vfpptvr0000gp/T/ipykernel_2842/3926472445.py:19: FutureWarning: Passing literal html to 'read_html' is deprecated and will be removed in a future version. To read from a literal string, wrap it in a 'StringIO' object.\n",
      "  matches = pd.read_html(data.text, match='Scores & Fixtures')[0]\n"
     ]
    },
    {
     "name": "stdout",
     "output_type": "stream",
     "text": [
      "https://fbref.com/en/squads/e297cd13/2023-2024/matchlogs/all_comps/shooting/Luton-Town-Match-Logs-All-Competitions\n"
     ]
    },
    {
     "name": "stderr",
     "output_type": "stream",
     "text": [
      "/var/folders/mq/07ht7frx6vn8rjnw4vfpptvr0000gp/T/ipykernel_2842/3926472445.py:26: FutureWarning: Passing literal html to 'read_html' is deprecated and will be removed in a future version. To read from a literal string, wrap it in a 'StringIO' object.\n",
      "  shooting = pd.read_html(data.text, match='Shooting')[0]\n",
      "/var/folders/mq/07ht7frx6vn8rjnw4vfpptvr0000gp/T/ipykernel_2842/3926472445.py:19: FutureWarning: Passing literal html to 'read_html' is deprecated and will be removed in a future version. To read from a literal string, wrap it in a 'StringIO' object.\n",
      "  matches = pd.read_html(data.text, match='Scores & Fixtures')[0]\n"
     ]
    },
    {
     "name": "stdout",
     "output_type": "stream",
     "text": [
      "https://fbref.com/en/squads/d3fd31cc/2023-2024/matchlogs/all_comps/shooting/Everton-Match-Logs-All-Competitions\n"
     ]
    },
    {
     "name": "stderr",
     "output_type": "stream",
     "text": [
      "/var/folders/mq/07ht7frx6vn8rjnw4vfpptvr0000gp/T/ipykernel_2842/3926472445.py:26: FutureWarning: Passing literal html to 'read_html' is deprecated and will be removed in a future version. To read from a literal string, wrap it in a 'StringIO' object.\n",
      "  shooting = pd.read_html(data.text, match='Shooting')[0]\n",
      "/var/folders/mq/07ht7frx6vn8rjnw4vfpptvr0000gp/T/ipykernel_2842/3926472445.py:19: FutureWarning: Passing literal html to 'read_html' is deprecated and will be removed in a future version. To read from a literal string, wrap it in a 'StringIO' object.\n",
      "  matches = pd.read_html(data.text, match='Scores & Fixtures')[0]\n"
     ]
    },
    {
     "name": "stdout",
     "output_type": "stream",
     "text": [
      "https://fbref.com/en/squads/943e8050/2023-2024/matchlogs/all_comps/shooting/Burnley-Match-Logs-All-Competitions\n"
     ]
    },
    {
     "name": "stderr",
     "output_type": "stream",
     "text": [
      "/var/folders/mq/07ht7frx6vn8rjnw4vfpptvr0000gp/T/ipykernel_2842/3926472445.py:26: FutureWarning: Passing literal html to 'read_html' is deprecated and will be removed in a future version. To read from a literal string, wrap it in a 'StringIO' object.\n",
      "  shooting = pd.read_html(data.text, match='Shooting')[0]\n",
      "/var/folders/mq/07ht7frx6vn8rjnw4vfpptvr0000gp/T/ipykernel_2842/3926472445.py:19: FutureWarning: Passing literal html to 'read_html' is deprecated and will be removed in a future version. To read from a literal string, wrap it in a 'StringIO' object.\n",
      "  matches = pd.read_html(data.text, match='Scores & Fixtures')[0]\n"
     ]
    },
    {
     "name": "stdout",
     "output_type": "stream",
     "text": [
      "https://fbref.com/en/squads/1df6b87e/2023-2024/matchlogs/all_comps/shooting/Sheffield-United-Match-Logs-All-Competitions\n"
     ]
    },
    {
     "name": "stderr",
     "output_type": "stream",
     "text": [
      "/var/folders/mq/07ht7frx6vn8rjnw4vfpptvr0000gp/T/ipykernel_2842/3926472445.py:26: FutureWarning: Passing literal html to 'read_html' is deprecated and will be removed in a future version. To read from a literal string, wrap it in a 'StringIO' object.\n",
      "  shooting = pd.read_html(data.text, match='Shooting')[0]\n",
      "/var/folders/mq/07ht7frx6vn8rjnw4vfpptvr0000gp/T/ipykernel_2842/3926472445.py:19: FutureWarning: Passing literal html to 'read_html' is deprecated and will be removed in a future version. To read from a literal string, wrap it in a 'StringIO' object.\n",
      "  matches = pd.read_html(data.text, match='Scores & Fixtures')[0]\n"
     ]
    },
    {
     "name": "stdout",
     "output_type": "stream",
     "text": [
      "https://fbref.com/en/squads/b8fd03ef/2022-2023/matchlogs/all_comps/shooting/Manchester-City-Match-Logs-All-Competitions\n"
     ]
    },
    {
     "name": "stderr",
     "output_type": "stream",
     "text": [
      "/var/folders/mq/07ht7frx6vn8rjnw4vfpptvr0000gp/T/ipykernel_2842/3926472445.py:26: FutureWarning: Passing literal html to 'read_html' is deprecated and will be removed in a future version. To read from a literal string, wrap it in a 'StringIO' object.\n",
      "  shooting = pd.read_html(data.text, match='Shooting')[0]\n",
      "/var/folders/mq/07ht7frx6vn8rjnw4vfpptvr0000gp/T/ipykernel_2842/3926472445.py:19: FutureWarning: Passing literal html to 'read_html' is deprecated and will be removed in a future version. To read from a literal string, wrap it in a 'StringIO' object.\n",
      "  matches = pd.read_html(data.text, match='Scores & Fixtures')[0]\n"
     ]
    },
    {
     "name": "stdout",
     "output_type": "stream",
     "text": [
      "https://fbref.com/en/squads/18bb7c10/2022-2023/matchlogs/all_comps/shooting/Arsenal-Match-Logs-All-Competitions\n"
     ]
    },
    {
     "name": "stderr",
     "output_type": "stream",
     "text": [
      "/var/folders/mq/07ht7frx6vn8rjnw4vfpptvr0000gp/T/ipykernel_2842/3926472445.py:26: FutureWarning: Passing literal html to 'read_html' is deprecated and will be removed in a future version. To read from a literal string, wrap it in a 'StringIO' object.\n",
      "  shooting = pd.read_html(data.text, match='Shooting')[0]\n",
      "/var/folders/mq/07ht7frx6vn8rjnw4vfpptvr0000gp/T/ipykernel_2842/3926472445.py:19: FutureWarning: Passing literal html to 'read_html' is deprecated and will be removed in a future version. To read from a literal string, wrap it in a 'StringIO' object.\n",
      "  matches = pd.read_html(data.text, match='Scores & Fixtures')[0]\n"
     ]
    },
    {
     "name": "stdout",
     "output_type": "stream",
     "text": [
      "https://fbref.com/en/squads/19538871/2022-2023/matchlogs/all_comps/shooting/Manchester-United-Match-Logs-All-Competitions\n"
     ]
    },
    {
     "name": "stderr",
     "output_type": "stream",
     "text": [
      "/var/folders/mq/07ht7frx6vn8rjnw4vfpptvr0000gp/T/ipykernel_2842/3926472445.py:26: FutureWarning: Passing literal html to 'read_html' is deprecated and will be removed in a future version. To read from a literal string, wrap it in a 'StringIO' object.\n",
      "  shooting = pd.read_html(data.text, match='Shooting')[0]\n",
      "/var/folders/mq/07ht7frx6vn8rjnw4vfpptvr0000gp/T/ipykernel_2842/3926472445.py:19: FutureWarning: Passing literal html to 'read_html' is deprecated and will be removed in a future version. To read from a literal string, wrap it in a 'StringIO' object.\n",
      "  matches = pd.read_html(data.text, match='Scores & Fixtures')[0]\n"
     ]
    },
    {
     "name": "stdout",
     "output_type": "stream",
     "text": [
      "https://fbref.com/en/squads/b2b47a98/2022-2023/matchlogs/all_comps/shooting/Newcastle-United-Match-Logs-All-Competitions\n"
     ]
    },
    {
     "name": "stderr",
     "output_type": "stream",
     "text": [
      "/var/folders/mq/07ht7frx6vn8rjnw4vfpptvr0000gp/T/ipykernel_2842/3926472445.py:26: FutureWarning: Passing literal html to 'read_html' is deprecated and will be removed in a future version. To read from a literal string, wrap it in a 'StringIO' object.\n",
      "  shooting = pd.read_html(data.text, match='Shooting')[0]\n",
      "/var/folders/mq/07ht7frx6vn8rjnw4vfpptvr0000gp/T/ipykernel_2842/3926472445.py:19: FutureWarning: Passing literal html to 'read_html' is deprecated and will be removed in a future version. To read from a literal string, wrap it in a 'StringIO' object.\n",
      "  matches = pd.read_html(data.text, match='Scores & Fixtures')[0]\n"
     ]
    },
    {
     "name": "stdout",
     "output_type": "stream",
     "text": [
      "https://fbref.com/en/squads/822bd0ba/2022-2023/matchlogs/all_comps/shooting/Liverpool-Match-Logs-All-Competitions\n"
     ]
    },
    {
     "name": "stderr",
     "output_type": "stream",
     "text": [
      "/var/folders/mq/07ht7frx6vn8rjnw4vfpptvr0000gp/T/ipykernel_2842/3926472445.py:26: FutureWarning: Passing literal html to 'read_html' is deprecated and will be removed in a future version. To read from a literal string, wrap it in a 'StringIO' object.\n",
      "  shooting = pd.read_html(data.text, match='Shooting')[0]\n",
      "/var/folders/mq/07ht7frx6vn8rjnw4vfpptvr0000gp/T/ipykernel_2842/3926472445.py:19: FutureWarning: Passing literal html to 'read_html' is deprecated and will be removed in a future version. To read from a literal string, wrap it in a 'StringIO' object.\n",
      "  matches = pd.read_html(data.text, match='Scores & Fixtures')[0]\n"
     ]
    },
    {
     "name": "stdout",
     "output_type": "stream",
     "text": [
      "https://fbref.com/en/squads/d07537b9/2022-2023/matchlogs/all_comps/shooting/Brighton-and-Hove-Albion-Match-Logs-All-Competitions\n"
     ]
    },
    {
     "name": "stderr",
     "output_type": "stream",
     "text": [
      "/var/folders/mq/07ht7frx6vn8rjnw4vfpptvr0000gp/T/ipykernel_2842/3926472445.py:26: FutureWarning: Passing literal html to 'read_html' is deprecated and will be removed in a future version. To read from a literal string, wrap it in a 'StringIO' object.\n",
      "  shooting = pd.read_html(data.text, match='Shooting')[0]\n",
      "/var/folders/mq/07ht7frx6vn8rjnw4vfpptvr0000gp/T/ipykernel_2842/3926472445.py:19: FutureWarning: Passing literal html to 'read_html' is deprecated and will be removed in a future version. To read from a literal string, wrap it in a 'StringIO' object.\n",
      "  matches = pd.read_html(data.text, match='Scores & Fixtures')[0]\n"
     ]
    },
    {
     "name": "stdout",
     "output_type": "stream",
     "text": [
      "https://fbref.com/en/squads/8602292d/2022-2023/matchlogs/all_comps/shooting/Aston-Villa-Match-Logs-All-Competitions\n"
     ]
    },
    {
     "name": "stderr",
     "output_type": "stream",
     "text": [
      "/var/folders/mq/07ht7frx6vn8rjnw4vfpptvr0000gp/T/ipykernel_2842/3926472445.py:26: FutureWarning: Passing literal html to 'read_html' is deprecated and will be removed in a future version. To read from a literal string, wrap it in a 'StringIO' object.\n",
      "  shooting = pd.read_html(data.text, match='Shooting')[0]\n",
      "/var/folders/mq/07ht7frx6vn8rjnw4vfpptvr0000gp/T/ipykernel_2842/3926472445.py:19: FutureWarning: Passing literal html to 'read_html' is deprecated and will be removed in a future version. To read from a literal string, wrap it in a 'StringIO' object.\n",
      "  matches = pd.read_html(data.text, match='Scores & Fixtures')[0]\n"
     ]
    },
    {
     "name": "stdout",
     "output_type": "stream",
     "text": [
      "https://fbref.com/en/squads/361ca564/2022-2023/matchlogs/all_comps/shooting/Tottenham-Hotspur-Match-Logs-All-Competitions\n"
     ]
    },
    {
     "name": "stderr",
     "output_type": "stream",
     "text": [
      "/var/folders/mq/07ht7frx6vn8rjnw4vfpptvr0000gp/T/ipykernel_2842/3926472445.py:26: FutureWarning: Passing literal html to 'read_html' is deprecated and will be removed in a future version. To read from a literal string, wrap it in a 'StringIO' object.\n",
      "  shooting = pd.read_html(data.text, match='Shooting')[0]\n",
      "/var/folders/mq/07ht7frx6vn8rjnw4vfpptvr0000gp/T/ipykernel_2842/3926472445.py:19: FutureWarning: Passing literal html to 'read_html' is deprecated and will be removed in a future version. To read from a literal string, wrap it in a 'StringIO' object.\n",
      "  matches = pd.read_html(data.text, match='Scores & Fixtures')[0]\n"
     ]
    },
    {
     "name": "stdout",
     "output_type": "stream",
     "text": [
      "https://fbref.com/en/squads/cd051869/2022-2023/matchlogs/all_comps/shooting/Brentford-Match-Logs-All-Competitions\n"
     ]
    },
    {
     "name": "stderr",
     "output_type": "stream",
     "text": [
      "/var/folders/mq/07ht7frx6vn8rjnw4vfpptvr0000gp/T/ipykernel_2842/3926472445.py:26: FutureWarning: Passing literal html to 'read_html' is deprecated and will be removed in a future version. To read from a literal string, wrap it in a 'StringIO' object.\n",
      "  shooting = pd.read_html(data.text, match='Shooting')[0]\n",
      "/var/folders/mq/07ht7frx6vn8rjnw4vfpptvr0000gp/T/ipykernel_2842/3926472445.py:19: FutureWarning: Passing literal html to 'read_html' is deprecated and will be removed in a future version. To read from a literal string, wrap it in a 'StringIO' object.\n",
      "  matches = pd.read_html(data.text, match='Scores & Fixtures')[0]\n"
     ]
    },
    {
     "name": "stdout",
     "output_type": "stream",
     "text": [
      "https://fbref.com/en/squads/fd962109/2022-2023/matchlogs/all_comps/shooting/Fulham-Match-Logs-All-Competitions\n"
     ]
    },
    {
     "name": "stderr",
     "output_type": "stream",
     "text": [
      "/var/folders/mq/07ht7frx6vn8rjnw4vfpptvr0000gp/T/ipykernel_2842/3926472445.py:26: FutureWarning: Passing literal html to 'read_html' is deprecated and will be removed in a future version. To read from a literal string, wrap it in a 'StringIO' object.\n",
      "  shooting = pd.read_html(data.text, match='Shooting')[0]\n",
      "/var/folders/mq/07ht7frx6vn8rjnw4vfpptvr0000gp/T/ipykernel_2842/3926472445.py:19: FutureWarning: Passing literal html to 'read_html' is deprecated and will be removed in a future version. To read from a literal string, wrap it in a 'StringIO' object.\n",
      "  matches = pd.read_html(data.text, match='Scores & Fixtures')[0]\n"
     ]
    },
    {
     "name": "stdout",
     "output_type": "stream",
     "text": [
      "https://fbref.com/en/squads/47c64c55/2022-2023/matchlogs/all_comps/shooting/Crystal-Palace-Match-Logs-All-Competitions\n"
     ]
    },
    {
     "name": "stderr",
     "output_type": "stream",
     "text": [
      "/var/folders/mq/07ht7frx6vn8rjnw4vfpptvr0000gp/T/ipykernel_2842/3926472445.py:26: FutureWarning: Passing literal html to 'read_html' is deprecated and will be removed in a future version. To read from a literal string, wrap it in a 'StringIO' object.\n",
      "  shooting = pd.read_html(data.text, match='Shooting')[0]\n",
      "/var/folders/mq/07ht7frx6vn8rjnw4vfpptvr0000gp/T/ipykernel_2842/3926472445.py:19: FutureWarning: Passing literal html to 'read_html' is deprecated and will be removed in a future version. To read from a literal string, wrap it in a 'StringIO' object.\n",
      "  matches = pd.read_html(data.text, match='Scores & Fixtures')[0]\n"
     ]
    },
    {
     "name": "stdout",
     "output_type": "stream",
     "text": [
      "https://fbref.com/en/squads/cff3d9bb/2022-2023/matchlogs/all_comps/shooting/Chelsea-Match-Logs-All-Competitions\n"
     ]
    },
    {
     "name": "stderr",
     "output_type": "stream",
     "text": [
      "/var/folders/mq/07ht7frx6vn8rjnw4vfpptvr0000gp/T/ipykernel_2842/3926472445.py:26: FutureWarning: Passing literal html to 'read_html' is deprecated and will be removed in a future version. To read from a literal string, wrap it in a 'StringIO' object.\n",
      "  shooting = pd.read_html(data.text, match='Shooting')[0]\n",
      "/var/folders/mq/07ht7frx6vn8rjnw4vfpptvr0000gp/T/ipykernel_2842/3926472445.py:19: FutureWarning: Passing literal html to 'read_html' is deprecated and will be removed in a future version. To read from a literal string, wrap it in a 'StringIO' object.\n",
      "  matches = pd.read_html(data.text, match='Scores & Fixtures')[0]\n"
     ]
    },
    {
     "name": "stdout",
     "output_type": "stream",
     "text": [
      "https://fbref.com/en/squads/8cec06e1/2022-2023/matchlogs/all_comps/shooting/Wolverhampton-Wanderers-Match-Logs-All-Competitions\n"
     ]
    },
    {
     "name": "stderr",
     "output_type": "stream",
     "text": [
      "/var/folders/mq/07ht7frx6vn8rjnw4vfpptvr0000gp/T/ipykernel_2842/3926472445.py:26: FutureWarning: Passing literal html to 'read_html' is deprecated and will be removed in a future version. To read from a literal string, wrap it in a 'StringIO' object.\n",
      "  shooting = pd.read_html(data.text, match='Shooting')[0]\n",
      "/var/folders/mq/07ht7frx6vn8rjnw4vfpptvr0000gp/T/ipykernel_2842/3926472445.py:19: FutureWarning: Passing literal html to 'read_html' is deprecated and will be removed in a future version. To read from a literal string, wrap it in a 'StringIO' object.\n",
      "  matches = pd.read_html(data.text, match='Scores & Fixtures')[0]\n"
     ]
    },
    {
     "name": "stdout",
     "output_type": "stream",
     "text": [
      "https://fbref.com/en/squads/7c21e445/2022-2023/matchlogs/all_comps/shooting/West-Ham-United-Match-Logs-All-Competitions\n"
     ]
    },
    {
     "name": "stderr",
     "output_type": "stream",
     "text": [
      "/var/folders/mq/07ht7frx6vn8rjnw4vfpptvr0000gp/T/ipykernel_2842/3926472445.py:26: FutureWarning: Passing literal html to 'read_html' is deprecated and will be removed in a future version. To read from a literal string, wrap it in a 'StringIO' object.\n",
      "  shooting = pd.read_html(data.text, match='Shooting')[0]\n",
      "/var/folders/mq/07ht7frx6vn8rjnw4vfpptvr0000gp/T/ipykernel_2842/3926472445.py:19: FutureWarning: Passing literal html to 'read_html' is deprecated and will be removed in a future version. To read from a literal string, wrap it in a 'StringIO' object.\n",
      "  matches = pd.read_html(data.text, match='Scores & Fixtures')[0]\n"
     ]
    },
    {
     "name": "stdout",
     "output_type": "stream",
     "text": [
      "https://fbref.com/en/squads/4ba7cbea/2022-2023/matchlogs/all_comps/shooting/Bournemouth-Match-Logs-All-Competitions\n"
     ]
    },
    {
     "name": "stderr",
     "output_type": "stream",
     "text": [
      "/var/folders/mq/07ht7frx6vn8rjnw4vfpptvr0000gp/T/ipykernel_2842/3926472445.py:26: FutureWarning: Passing literal html to 'read_html' is deprecated and will be removed in a future version. To read from a literal string, wrap it in a 'StringIO' object.\n",
      "  shooting = pd.read_html(data.text, match='Shooting')[0]\n",
      "/var/folders/mq/07ht7frx6vn8rjnw4vfpptvr0000gp/T/ipykernel_2842/3926472445.py:19: FutureWarning: Passing literal html to 'read_html' is deprecated and will be removed in a future version. To read from a literal string, wrap it in a 'StringIO' object.\n",
      "  matches = pd.read_html(data.text, match='Scores & Fixtures')[0]\n"
     ]
    },
    {
     "name": "stdout",
     "output_type": "stream",
     "text": [
      "https://fbref.com/en/squads/e4a775cb/2022-2023/matchlogs/all_comps/shooting/Nottingham-Forest-Match-Logs-All-Competitions\n"
     ]
    },
    {
     "name": "stderr",
     "output_type": "stream",
     "text": [
      "/var/folders/mq/07ht7frx6vn8rjnw4vfpptvr0000gp/T/ipykernel_2842/3926472445.py:26: FutureWarning: Passing literal html to 'read_html' is deprecated and will be removed in a future version. To read from a literal string, wrap it in a 'StringIO' object.\n",
      "  shooting = pd.read_html(data.text, match='Shooting')[0]\n",
      "/var/folders/mq/07ht7frx6vn8rjnw4vfpptvr0000gp/T/ipykernel_2842/3926472445.py:19: FutureWarning: Passing literal html to 'read_html' is deprecated and will be removed in a future version. To read from a literal string, wrap it in a 'StringIO' object.\n",
      "  matches = pd.read_html(data.text, match='Scores & Fixtures')[0]\n"
     ]
    },
    {
     "name": "stdout",
     "output_type": "stream",
     "text": [
      "https://fbref.com/en/squads/d3fd31cc/2022-2023/matchlogs/all_comps/shooting/Everton-Match-Logs-All-Competitions\n"
     ]
    },
    {
     "name": "stderr",
     "output_type": "stream",
     "text": [
      "/var/folders/mq/07ht7frx6vn8rjnw4vfpptvr0000gp/T/ipykernel_2842/3926472445.py:26: FutureWarning: Passing literal html to 'read_html' is deprecated and will be removed in a future version. To read from a literal string, wrap it in a 'StringIO' object.\n",
      "  shooting = pd.read_html(data.text, match='Shooting')[0]\n",
      "/var/folders/mq/07ht7frx6vn8rjnw4vfpptvr0000gp/T/ipykernel_2842/3926472445.py:19: FutureWarning: Passing literal html to 'read_html' is deprecated and will be removed in a future version. To read from a literal string, wrap it in a 'StringIO' object.\n",
      "  matches = pd.read_html(data.text, match='Scores & Fixtures')[0]\n"
     ]
    },
    {
     "name": "stdout",
     "output_type": "stream",
     "text": [
      "https://fbref.com/en/squads/a2d435b3/2022-2023/matchlogs/all_comps/shooting/Leicester-City-Match-Logs-All-Competitions\n"
     ]
    },
    {
     "name": "stderr",
     "output_type": "stream",
     "text": [
      "/var/folders/mq/07ht7frx6vn8rjnw4vfpptvr0000gp/T/ipykernel_2842/3926472445.py:26: FutureWarning: Passing literal html to 'read_html' is deprecated and will be removed in a future version. To read from a literal string, wrap it in a 'StringIO' object.\n",
      "  shooting = pd.read_html(data.text, match='Shooting')[0]\n",
      "/var/folders/mq/07ht7frx6vn8rjnw4vfpptvr0000gp/T/ipykernel_2842/3926472445.py:19: FutureWarning: Passing literal html to 'read_html' is deprecated and will be removed in a future version. To read from a literal string, wrap it in a 'StringIO' object.\n",
      "  matches = pd.read_html(data.text, match='Scores & Fixtures')[0]\n"
     ]
    },
    {
     "name": "stdout",
     "output_type": "stream",
     "text": [
      "https://fbref.com/en/squads/5bfb9659/2022-2023/matchlogs/all_comps/shooting/Leeds-United-Match-Logs-All-Competitions\n"
     ]
    },
    {
     "name": "stderr",
     "output_type": "stream",
     "text": [
      "/var/folders/mq/07ht7frx6vn8rjnw4vfpptvr0000gp/T/ipykernel_2842/3926472445.py:26: FutureWarning: Passing literal html to 'read_html' is deprecated and will be removed in a future version. To read from a literal string, wrap it in a 'StringIO' object.\n",
      "  shooting = pd.read_html(data.text, match='Shooting')[0]\n",
      "/var/folders/mq/07ht7frx6vn8rjnw4vfpptvr0000gp/T/ipykernel_2842/3926472445.py:19: FutureWarning: Passing literal html to 'read_html' is deprecated and will be removed in a future version. To read from a literal string, wrap it in a 'StringIO' object.\n",
      "  matches = pd.read_html(data.text, match='Scores & Fixtures')[0]\n"
     ]
    },
    {
     "name": "stdout",
     "output_type": "stream",
     "text": [
      "https://fbref.com/en/squads/33c895d4/2022-2023/matchlogs/all_comps/shooting/Southampton-Match-Logs-All-Competitions\n"
     ]
    },
    {
     "name": "stderr",
     "output_type": "stream",
     "text": [
      "/var/folders/mq/07ht7frx6vn8rjnw4vfpptvr0000gp/T/ipykernel_2842/3926472445.py:26: FutureWarning: Passing literal html to 'read_html' is deprecated and will be removed in a future version. To read from a literal string, wrap it in a 'StringIO' object.\n",
      "  shooting = pd.read_html(data.text, match='Shooting')[0]\n",
      "/var/folders/mq/07ht7frx6vn8rjnw4vfpptvr0000gp/T/ipykernel_2842/3926472445.py:19: FutureWarning: Passing literal html to 'read_html' is deprecated and will be removed in a future version. To read from a literal string, wrap it in a 'StringIO' object.\n",
      "  matches = pd.read_html(data.text, match='Scores & Fixtures')[0]\n"
     ]
    },
    {
     "name": "stdout",
     "output_type": "stream",
     "text": [
      "https://fbref.com/en/squads/b8fd03ef/2021-2022/matchlogs/all_comps/shooting/Manchester-City-Match-Logs-All-Competitions\n"
     ]
    },
    {
     "name": "stderr",
     "output_type": "stream",
     "text": [
      "/var/folders/mq/07ht7frx6vn8rjnw4vfpptvr0000gp/T/ipykernel_2842/3926472445.py:26: FutureWarning: Passing literal html to 'read_html' is deprecated and will be removed in a future version. To read from a literal string, wrap it in a 'StringIO' object.\n",
      "  shooting = pd.read_html(data.text, match='Shooting')[0]\n",
      "/var/folders/mq/07ht7frx6vn8rjnw4vfpptvr0000gp/T/ipykernel_2842/3926472445.py:19: FutureWarning: Passing literal html to 'read_html' is deprecated and will be removed in a future version. To read from a literal string, wrap it in a 'StringIO' object.\n",
      "  matches = pd.read_html(data.text, match='Scores & Fixtures')[0]\n"
     ]
    },
    {
     "name": "stdout",
     "output_type": "stream",
     "text": [
      "https://fbref.com/en/squads/822bd0ba/2021-2022/matchlogs/all_comps/shooting/Liverpool-Match-Logs-All-Competitions\n"
     ]
    },
    {
     "name": "stderr",
     "output_type": "stream",
     "text": [
      "/var/folders/mq/07ht7frx6vn8rjnw4vfpptvr0000gp/T/ipykernel_2842/3926472445.py:26: FutureWarning: Passing literal html to 'read_html' is deprecated and will be removed in a future version. To read from a literal string, wrap it in a 'StringIO' object.\n",
      "  shooting = pd.read_html(data.text, match='Shooting')[0]\n",
      "/var/folders/mq/07ht7frx6vn8rjnw4vfpptvr0000gp/T/ipykernel_2842/3926472445.py:19: FutureWarning: Passing literal html to 'read_html' is deprecated and will be removed in a future version. To read from a literal string, wrap it in a 'StringIO' object.\n",
      "  matches = pd.read_html(data.text, match='Scores & Fixtures')[0]\n"
     ]
    },
    {
     "name": "stdout",
     "output_type": "stream",
     "text": [
      "https://fbref.com/en/squads/cff3d9bb/2021-2022/matchlogs/all_comps/shooting/Chelsea-Match-Logs-All-Competitions\n"
     ]
    },
    {
     "name": "stderr",
     "output_type": "stream",
     "text": [
      "/var/folders/mq/07ht7frx6vn8rjnw4vfpptvr0000gp/T/ipykernel_2842/3926472445.py:26: FutureWarning: Passing literal html to 'read_html' is deprecated and will be removed in a future version. To read from a literal string, wrap it in a 'StringIO' object.\n",
      "  shooting = pd.read_html(data.text, match='Shooting')[0]\n",
      "/var/folders/mq/07ht7frx6vn8rjnw4vfpptvr0000gp/T/ipykernel_2842/3926472445.py:19: FutureWarning: Passing literal html to 'read_html' is deprecated and will be removed in a future version. To read from a literal string, wrap it in a 'StringIO' object.\n",
      "  matches = pd.read_html(data.text, match='Scores & Fixtures')[0]\n"
     ]
    },
    {
     "name": "stdout",
     "output_type": "stream",
     "text": [
      "https://fbref.com/en/squads/361ca564/2021-2022/matchlogs/all_comps/shooting/Tottenham-Hotspur-Match-Logs-All-Competitions\n"
     ]
    },
    {
     "name": "stderr",
     "output_type": "stream",
     "text": [
      "/var/folders/mq/07ht7frx6vn8rjnw4vfpptvr0000gp/T/ipykernel_2842/3926472445.py:26: FutureWarning: Passing literal html to 'read_html' is deprecated and will be removed in a future version. To read from a literal string, wrap it in a 'StringIO' object.\n",
      "  shooting = pd.read_html(data.text, match='Shooting')[0]\n",
      "/var/folders/mq/07ht7frx6vn8rjnw4vfpptvr0000gp/T/ipykernel_2842/3926472445.py:19: FutureWarning: Passing literal html to 'read_html' is deprecated and will be removed in a future version. To read from a literal string, wrap it in a 'StringIO' object.\n",
      "  matches = pd.read_html(data.text, match='Scores & Fixtures')[0]\n"
     ]
    },
    {
     "name": "stdout",
     "output_type": "stream",
     "text": [
      "https://fbref.com/en/squads/18bb7c10/2021-2022/matchlogs/all_comps/shooting/Arsenal-Match-Logs-All-Competitions\n"
     ]
    },
    {
     "name": "stderr",
     "output_type": "stream",
     "text": [
      "/var/folders/mq/07ht7frx6vn8rjnw4vfpptvr0000gp/T/ipykernel_2842/3926472445.py:26: FutureWarning: Passing literal html to 'read_html' is deprecated and will be removed in a future version. To read from a literal string, wrap it in a 'StringIO' object.\n",
      "  shooting = pd.read_html(data.text, match='Shooting')[0]\n",
      "/var/folders/mq/07ht7frx6vn8rjnw4vfpptvr0000gp/T/ipykernel_2842/3926472445.py:19: FutureWarning: Passing literal html to 'read_html' is deprecated and will be removed in a future version. To read from a literal string, wrap it in a 'StringIO' object.\n",
      "  matches = pd.read_html(data.text, match='Scores & Fixtures')[0]\n"
     ]
    },
    {
     "name": "stdout",
     "output_type": "stream",
     "text": [
      "https://fbref.com/en/squads/19538871/2021-2022/matchlogs/all_comps/shooting/Manchester-United-Match-Logs-All-Competitions\n"
     ]
    },
    {
     "name": "stderr",
     "output_type": "stream",
     "text": [
      "/var/folders/mq/07ht7frx6vn8rjnw4vfpptvr0000gp/T/ipykernel_2842/3926472445.py:26: FutureWarning: Passing literal html to 'read_html' is deprecated and will be removed in a future version. To read from a literal string, wrap it in a 'StringIO' object.\n",
      "  shooting = pd.read_html(data.text, match='Shooting')[0]\n",
      "/var/folders/mq/07ht7frx6vn8rjnw4vfpptvr0000gp/T/ipykernel_2842/3926472445.py:19: FutureWarning: Passing literal html to 'read_html' is deprecated and will be removed in a future version. To read from a literal string, wrap it in a 'StringIO' object.\n",
      "  matches = pd.read_html(data.text, match='Scores & Fixtures')[0]\n"
     ]
    },
    {
     "name": "stdout",
     "output_type": "stream",
     "text": [
      "https://fbref.com/en/squads/7c21e445/2021-2022/matchlogs/all_comps/shooting/West-Ham-United-Match-Logs-All-Competitions\n"
     ]
    },
    {
     "name": "stderr",
     "output_type": "stream",
     "text": [
      "/var/folders/mq/07ht7frx6vn8rjnw4vfpptvr0000gp/T/ipykernel_2842/3926472445.py:26: FutureWarning: Passing literal html to 'read_html' is deprecated and will be removed in a future version. To read from a literal string, wrap it in a 'StringIO' object.\n",
      "  shooting = pd.read_html(data.text, match='Shooting')[0]\n",
      "/var/folders/mq/07ht7frx6vn8rjnw4vfpptvr0000gp/T/ipykernel_2842/3926472445.py:19: FutureWarning: Passing literal html to 'read_html' is deprecated and will be removed in a future version. To read from a literal string, wrap it in a 'StringIO' object.\n",
      "  matches = pd.read_html(data.text, match='Scores & Fixtures')[0]\n"
     ]
    },
    {
     "name": "stdout",
     "output_type": "stream",
     "text": [
      "https://fbref.com/en/squads/a2d435b3/2021-2022/matchlogs/all_comps/shooting/Leicester-City-Match-Logs-All-Competitions\n"
     ]
    },
    {
     "name": "stderr",
     "output_type": "stream",
     "text": [
      "/var/folders/mq/07ht7frx6vn8rjnw4vfpptvr0000gp/T/ipykernel_2842/3926472445.py:26: FutureWarning: Passing literal html to 'read_html' is deprecated and will be removed in a future version. To read from a literal string, wrap it in a 'StringIO' object.\n",
      "  shooting = pd.read_html(data.text, match='Shooting')[0]\n",
      "/var/folders/mq/07ht7frx6vn8rjnw4vfpptvr0000gp/T/ipykernel_2842/3926472445.py:19: FutureWarning: Passing literal html to 'read_html' is deprecated and will be removed in a future version. To read from a literal string, wrap it in a 'StringIO' object.\n",
      "  matches = pd.read_html(data.text, match='Scores & Fixtures')[0]\n"
     ]
    },
    {
     "name": "stdout",
     "output_type": "stream",
     "text": [
      "https://fbref.com/en/squads/d07537b9/2021-2022/matchlogs/all_comps/shooting/Brighton-and-Hove-Albion-Match-Logs-All-Competitions\n"
     ]
    },
    {
     "name": "stderr",
     "output_type": "stream",
     "text": [
      "/var/folders/mq/07ht7frx6vn8rjnw4vfpptvr0000gp/T/ipykernel_2842/3926472445.py:26: FutureWarning: Passing literal html to 'read_html' is deprecated and will be removed in a future version. To read from a literal string, wrap it in a 'StringIO' object.\n",
      "  shooting = pd.read_html(data.text, match='Shooting')[0]\n",
      "/var/folders/mq/07ht7frx6vn8rjnw4vfpptvr0000gp/T/ipykernel_2842/3926472445.py:19: FutureWarning: Passing literal html to 'read_html' is deprecated and will be removed in a future version. To read from a literal string, wrap it in a 'StringIO' object.\n",
      "  matches = pd.read_html(data.text, match='Scores & Fixtures')[0]\n"
     ]
    },
    {
     "name": "stdout",
     "output_type": "stream",
     "text": [
      "https://fbref.com/en/squads/8cec06e1/2021-2022/matchlogs/all_comps/shooting/Wolverhampton-Wanderers-Match-Logs-All-Competitions\n"
     ]
    },
    {
     "name": "stderr",
     "output_type": "stream",
     "text": [
      "/var/folders/mq/07ht7frx6vn8rjnw4vfpptvr0000gp/T/ipykernel_2842/3926472445.py:26: FutureWarning: Passing literal html to 'read_html' is deprecated and will be removed in a future version. To read from a literal string, wrap it in a 'StringIO' object.\n",
      "  shooting = pd.read_html(data.text, match='Shooting')[0]\n",
      "/var/folders/mq/07ht7frx6vn8rjnw4vfpptvr0000gp/T/ipykernel_2842/3926472445.py:19: FutureWarning: Passing literal html to 'read_html' is deprecated and will be removed in a future version. To read from a literal string, wrap it in a 'StringIO' object.\n",
      "  matches = pd.read_html(data.text, match='Scores & Fixtures')[0]\n"
     ]
    },
    {
     "name": "stdout",
     "output_type": "stream",
     "text": [
      "https://fbref.com/en/squads/b2b47a98/2021-2022/matchlogs/all_comps/shooting/Newcastle-United-Match-Logs-All-Competitions\n"
     ]
    },
    {
     "name": "stderr",
     "output_type": "stream",
     "text": [
      "/var/folders/mq/07ht7frx6vn8rjnw4vfpptvr0000gp/T/ipykernel_2842/3926472445.py:26: FutureWarning: Passing literal html to 'read_html' is deprecated and will be removed in a future version. To read from a literal string, wrap it in a 'StringIO' object.\n",
      "  shooting = pd.read_html(data.text, match='Shooting')[0]\n",
      "/var/folders/mq/07ht7frx6vn8rjnw4vfpptvr0000gp/T/ipykernel_2842/3926472445.py:19: FutureWarning: Passing literal html to 'read_html' is deprecated and will be removed in a future version. To read from a literal string, wrap it in a 'StringIO' object.\n",
      "  matches = pd.read_html(data.text, match='Scores & Fixtures')[0]\n"
     ]
    },
    {
     "name": "stdout",
     "output_type": "stream",
     "text": [
      "https://fbref.com/en/squads/47c64c55/2021-2022/matchlogs/all_comps/shooting/Crystal-Palace-Match-Logs-All-Competitions\n"
     ]
    },
    {
     "name": "stderr",
     "output_type": "stream",
     "text": [
      "/var/folders/mq/07ht7frx6vn8rjnw4vfpptvr0000gp/T/ipykernel_2842/3926472445.py:26: FutureWarning: Passing literal html to 'read_html' is deprecated and will be removed in a future version. To read from a literal string, wrap it in a 'StringIO' object.\n",
      "  shooting = pd.read_html(data.text, match='Shooting')[0]\n",
      "/var/folders/mq/07ht7frx6vn8rjnw4vfpptvr0000gp/T/ipykernel_2842/3926472445.py:19: FutureWarning: Passing literal html to 'read_html' is deprecated and will be removed in a future version. To read from a literal string, wrap it in a 'StringIO' object.\n",
      "  matches = pd.read_html(data.text, match='Scores & Fixtures')[0]\n"
     ]
    },
    {
     "name": "stdout",
     "output_type": "stream",
     "text": [
      "https://fbref.com/en/squads/cd051869/2021-2022/matchlogs/all_comps/shooting/Brentford-Match-Logs-All-Competitions\n"
     ]
    },
    {
     "name": "stderr",
     "output_type": "stream",
     "text": [
      "/var/folders/mq/07ht7frx6vn8rjnw4vfpptvr0000gp/T/ipykernel_2842/3926472445.py:26: FutureWarning: Passing literal html to 'read_html' is deprecated and will be removed in a future version. To read from a literal string, wrap it in a 'StringIO' object.\n",
      "  shooting = pd.read_html(data.text, match='Shooting')[0]\n",
      "/var/folders/mq/07ht7frx6vn8rjnw4vfpptvr0000gp/T/ipykernel_2842/3926472445.py:19: FutureWarning: Passing literal html to 'read_html' is deprecated and will be removed in a future version. To read from a literal string, wrap it in a 'StringIO' object.\n",
      "  matches = pd.read_html(data.text, match='Scores & Fixtures')[0]\n"
     ]
    },
    {
     "name": "stdout",
     "output_type": "stream",
     "text": [
      "https://fbref.com/en/squads/8602292d/2021-2022/matchlogs/all_comps/shooting/Aston-Villa-Match-Logs-All-Competitions\n"
     ]
    },
    {
     "name": "stderr",
     "output_type": "stream",
     "text": [
      "/var/folders/mq/07ht7frx6vn8rjnw4vfpptvr0000gp/T/ipykernel_2842/3926472445.py:26: FutureWarning: Passing literal html to 'read_html' is deprecated and will be removed in a future version. To read from a literal string, wrap it in a 'StringIO' object.\n",
      "  shooting = pd.read_html(data.text, match='Shooting')[0]\n",
      "/var/folders/mq/07ht7frx6vn8rjnw4vfpptvr0000gp/T/ipykernel_2842/3926472445.py:19: FutureWarning: Passing literal html to 'read_html' is deprecated and will be removed in a future version. To read from a literal string, wrap it in a 'StringIO' object.\n",
      "  matches = pd.read_html(data.text, match='Scores & Fixtures')[0]\n"
     ]
    },
    {
     "name": "stdout",
     "output_type": "stream",
     "text": [
      "https://fbref.com/en/squads/33c895d4/2021-2022/matchlogs/all_comps/shooting/Southampton-Match-Logs-All-Competitions\n"
     ]
    },
    {
     "name": "stderr",
     "output_type": "stream",
     "text": [
      "/var/folders/mq/07ht7frx6vn8rjnw4vfpptvr0000gp/T/ipykernel_2842/3926472445.py:26: FutureWarning: Passing literal html to 'read_html' is deprecated and will be removed in a future version. To read from a literal string, wrap it in a 'StringIO' object.\n",
      "  shooting = pd.read_html(data.text, match='Shooting')[0]\n",
      "/var/folders/mq/07ht7frx6vn8rjnw4vfpptvr0000gp/T/ipykernel_2842/3926472445.py:19: FutureWarning: Passing literal html to 'read_html' is deprecated and will be removed in a future version. To read from a literal string, wrap it in a 'StringIO' object.\n",
      "  matches = pd.read_html(data.text, match='Scores & Fixtures')[0]\n"
     ]
    },
    {
     "name": "stdout",
     "output_type": "stream",
     "text": [
      "https://fbref.com/en/squads/d3fd31cc/2021-2022/matchlogs/all_comps/shooting/Everton-Match-Logs-All-Competitions\n"
     ]
    },
    {
     "name": "stderr",
     "output_type": "stream",
     "text": [
      "/var/folders/mq/07ht7frx6vn8rjnw4vfpptvr0000gp/T/ipykernel_2842/3926472445.py:26: FutureWarning: Passing literal html to 'read_html' is deprecated and will be removed in a future version. To read from a literal string, wrap it in a 'StringIO' object.\n",
      "  shooting = pd.read_html(data.text, match='Shooting')[0]\n",
      "/var/folders/mq/07ht7frx6vn8rjnw4vfpptvr0000gp/T/ipykernel_2842/3926472445.py:19: FutureWarning: Passing literal html to 'read_html' is deprecated and will be removed in a future version. To read from a literal string, wrap it in a 'StringIO' object.\n",
      "  matches = pd.read_html(data.text, match='Scores & Fixtures')[0]\n"
     ]
    },
    {
     "name": "stdout",
     "output_type": "stream",
     "text": [
      "https://fbref.com/en/squads/5bfb9659/2021-2022/matchlogs/all_comps/shooting/Leeds-United-Match-Logs-All-Competitions\n"
     ]
    },
    {
     "name": "stderr",
     "output_type": "stream",
     "text": [
      "/var/folders/mq/07ht7frx6vn8rjnw4vfpptvr0000gp/T/ipykernel_2842/3926472445.py:26: FutureWarning: Passing literal html to 'read_html' is deprecated and will be removed in a future version. To read from a literal string, wrap it in a 'StringIO' object.\n",
      "  shooting = pd.read_html(data.text, match='Shooting')[0]\n",
      "/var/folders/mq/07ht7frx6vn8rjnw4vfpptvr0000gp/T/ipykernel_2842/3926472445.py:19: FutureWarning: Passing literal html to 'read_html' is deprecated and will be removed in a future version. To read from a literal string, wrap it in a 'StringIO' object.\n",
      "  matches = pd.read_html(data.text, match='Scores & Fixtures')[0]\n"
     ]
    },
    {
     "name": "stdout",
     "output_type": "stream",
     "text": [
      "https://fbref.com/en/squads/943e8050/2021-2022/matchlogs/all_comps/shooting/Burnley-Match-Logs-All-Competitions\n"
     ]
    },
    {
     "name": "stderr",
     "output_type": "stream",
     "text": [
      "/var/folders/mq/07ht7frx6vn8rjnw4vfpptvr0000gp/T/ipykernel_2842/3926472445.py:26: FutureWarning: Passing literal html to 'read_html' is deprecated and will be removed in a future version. To read from a literal string, wrap it in a 'StringIO' object.\n",
      "  shooting = pd.read_html(data.text, match='Shooting')[0]\n",
      "/var/folders/mq/07ht7frx6vn8rjnw4vfpptvr0000gp/T/ipykernel_2842/3926472445.py:19: FutureWarning: Passing literal html to 'read_html' is deprecated and will be removed in a future version. To read from a literal string, wrap it in a 'StringIO' object.\n",
      "  matches = pd.read_html(data.text, match='Scores & Fixtures')[0]\n"
     ]
    },
    {
     "name": "stdout",
     "output_type": "stream",
     "text": [
      "https://fbref.com/en/squads/2abfe087/2021-2022/matchlogs/all_comps/shooting/Watford-Match-Logs-All-Competitions\n"
     ]
    },
    {
     "name": "stderr",
     "output_type": "stream",
     "text": [
      "/var/folders/mq/07ht7frx6vn8rjnw4vfpptvr0000gp/T/ipykernel_2842/3926472445.py:26: FutureWarning: Passing literal html to 'read_html' is deprecated and will be removed in a future version. To read from a literal string, wrap it in a 'StringIO' object.\n",
      "  shooting = pd.read_html(data.text, match='Shooting')[0]\n",
      "/var/folders/mq/07ht7frx6vn8rjnw4vfpptvr0000gp/T/ipykernel_2842/3926472445.py:19: FutureWarning: Passing literal html to 'read_html' is deprecated and will be removed in a future version. To read from a literal string, wrap it in a 'StringIO' object.\n",
      "  matches = pd.read_html(data.text, match='Scores & Fixtures')[0]\n"
     ]
    },
    {
     "name": "stdout",
     "output_type": "stream",
     "text": [
      "https://fbref.com/en/squads/1c781004/2021-2022/matchlogs/all_comps/shooting/Norwich-City-Match-Logs-All-Competitions\n"
     ]
    },
    {
     "name": "stderr",
     "output_type": "stream",
     "text": [
      "/var/folders/mq/07ht7frx6vn8rjnw4vfpptvr0000gp/T/ipykernel_2842/3926472445.py:26: FutureWarning: Passing literal html to 'read_html' is deprecated and will be removed in a future version. To read from a literal string, wrap it in a 'StringIO' object.\n",
      "  shooting = pd.read_html(data.text, match='Shooting')[0]\n",
      "/var/folders/mq/07ht7frx6vn8rjnw4vfpptvr0000gp/T/ipykernel_2842/3926472445.py:19: FutureWarning: Passing literal html to 'read_html' is deprecated and will be removed in a future version. To read from a literal string, wrap it in a 'StringIO' object.\n",
      "  matches = pd.read_html(data.text, match='Scores & Fixtures')[0]\n"
     ]
    },
    {
     "name": "stdout",
     "output_type": "stream",
     "text": [
      "https://fbref.com/en/squads/b8fd03ef/2020-2021/matchlogs/all_comps/shooting/Manchester-City-Match-Logs-All-Competitions\n"
     ]
    },
    {
     "name": "stderr",
     "output_type": "stream",
     "text": [
      "/var/folders/mq/07ht7frx6vn8rjnw4vfpptvr0000gp/T/ipykernel_2842/3926472445.py:26: FutureWarning: Passing literal html to 'read_html' is deprecated and will be removed in a future version. To read from a literal string, wrap it in a 'StringIO' object.\n",
      "  shooting = pd.read_html(data.text, match='Shooting')[0]\n",
      "/var/folders/mq/07ht7frx6vn8rjnw4vfpptvr0000gp/T/ipykernel_2842/3926472445.py:19: FutureWarning: Passing literal html to 'read_html' is deprecated and will be removed in a future version. To read from a literal string, wrap it in a 'StringIO' object.\n",
      "  matches = pd.read_html(data.text, match='Scores & Fixtures')[0]\n"
     ]
    },
    {
     "name": "stdout",
     "output_type": "stream",
     "text": [
      "https://fbref.com/en/squads/19538871/2020-2021/matchlogs/all_comps/shooting/Manchester-United-Match-Logs-All-Competitions\n"
     ]
    },
    {
     "name": "stderr",
     "output_type": "stream",
     "text": [
      "/var/folders/mq/07ht7frx6vn8rjnw4vfpptvr0000gp/T/ipykernel_2842/3926472445.py:26: FutureWarning: Passing literal html to 'read_html' is deprecated and will be removed in a future version. To read from a literal string, wrap it in a 'StringIO' object.\n",
      "  shooting = pd.read_html(data.text, match='Shooting')[0]\n",
      "/var/folders/mq/07ht7frx6vn8rjnw4vfpptvr0000gp/T/ipykernel_2842/3926472445.py:19: FutureWarning: Passing literal html to 'read_html' is deprecated and will be removed in a future version. To read from a literal string, wrap it in a 'StringIO' object.\n",
      "  matches = pd.read_html(data.text, match='Scores & Fixtures')[0]\n"
     ]
    },
    {
     "name": "stdout",
     "output_type": "stream",
     "text": [
      "https://fbref.com/en/squads/822bd0ba/2020-2021/matchlogs/all_comps/shooting/Liverpool-Match-Logs-All-Competitions\n"
     ]
    },
    {
     "name": "stderr",
     "output_type": "stream",
     "text": [
      "/var/folders/mq/07ht7frx6vn8rjnw4vfpptvr0000gp/T/ipykernel_2842/3926472445.py:26: FutureWarning: Passing literal html to 'read_html' is deprecated and will be removed in a future version. To read from a literal string, wrap it in a 'StringIO' object.\n",
      "  shooting = pd.read_html(data.text, match='Shooting')[0]\n",
      "/var/folders/mq/07ht7frx6vn8rjnw4vfpptvr0000gp/T/ipykernel_2842/3926472445.py:19: FutureWarning: Passing literal html to 'read_html' is deprecated and will be removed in a future version. To read from a literal string, wrap it in a 'StringIO' object.\n",
      "  matches = pd.read_html(data.text, match='Scores & Fixtures')[0]\n"
     ]
    },
    {
     "name": "stdout",
     "output_type": "stream",
     "text": [
      "https://fbref.com/en/squads/cff3d9bb/2020-2021/matchlogs/all_comps/shooting/Chelsea-Match-Logs-All-Competitions\n"
     ]
    },
    {
     "name": "stderr",
     "output_type": "stream",
     "text": [
      "/var/folders/mq/07ht7frx6vn8rjnw4vfpptvr0000gp/T/ipykernel_2842/3926472445.py:26: FutureWarning: Passing literal html to 'read_html' is deprecated and will be removed in a future version. To read from a literal string, wrap it in a 'StringIO' object.\n",
      "  shooting = pd.read_html(data.text, match='Shooting')[0]\n",
      "/var/folders/mq/07ht7frx6vn8rjnw4vfpptvr0000gp/T/ipykernel_2842/3926472445.py:19: FutureWarning: Passing literal html to 'read_html' is deprecated and will be removed in a future version. To read from a literal string, wrap it in a 'StringIO' object.\n",
      "  matches = pd.read_html(data.text, match='Scores & Fixtures')[0]\n"
     ]
    },
    {
     "name": "stdout",
     "output_type": "stream",
     "text": [
      "https://fbref.com/en/squads/a2d435b3/2020-2021/matchlogs/all_comps/shooting/Leicester-City-Match-Logs-All-Competitions\n"
     ]
    },
    {
     "name": "stderr",
     "output_type": "stream",
     "text": [
      "/var/folders/mq/07ht7frx6vn8rjnw4vfpptvr0000gp/T/ipykernel_2842/3926472445.py:26: FutureWarning: Passing literal html to 'read_html' is deprecated and will be removed in a future version. To read from a literal string, wrap it in a 'StringIO' object.\n",
      "  shooting = pd.read_html(data.text, match='Shooting')[0]\n",
      "/var/folders/mq/07ht7frx6vn8rjnw4vfpptvr0000gp/T/ipykernel_2842/3926472445.py:19: FutureWarning: Passing literal html to 'read_html' is deprecated and will be removed in a future version. To read from a literal string, wrap it in a 'StringIO' object.\n",
      "  matches = pd.read_html(data.text, match='Scores & Fixtures')[0]\n"
     ]
    },
    {
     "name": "stdout",
     "output_type": "stream",
     "text": [
      "https://fbref.com/en/squads/7c21e445/2020-2021/matchlogs/all_comps/shooting/West-Ham-United-Match-Logs-All-Competitions\n"
     ]
    },
    {
     "name": "stderr",
     "output_type": "stream",
     "text": [
      "/var/folders/mq/07ht7frx6vn8rjnw4vfpptvr0000gp/T/ipykernel_2842/3926472445.py:26: FutureWarning: Passing literal html to 'read_html' is deprecated and will be removed in a future version. To read from a literal string, wrap it in a 'StringIO' object.\n",
      "  shooting = pd.read_html(data.text, match='Shooting')[0]\n",
      "/var/folders/mq/07ht7frx6vn8rjnw4vfpptvr0000gp/T/ipykernel_2842/3926472445.py:19: FutureWarning: Passing literal html to 'read_html' is deprecated and will be removed in a future version. To read from a literal string, wrap it in a 'StringIO' object.\n",
      "  matches = pd.read_html(data.text, match='Scores & Fixtures')[0]\n"
     ]
    },
    {
     "name": "stdout",
     "output_type": "stream",
     "text": [
      "https://fbref.com/en/squads/361ca564/2020-2021/matchlogs/all_comps/shooting/Tottenham-Hotspur-Match-Logs-All-Competitions\n"
     ]
    },
    {
     "name": "stderr",
     "output_type": "stream",
     "text": [
      "/var/folders/mq/07ht7frx6vn8rjnw4vfpptvr0000gp/T/ipykernel_2842/3926472445.py:26: FutureWarning: Passing literal html to 'read_html' is deprecated and will be removed in a future version. To read from a literal string, wrap it in a 'StringIO' object.\n",
      "  shooting = pd.read_html(data.text, match='Shooting')[0]\n",
      "/var/folders/mq/07ht7frx6vn8rjnw4vfpptvr0000gp/T/ipykernel_2842/3926472445.py:19: FutureWarning: Passing literal html to 'read_html' is deprecated and will be removed in a future version. To read from a literal string, wrap it in a 'StringIO' object.\n",
      "  matches = pd.read_html(data.text, match='Scores & Fixtures')[0]\n"
     ]
    },
    {
     "name": "stdout",
     "output_type": "stream",
     "text": [
      "https://fbref.com/en/squads/18bb7c10/2020-2021/matchlogs/all_comps/shooting/Arsenal-Match-Logs-All-Competitions\n"
     ]
    },
    {
     "name": "stderr",
     "output_type": "stream",
     "text": [
      "/var/folders/mq/07ht7frx6vn8rjnw4vfpptvr0000gp/T/ipykernel_2842/3926472445.py:26: FutureWarning: Passing literal html to 'read_html' is deprecated and will be removed in a future version. To read from a literal string, wrap it in a 'StringIO' object.\n",
      "  shooting = pd.read_html(data.text, match='Shooting')[0]\n",
      "/var/folders/mq/07ht7frx6vn8rjnw4vfpptvr0000gp/T/ipykernel_2842/3926472445.py:19: FutureWarning: Passing literal html to 'read_html' is deprecated and will be removed in a future version. To read from a literal string, wrap it in a 'StringIO' object.\n",
      "  matches = pd.read_html(data.text, match='Scores & Fixtures')[0]\n"
     ]
    },
    {
     "name": "stdout",
     "output_type": "stream",
     "text": [
      "https://fbref.com/en/squads/5bfb9659/2020-2021/matchlogs/all_comps/shooting/Leeds-United-Match-Logs-All-Competitions\n"
     ]
    },
    {
     "name": "stderr",
     "output_type": "stream",
     "text": [
      "/var/folders/mq/07ht7frx6vn8rjnw4vfpptvr0000gp/T/ipykernel_2842/3926472445.py:26: FutureWarning: Passing literal html to 'read_html' is deprecated and will be removed in a future version. To read from a literal string, wrap it in a 'StringIO' object.\n",
      "  shooting = pd.read_html(data.text, match='Shooting')[0]\n",
      "/var/folders/mq/07ht7frx6vn8rjnw4vfpptvr0000gp/T/ipykernel_2842/3926472445.py:19: FutureWarning: Passing literal html to 'read_html' is deprecated and will be removed in a future version. To read from a literal string, wrap it in a 'StringIO' object.\n",
      "  matches = pd.read_html(data.text, match='Scores & Fixtures')[0]\n"
     ]
    },
    {
     "name": "stdout",
     "output_type": "stream",
     "text": [
      "https://fbref.com/en/squads/d3fd31cc/2020-2021/matchlogs/all_comps/shooting/Everton-Match-Logs-All-Competitions\n"
     ]
    },
    {
     "name": "stderr",
     "output_type": "stream",
     "text": [
      "/var/folders/mq/07ht7frx6vn8rjnw4vfpptvr0000gp/T/ipykernel_2842/3926472445.py:26: FutureWarning: Passing literal html to 'read_html' is deprecated and will be removed in a future version. To read from a literal string, wrap it in a 'StringIO' object.\n",
      "  shooting = pd.read_html(data.text, match='Shooting')[0]\n",
      "/var/folders/mq/07ht7frx6vn8rjnw4vfpptvr0000gp/T/ipykernel_2842/3926472445.py:19: FutureWarning: Passing literal html to 'read_html' is deprecated and will be removed in a future version. To read from a literal string, wrap it in a 'StringIO' object.\n",
      "  matches = pd.read_html(data.text, match='Scores & Fixtures')[0]\n"
     ]
    },
    {
     "name": "stdout",
     "output_type": "stream",
     "text": [
      "https://fbref.com/en/squads/8602292d/2020-2021/matchlogs/all_comps/shooting/Aston-Villa-Match-Logs-All-Competitions\n"
     ]
    },
    {
     "name": "stderr",
     "output_type": "stream",
     "text": [
      "/var/folders/mq/07ht7frx6vn8rjnw4vfpptvr0000gp/T/ipykernel_2842/3926472445.py:26: FutureWarning: Passing literal html to 'read_html' is deprecated and will be removed in a future version. To read from a literal string, wrap it in a 'StringIO' object.\n",
      "  shooting = pd.read_html(data.text, match='Shooting')[0]\n",
      "/var/folders/mq/07ht7frx6vn8rjnw4vfpptvr0000gp/T/ipykernel_2842/3926472445.py:19: FutureWarning: Passing literal html to 'read_html' is deprecated and will be removed in a future version. To read from a literal string, wrap it in a 'StringIO' object.\n",
      "  matches = pd.read_html(data.text, match='Scores & Fixtures')[0]\n"
     ]
    },
    {
     "name": "stdout",
     "output_type": "stream",
     "text": [
      "https://fbref.com/en/squads/b2b47a98/2020-2021/matchlogs/all_comps/shooting/Newcastle-United-Match-Logs-All-Competitions\n"
     ]
    },
    {
     "name": "stderr",
     "output_type": "stream",
     "text": [
      "/var/folders/mq/07ht7frx6vn8rjnw4vfpptvr0000gp/T/ipykernel_2842/3926472445.py:26: FutureWarning: Passing literal html to 'read_html' is deprecated and will be removed in a future version. To read from a literal string, wrap it in a 'StringIO' object.\n",
      "  shooting = pd.read_html(data.text, match='Shooting')[0]\n",
      "/var/folders/mq/07ht7frx6vn8rjnw4vfpptvr0000gp/T/ipykernel_2842/3926472445.py:19: FutureWarning: Passing literal html to 'read_html' is deprecated and will be removed in a future version. To read from a literal string, wrap it in a 'StringIO' object.\n",
      "  matches = pd.read_html(data.text, match='Scores & Fixtures')[0]\n"
     ]
    },
    {
     "name": "stdout",
     "output_type": "stream",
     "text": [
      "https://fbref.com/en/squads/8cec06e1/2020-2021/matchlogs/all_comps/shooting/Wolverhampton-Wanderers-Match-Logs-All-Competitions\n"
     ]
    },
    {
     "name": "stderr",
     "output_type": "stream",
     "text": [
      "/var/folders/mq/07ht7frx6vn8rjnw4vfpptvr0000gp/T/ipykernel_2842/3926472445.py:26: FutureWarning: Passing literal html to 'read_html' is deprecated and will be removed in a future version. To read from a literal string, wrap it in a 'StringIO' object.\n",
      "  shooting = pd.read_html(data.text, match='Shooting')[0]\n",
      "/var/folders/mq/07ht7frx6vn8rjnw4vfpptvr0000gp/T/ipykernel_2842/3926472445.py:19: FutureWarning: Passing literal html to 'read_html' is deprecated and will be removed in a future version. To read from a literal string, wrap it in a 'StringIO' object.\n",
      "  matches = pd.read_html(data.text, match='Scores & Fixtures')[0]\n"
     ]
    },
    {
     "name": "stdout",
     "output_type": "stream",
     "text": [
      "https://fbref.com/en/squads/47c64c55/2020-2021/matchlogs/all_comps/shooting/Crystal-Palace-Match-Logs-All-Competitions\n"
     ]
    },
    {
     "name": "stderr",
     "output_type": "stream",
     "text": [
      "/var/folders/mq/07ht7frx6vn8rjnw4vfpptvr0000gp/T/ipykernel_2842/3926472445.py:26: FutureWarning: Passing literal html to 'read_html' is deprecated and will be removed in a future version. To read from a literal string, wrap it in a 'StringIO' object.\n",
      "  shooting = pd.read_html(data.text, match='Shooting')[0]\n",
      "/var/folders/mq/07ht7frx6vn8rjnw4vfpptvr0000gp/T/ipykernel_2842/3926472445.py:19: FutureWarning: Passing literal html to 'read_html' is deprecated and will be removed in a future version. To read from a literal string, wrap it in a 'StringIO' object.\n",
      "  matches = pd.read_html(data.text, match='Scores & Fixtures')[0]\n"
     ]
    },
    {
     "name": "stdout",
     "output_type": "stream",
     "text": [
      "https://fbref.com/en/squads/33c895d4/2020-2021/matchlogs/all_comps/shooting/Southampton-Match-Logs-All-Competitions\n"
     ]
    },
    {
     "name": "stderr",
     "output_type": "stream",
     "text": [
      "/var/folders/mq/07ht7frx6vn8rjnw4vfpptvr0000gp/T/ipykernel_2842/3926472445.py:26: FutureWarning: Passing literal html to 'read_html' is deprecated and will be removed in a future version. To read from a literal string, wrap it in a 'StringIO' object.\n",
      "  shooting = pd.read_html(data.text, match='Shooting')[0]\n",
      "/var/folders/mq/07ht7frx6vn8rjnw4vfpptvr0000gp/T/ipykernel_2842/3926472445.py:19: FutureWarning: Passing literal html to 'read_html' is deprecated and will be removed in a future version. To read from a literal string, wrap it in a 'StringIO' object.\n",
      "  matches = pd.read_html(data.text, match='Scores & Fixtures')[0]\n"
     ]
    },
    {
     "name": "stdout",
     "output_type": "stream",
     "text": [
      "https://fbref.com/en/squads/d07537b9/2020-2021/matchlogs/all_comps/shooting/Brighton-and-Hove-Albion-Match-Logs-All-Competitions\n"
     ]
    },
    {
     "name": "stderr",
     "output_type": "stream",
     "text": [
      "/var/folders/mq/07ht7frx6vn8rjnw4vfpptvr0000gp/T/ipykernel_2842/3926472445.py:26: FutureWarning: Passing literal html to 'read_html' is deprecated and will be removed in a future version. To read from a literal string, wrap it in a 'StringIO' object.\n",
      "  shooting = pd.read_html(data.text, match='Shooting')[0]\n",
      "/var/folders/mq/07ht7frx6vn8rjnw4vfpptvr0000gp/T/ipykernel_2842/3926472445.py:19: FutureWarning: Passing literal html to 'read_html' is deprecated and will be removed in a future version. To read from a literal string, wrap it in a 'StringIO' object.\n",
      "  matches = pd.read_html(data.text, match='Scores & Fixtures')[0]\n"
     ]
    },
    {
     "name": "stdout",
     "output_type": "stream",
     "text": [
      "https://fbref.com/en/squads/943e8050/2020-2021/matchlogs/all_comps/shooting/Burnley-Match-Logs-All-Competitions\n"
     ]
    },
    {
     "name": "stderr",
     "output_type": "stream",
     "text": [
      "/var/folders/mq/07ht7frx6vn8rjnw4vfpptvr0000gp/T/ipykernel_2842/3926472445.py:26: FutureWarning: Passing literal html to 'read_html' is deprecated and will be removed in a future version. To read from a literal string, wrap it in a 'StringIO' object.\n",
      "  shooting = pd.read_html(data.text, match='Shooting')[0]\n",
      "/var/folders/mq/07ht7frx6vn8rjnw4vfpptvr0000gp/T/ipykernel_2842/3926472445.py:19: FutureWarning: Passing literal html to 'read_html' is deprecated and will be removed in a future version. To read from a literal string, wrap it in a 'StringIO' object.\n",
      "  matches = pd.read_html(data.text, match='Scores & Fixtures')[0]\n"
     ]
    },
    {
     "name": "stdout",
     "output_type": "stream",
     "text": [
      "https://fbref.com/en/squads/fd962109/2020-2021/matchlogs/all_comps/shooting/Fulham-Match-Logs-All-Competitions\n"
     ]
    },
    {
     "name": "stderr",
     "output_type": "stream",
     "text": [
      "/var/folders/mq/07ht7frx6vn8rjnw4vfpptvr0000gp/T/ipykernel_2842/3926472445.py:26: FutureWarning: Passing literal html to 'read_html' is deprecated and will be removed in a future version. To read from a literal string, wrap it in a 'StringIO' object.\n",
      "  shooting = pd.read_html(data.text, match='Shooting')[0]\n",
      "/var/folders/mq/07ht7frx6vn8rjnw4vfpptvr0000gp/T/ipykernel_2842/3926472445.py:19: FutureWarning: Passing literal html to 'read_html' is deprecated and will be removed in a future version. To read from a literal string, wrap it in a 'StringIO' object.\n",
      "  matches = pd.read_html(data.text, match='Scores & Fixtures')[0]\n"
     ]
    },
    {
     "name": "stdout",
     "output_type": "stream",
     "text": [
      "https://fbref.com/en/squads/60c6b05f/2020-2021/matchlogs/all_comps/shooting/West-Bromwich-Albion-Match-Logs-All-Competitions\n"
     ]
    },
    {
     "name": "stderr",
     "output_type": "stream",
     "text": [
      "/var/folders/mq/07ht7frx6vn8rjnw4vfpptvr0000gp/T/ipykernel_2842/3926472445.py:26: FutureWarning: Passing literal html to 'read_html' is deprecated and will be removed in a future version. To read from a literal string, wrap it in a 'StringIO' object.\n",
      "  shooting = pd.read_html(data.text, match='Shooting')[0]\n",
      "/var/folders/mq/07ht7frx6vn8rjnw4vfpptvr0000gp/T/ipykernel_2842/3926472445.py:19: FutureWarning: Passing literal html to 'read_html' is deprecated and will be removed in a future version. To read from a literal string, wrap it in a 'StringIO' object.\n",
      "  matches = pd.read_html(data.text, match='Scores & Fixtures')[0]\n"
     ]
    },
    {
     "name": "stdout",
     "output_type": "stream",
     "text": [
      "https://fbref.com/en/squads/1df6b87e/2020-2021/matchlogs/all_comps/shooting/Sheffield-United-Match-Logs-All-Competitions\n"
     ]
    },
    {
     "name": "stderr",
     "output_type": "stream",
     "text": [
      "/var/folders/mq/07ht7frx6vn8rjnw4vfpptvr0000gp/T/ipykernel_2842/3926472445.py:26: FutureWarning: Passing literal html to 'read_html' is deprecated and will be removed in a future version. To read from a literal string, wrap it in a 'StringIO' object.\n",
      "  shooting = pd.read_html(data.text, match='Shooting')[0]\n"
     ]
    }
   ],
   "source": [
    "standings_url = \"https://fbref.com/en/comps/9/Premier-League-Stats\"\n",
    "\n",
    "for year in years:\n",
    "    data = requests.get(standings_url)\n",
    "    soup = bs(data.text)\n",
    "    standings_table = soup.select('table.stats_table')[0]\n",
    "\n",
    "    links = [l.get('href') for l in standings_table.find_all('a')]\n",
    "    links = [l for l in links if '/squads/' in l]\n",
    "    team_urls = [f'https://fbref.com{l}' for l in links]\n",
    "\n",
    "    previous_season = soup.select('a.prev')[0].get('href')\n",
    "    standings_url = f\"https://fbref.com/{previous_season}\"\n",
    "\n",
    "    for team_url in team_urls:\n",
    "        team_name = team_url.split('/')[-1].replace('-Stats', '').replace('-', ' ')\n",
    "\n",
    "        data = requests.get(team_url)\n",
    "        matches = pd.read_html(data.text, match='Scores & Fixtures')[0]\n",
    "\n",
    "        soup = bs(data.text)\n",
    "        links = [l.get('href') for l in soup.find_all('a')]\n",
    "        links = [l for l in links if l and '/matchlogs/all_comps/shooting/' in l]\n",
    "        print(f'https://fbref.com{links[0]}')\n",
    "        data = requests.get(f'https://fbref.com{links[0]}')\n",
    "        shooting = pd.read_html(data.text, match='Shooting')[0]\n",
    "        shooting.columns = shooting.columns.droplevel()\n",
    "\n",
    "        try:\n",
    "            team_data = matches.merge(shooting[['Date', 'Sh', 'SoT', 'Dist', 'FK', 'PK', 'PKatt']], on='Date')\n",
    "        except ValueError:\n",
    "            continue\n",
    "\n",
    "        team_data = team_data[team_data['Comp'] == 'Premier League']\n",
    "        team_data['Season'] = year\n",
    "        team_data['Team'] = team_name\n",
    "        all_matches.append(team_data)\n",
    "        time.sleep(6)"
   ]
  },
  {
   "cell_type": "code",
   "execution_count": 30,
   "metadata": {},
   "outputs": [],
   "source": [
    "match_df = pd.concat(all_matches, ignore_index=True)"
   ]
  },
  {
   "cell_type": "code",
   "execution_count": 31,
   "metadata": {},
   "outputs": [
    {
     "data": {
      "text/html": [
       "<div>\n",
       "<style scoped>\n",
       "    .dataframe tbody tr th:only-of-type {\n",
       "        vertical-align: middle;\n",
       "    }\n",
       "\n",
       "    .dataframe tbody tr th {\n",
       "        vertical-align: top;\n",
       "    }\n",
       "\n",
       "    .dataframe thead th {\n",
       "        text-align: right;\n",
       "    }\n",
       "</style>\n",
       "<table border=\"1\" class=\"dataframe\">\n",
       "  <thead>\n",
       "    <tr style=\"text-align: right;\">\n",
       "      <th></th>\n",
       "      <th>Date</th>\n",
       "      <th>Time</th>\n",
       "      <th>Comp</th>\n",
       "      <th>Round</th>\n",
       "      <th>Day</th>\n",
       "      <th>Venue</th>\n",
       "      <th>Result</th>\n",
       "      <th>GF</th>\n",
       "      <th>GA</th>\n",
       "      <th>Opponent</th>\n",
       "      <th>...</th>\n",
       "      <th>Match Report</th>\n",
       "      <th>Notes</th>\n",
       "      <th>Sh</th>\n",
       "      <th>SoT</th>\n",
       "      <th>Dist</th>\n",
       "      <th>FK</th>\n",
       "      <th>PK</th>\n",
       "      <th>PKatt</th>\n",
       "      <th>Season</th>\n",
       "      <th>Team</th>\n",
       "    </tr>\n",
       "  </thead>\n",
       "  <tbody>\n",
       "    <tr>\n",
       "      <th>0</th>\n",
       "      <td>2023-08-12</td>\n",
       "      <td>12:30</td>\n",
       "      <td>Premier League</td>\n",
       "      <td>Matchweek 1</td>\n",
       "      <td>Sat</td>\n",
       "      <td>Home</td>\n",
       "      <td>W</td>\n",
       "      <td>2</td>\n",
       "      <td>1</td>\n",
       "      <td>Nott'ham Forest</td>\n",
       "      <td>...</td>\n",
       "      <td>Match Report</td>\n",
       "      <td>NaN</td>\n",
       "      <td>15.0</td>\n",
       "      <td>7.0</td>\n",
       "      <td>19.1</td>\n",
       "      <td>0.0</td>\n",
       "      <td>0</td>\n",
       "      <td>0</td>\n",
       "      <td>2023</td>\n",
       "      <td>Arsenal</td>\n",
       "    </tr>\n",
       "    <tr>\n",
       "      <th>1</th>\n",
       "      <td>2023-08-21</td>\n",
       "      <td>20:00</td>\n",
       "      <td>Premier League</td>\n",
       "      <td>Matchweek 2</td>\n",
       "      <td>Mon</td>\n",
       "      <td>Away</td>\n",
       "      <td>W</td>\n",
       "      <td>1</td>\n",
       "      <td>0</td>\n",
       "      <td>Crystal Palace</td>\n",
       "      <td>...</td>\n",
       "      <td>Match Report</td>\n",
       "      <td>NaN</td>\n",
       "      <td>13.0</td>\n",
       "      <td>2.0</td>\n",
       "      <td>16.4</td>\n",
       "      <td>0.0</td>\n",
       "      <td>1</td>\n",
       "      <td>1</td>\n",
       "      <td>2023</td>\n",
       "      <td>Arsenal</td>\n",
       "    </tr>\n",
       "    <tr>\n",
       "      <th>2</th>\n",
       "      <td>2023-08-26</td>\n",
       "      <td>15:00</td>\n",
       "      <td>Premier League</td>\n",
       "      <td>Matchweek 3</td>\n",
       "      <td>Sat</td>\n",
       "      <td>Home</td>\n",
       "      <td>D</td>\n",
       "      <td>2</td>\n",
       "      <td>2</td>\n",
       "      <td>Fulham</td>\n",
       "      <td>...</td>\n",
       "      <td>Match Report</td>\n",
       "      <td>NaN</td>\n",
       "      <td>18.0</td>\n",
       "      <td>9.0</td>\n",
       "      <td>13.8</td>\n",
       "      <td>0.0</td>\n",
       "      <td>1</td>\n",
       "      <td>1</td>\n",
       "      <td>2023</td>\n",
       "      <td>Arsenal</td>\n",
       "    </tr>\n",
       "    <tr>\n",
       "      <th>3</th>\n",
       "      <td>2023-09-03</td>\n",
       "      <td>16:30</td>\n",
       "      <td>Premier League</td>\n",
       "      <td>Matchweek 4</td>\n",
       "      <td>Sun</td>\n",
       "      <td>Home</td>\n",
       "      <td>W</td>\n",
       "      <td>3</td>\n",
       "      <td>1</td>\n",
       "      <td>Manchester Utd</td>\n",
       "      <td>...</td>\n",
       "      <td>Match Report</td>\n",
       "      <td>NaN</td>\n",
       "      <td>17.0</td>\n",
       "      <td>5.0</td>\n",
       "      <td>15.0</td>\n",
       "      <td>0.0</td>\n",
       "      <td>0</td>\n",
       "      <td>0</td>\n",
       "      <td>2023</td>\n",
       "      <td>Arsenal</td>\n",
       "    </tr>\n",
       "    <tr>\n",
       "      <th>4</th>\n",
       "      <td>2023-09-17</td>\n",
       "      <td>16:30</td>\n",
       "      <td>Premier League</td>\n",
       "      <td>Matchweek 5</td>\n",
       "      <td>Sun</td>\n",
       "      <td>Away</td>\n",
       "      <td>W</td>\n",
       "      <td>1</td>\n",
       "      <td>0</td>\n",
       "      <td>Everton</td>\n",
       "      <td>...</td>\n",
       "      <td>Match Report</td>\n",
       "      <td>NaN</td>\n",
       "      <td>13.0</td>\n",
       "      <td>4.0</td>\n",
       "      <td>17.4</td>\n",
       "      <td>0.0</td>\n",
       "      <td>0</td>\n",
       "      <td>0</td>\n",
       "      <td>2023</td>\n",
       "      <td>Arsenal</td>\n",
       "    </tr>\n",
       "    <tr>\n",
       "      <th>...</th>\n",
       "      <td>...</td>\n",
       "      <td>...</td>\n",
       "      <td>...</td>\n",
       "      <td>...</td>\n",
       "      <td>...</td>\n",
       "      <td>...</td>\n",
       "      <td>...</td>\n",
       "      <td>...</td>\n",
       "      <td>...</td>\n",
       "      <td>...</td>\n",
       "      <td>...</td>\n",
       "      <td>...</td>\n",
       "      <td>...</td>\n",
       "      <td>...</td>\n",
       "      <td>...</td>\n",
       "      <td>...</td>\n",
       "      <td>...</td>\n",
       "      <td>...</td>\n",
       "      <td>...</td>\n",
       "      <td>...</td>\n",
       "      <td>...</td>\n",
       "    </tr>\n",
       "    <tr>\n",
       "      <th>2555</th>\n",
       "      <td>2021-05-02</td>\n",
       "      <td>19:15</td>\n",
       "      <td>Premier League</td>\n",
       "      <td>Matchweek 34</td>\n",
       "      <td>Sun</td>\n",
       "      <td>Away</td>\n",
       "      <td>L</td>\n",
       "      <td>0</td>\n",
       "      <td>4</td>\n",
       "      <td>Tottenham</td>\n",
       "      <td>...</td>\n",
       "      <td>Match Report</td>\n",
       "      <td>NaN</td>\n",
       "      <td>8.0</td>\n",
       "      <td>1.0</td>\n",
       "      <td>18.2</td>\n",
       "      <td>0.0</td>\n",
       "      <td>0</td>\n",
       "      <td>0</td>\n",
       "      <td>2020</td>\n",
       "      <td>Sheffield United</td>\n",
       "    </tr>\n",
       "    <tr>\n",
       "      <th>2556</th>\n",
       "      <td>2021-05-08</td>\n",
       "      <td>15:00</td>\n",
       "      <td>Premier League</td>\n",
       "      <td>Matchweek 35</td>\n",
       "      <td>Sat</td>\n",
       "      <td>Home</td>\n",
       "      <td>L</td>\n",
       "      <td>0</td>\n",
       "      <td>2</td>\n",
       "      <td>Crystal Palace</td>\n",
       "      <td>...</td>\n",
       "      <td>Match Report</td>\n",
       "      <td>NaN</td>\n",
       "      <td>7.0</td>\n",
       "      <td>0.0</td>\n",
       "      <td>13.4</td>\n",
       "      <td>1.0</td>\n",
       "      <td>0</td>\n",
       "      <td>0</td>\n",
       "      <td>2020</td>\n",
       "      <td>Sheffield United</td>\n",
       "    </tr>\n",
       "    <tr>\n",
       "      <th>2557</th>\n",
       "      <td>2021-05-16</td>\n",
       "      <td>19:00</td>\n",
       "      <td>Premier League</td>\n",
       "      <td>Matchweek 36</td>\n",
       "      <td>Sun</td>\n",
       "      <td>Away</td>\n",
       "      <td>W</td>\n",
       "      <td>1</td>\n",
       "      <td>0</td>\n",
       "      <td>Everton</td>\n",
       "      <td>...</td>\n",
       "      <td>Match Report</td>\n",
       "      <td>NaN</td>\n",
       "      <td>10.0</td>\n",
       "      <td>3.0</td>\n",
       "      <td>18.5</td>\n",
       "      <td>0.0</td>\n",
       "      <td>0</td>\n",
       "      <td>0</td>\n",
       "      <td>2020</td>\n",
       "      <td>Sheffield United</td>\n",
       "    </tr>\n",
       "    <tr>\n",
       "      <th>2558</th>\n",
       "      <td>2021-05-19</td>\n",
       "      <td>18:00</td>\n",
       "      <td>Premier League</td>\n",
       "      <td>Matchweek 37</td>\n",
       "      <td>Wed</td>\n",
       "      <td>Away</td>\n",
       "      <td>L</td>\n",
       "      <td>0</td>\n",
       "      <td>1</td>\n",
       "      <td>Newcastle Utd</td>\n",
       "      <td>...</td>\n",
       "      <td>Match Report</td>\n",
       "      <td>NaN</td>\n",
       "      <td>11.0</td>\n",
       "      <td>1.0</td>\n",
       "      <td>18.3</td>\n",
       "      <td>1.0</td>\n",
       "      <td>0</td>\n",
       "      <td>0</td>\n",
       "      <td>2020</td>\n",
       "      <td>Sheffield United</td>\n",
       "    </tr>\n",
       "    <tr>\n",
       "      <th>2559</th>\n",
       "      <td>2021-05-23</td>\n",
       "      <td>16:00</td>\n",
       "      <td>Premier League</td>\n",
       "      <td>Matchweek 38</td>\n",
       "      <td>Sun</td>\n",
       "      <td>Home</td>\n",
       "      <td>W</td>\n",
       "      <td>1</td>\n",
       "      <td>0</td>\n",
       "      <td>Burnley</td>\n",
       "      <td>...</td>\n",
       "      <td>Match Report</td>\n",
       "      <td>NaN</td>\n",
       "      <td>12.0</td>\n",
       "      <td>3.0</td>\n",
       "      <td>17.4</td>\n",
       "      <td>0.0</td>\n",
       "      <td>0</td>\n",
       "      <td>0</td>\n",
       "      <td>2020</td>\n",
       "      <td>Sheffield United</td>\n",
       "    </tr>\n",
       "  </tbody>\n",
       "</table>\n",
       "<p>2560 rows × 27 columns</p>\n",
       "</div>"
      ],
      "text/plain": [
       "            Date   Time            Comp         Round  Day Venue Result GF GA  \\\n",
       "0     2023-08-12  12:30  Premier League   Matchweek 1  Sat  Home      W  2  1   \n",
       "1     2023-08-21  20:00  Premier League   Matchweek 2  Mon  Away      W  1  0   \n",
       "2     2023-08-26  15:00  Premier League   Matchweek 3  Sat  Home      D  2  2   \n",
       "3     2023-09-03  16:30  Premier League   Matchweek 4  Sun  Home      W  3  1   \n",
       "4     2023-09-17  16:30  Premier League   Matchweek 5  Sun  Away      W  1  0   \n",
       "...          ...    ...             ...           ...  ...   ...    ... .. ..   \n",
       "2555  2021-05-02  19:15  Premier League  Matchweek 34  Sun  Away      L  0  4   \n",
       "2556  2021-05-08  15:00  Premier League  Matchweek 35  Sat  Home      L  0  2   \n",
       "2557  2021-05-16  19:00  Premier League  Matchweek 36  Sun  Away      W  1  0   \n",
       "2558  2021-05-19  18:00  Premier League  Matchweek 37  Wed  Away      L  0  1   \n",
       "2559  2021-05-23  16:00  Premier League  Matchweek 38  Sun  Home      W  1  0   \n",
       "\n",
       "             Opponent  ...  Match Report  Notes    Sh  SoT  Dist   FK PK  \\\n",
       "0     Nott'ham Forest  ...  Match Report    NaN  15.0  7.0  19.1  0.0  0   \n",
       "1      Crystal Palace  ...  Match Report    NaN  13.0  2.0  16.4  0.0  1   \n",
       "2              Fulham  ...  Match Report    NaN  18.0  9.0  13.8  0.0  1   \n",
       "3      Manchester Utd  ...  Match Report    NaN  17.0  5.0  15.0  0.0  0   \n",
       "4             Everton  ...  Match Report    NaN  13.0  4.0  17.4  0.0  0   \n",
       "...               ...  ...           ...    ...   ...  ...   ...  ... ..   \n",
       "2555        Tottenham  ...  Match Report    NaN   8.0  1.0  18.2  0.0  0   \n",
       "2556   Crystal Palace  ...  Match Report    NaN   7.0  0.0  13.4  1.0  0   \n",
       "2557          Everton  ...  Match Report    NaN  10.0  3.0  18.5  0.0  0   \n",
       "2558    Newcastle Utd  ...  Match Report    NaN  11.0  1.0  18.3  1.0  0   \n",
       "2559          Burnley  ...  Match Report    NaN  12.0  3.0  17.4  0.0  0   \n",
       "\n",
       "     PKatt Season              Team  \n",
       "0        0   2023           Arsenal  \n",
       "1        1   2023           Arsenal  \n",
       "2        1   2023           Arsenal  \n",
       "3        0   2023           Arsenal  \n",
       "4        0   2023           Arsenal  \n",
       "...    ...    ...               ...  \n",
       "2555     0   2020  Sheffield United  \n",
       "2556     0   2020  Sheffield United  \n",
       "2557     0   2020  Sheffield United  \n",
       "2558     0   2020  Sheffield United  \n",
       "2559     0   2020  Sheffield United  \n",
       "\n",
       "[2560 rows x 27 columns]"
      ]
     },
     "execution_count": 31,
     "metadata": {},
     "output_type": "execute_result"
    }
   ],
   "source": [
    "match_df"
   ]
  },
  {
   "cell_type": "code",
   "execution_count": 32,
   "metadata": {},
   "outputs": [],
   "source": [
    "match_df.columns = [c.lower() for c in match_df.columns]"
   ]
  },
  {
   "cell_type": "code",
   "execution_count": 33,
   "metadata": {},
   "outputs": [],
   "source": [
    "match_df.to_csv('matches.csv')"
   ]
  }
 ],
 "metadata": {
  "kernelspec": {
   "display_name": "Python 3",
   "language": "python",
   "name": "python3"
  },
  "language_info": {
   "codemirror_mode": {
    "name": "ipython",
    "version": 3
   },
   "file_extension": ".py",
   "mimetype": "text/x-python",
   "name": "python",
   "nbconvert_exporter": "python",
   "pygments_lexer": "ipython3",
   "version": "3.11.5"
  }
 },
 "nbformat": 4,
 "nbformat_minor": 2
}
