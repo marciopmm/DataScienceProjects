{
 "cells": [
  {
   "cell_type": "code",
   "execution_count": 1,
   "metadata": {},
   "outputs": [],
   "source": [
    "import pandas as pd\n",
    "import requests\n",
    "import time\n",
    "from bs4 import BeautifulSoup as bs\n",
    "from io import StringIO\n"
   ]
  },
  {
   "cell_type": "markdown",
   "metadata": {},
   "source": [
    "# Início da Coleta Real de Dados"
   ]
  },
  {
   "cell_type": "code",
   "execution_count": 2,
   "metadata": {},
   "outputs": [],
   "source": [
    "#years = list(range(2018,2025))\n",
    "years = list(range(2024,2019,-1))"
   ]
  },
  {
   "cell_type": "code",
   "execution_count": 3,
   "metadata": {},
   "outputs": [
    {
     "data": {
      "text/plain": [
       "[2024, 2023, 2022, 2021, 2020]"
      ]
     },
     "execution_count": 3,
     "metadata": {},
     "output_type": "execute_result"
    }
   ],
   "source": [
    "years"
   ]
  },
  {
   "cell_type": "code",
   "execution_count": 4,
   "metadata": {},
   "outputs": [],
   "source": [
    "all_matches = []"
   ]
  },
  {
   "cell_type": "code",
   "execution_count": 5,
   "metadata": {},
   "outputs": [
    {
     "name": "stdout",
     "output_type": "stream",
     "text": [
      "https://fbref.com/pt/equipes/a77c513e/2023-2024/partidas/all_comps/shooting/Benfica-Historicos-dos-Jogos-Todos-os-campeonatos\n",
      "https://fbref.com/pt/equipes/13dc44fd/2023-2024/partidas/all_comps/shooting/Sporting-CP-Historicos-dos-Jogos-Todos-os-campeonatos\n",
      "https://fbref.com/pt/equipes/5e876ee6/2023-2024/partidas/all_comps/shooting/Porto-Historicos-dos-Jogos-Todos-os-campeonatos\n",
      "https://fbref.com/pt/equipes/69d84c29/2023-2024/partidas/all_comps/shooting/Braga-Historicos-dos-Jogos-Todos-os-campeonatos\n",
      "https://fbref.com/pt/equipes/3f319bc9/2023-2024/partidas/all_comps/shooting/Vitoria-Guimaraes-Historicos-dos-Jogos-Todos-os-campeonatos\n",
      "https://fbref.com/pt/equipes/e4502862/2023-2024/partidas/all_comps/shooting/Moreirense-Historicos-dos-Jogos-Todos-os-campeonatos\n",
      "https://fbref.com/pt/equipes/489c9cd9/2023-2024/partidas/all_comps/shooting/Farense-Historicos-dos-Jogos-Todos-os-campeonatos\n",
      "https://fbref.com/pt/equipes/0d36ddd4/2023-2024/partidas/all_comps/shooting/Arouca-Historicos-dos-Jogos-Todos-os-campeonatos\n",
      "https://fbref.com/pt/equipes/37b7e9e2/2023-2024/partidas/all_comps/shooting/Boavista-Historicos-dos-Jogos-Todos-os-campeonatos\n",
      "https://fbref.com/pt/equipes/2de656d5/2023-2024/partidas/all_comps/shooting/Famalicao-Historicos-dos-Jogos-Todos-os-campeonatos\n",
      "https://fbref.com/pt/equipes/6a329209/2023-2024/partidas/all_comps/shooting/Gil-Vicente-FC-Historicos-dos-Jogos-Todos-os-campeonatos\n",
      "https://fbref.com/pt/equipes/0cb9f756/2023-2024/partidas/all_comps/shooting/Estrela-Historicos-dos-Jogos-Todos-os-campeonatos\n",
      "https://fbref.com/pt/equipes/a549d6c6/2023-2024/partidas/all_comps/shooting/Portimonense-Historicos-dos-Jogos-Todos-os-campeonatos\n",
      "https://fbref.com/pt/equipes/00c41b75/2023-2024/partidas/all_comps/shooting/Estoril-Historicos-dos-Jogos-Todos-os-campeonatos\n",
      "https://fbref.com/pt/equipes/b20a2b76/2023-2024/partidas/all_comps/shooting/Casa-Pia-Historicos-dos-Jogos-Todos-os-campeonatos\n",
      "https://fbref.com/pt/equipes/eea856da/2023-2024/partidas/all_comps/shooting/Rio-Ave-Historicos-dos-Jogos-Todos-os-campeonatos\n",
      "https://fbref.com/pt/equipes/bf4e8a13/2023-2024/partidas/all_comps/shooting/Chaves-Historicos-dos-Jogos-Todos-os-campeonatos\n",
      "https://fbref.com/pt/equipes/b9daacef/2023-2024/partidas/all_comps/shooting/Vizela-Historicos-dos-Jogos-Todos-os-campeonatos\n",
      "https://fbref.com/pt/equipes/a77c513e/2022-2023/partidas/all_comps/shooting/Benfica-Historicos-dos-Jogos-Todos-os-campeonatos\n",
      "https://fbref.com/pt/equipes/5e876ee6/2022-2023/partidas/all_comps/shooting/Porto-Historicos-dos-Jogos-Todos-os-campeonatos\n",
      "https://fbref.com/pt/equipes/69d84c29/2022-2023/partidas/all_comps/shooting/Braga-Historicos-dos-Jogos-Todos-os-campeonatos\n",
      "https://fbref.com/pt/equipes/13dc44fd/2022-2023/partidas/all_comps/shooting/Sporting-CP-Historicos-dos-Jogos-Todos-os-campeonatos\n",
      "https://fbref.com/pt/equipes/0d36ddd4/2022-2023/partidas/all_comps/shooting/Arouca-Historicos-dos-Jogos-Todos-os-campeonatos\n",
      "https://fbref.com/pt/equipes/3f319bc9/2022-2023/partidas/all_comps/shooting/Vitoria-Guimaraes-Historicos-dos-Jogos-Todos-os-campeonatos\n",
      "https://fbref.com/pt/equipes/bf4e8a13/2022-2023/partidas/all_comps/shooting/Chaves-Historicos-dos-Jogos-Todos-os-campeonatos\n",
      "https://fbref.com/pt/equipes/2de656d5/2022-2023/partidas/all_comps/shooting/Famalicao-Historicos-dos-Jogos-Todos-os-campeonatos\n",
      "https://fbref.com/pt/equipes/37b7e9e2/2022-2023/partidas/all_comps/shooting/Boavista-Historicos-dos-Jogos-Todos-os-campeonatos\n",
      "https://fbref.com/pt/equipes/b20a2b76/2022-2023/partidas/all_comps/shooting/Casa-Pia-Historicos-dos-Jogos-Todos-os-campeonatos\n",
      "https://fbref.com/pt/equipes/b9daacef/2022-2023/partidas/all_comps/shooting/Vizela-Historicos-dos-Jogos-Todos-os-campeonatos\n",
      "https://fbref.com/pt/equipes/eea856da/2022-2023/partidas/all_comps/shooting/Rio-Ave-Historicos-dos-Jogos-Todos-os-campeonatos\n",
      "https://fbref.com/pt/equipes/6a329209/2022-2023/partidas/all_comps/shooting/Gil-Vicente-FC-Historicos-dos-Jogos-Todos-os-campeonatos\n",
      "https://fbref.com/pt/equipes/00c41b75/2022-2023/partidas/all_comps/shooting/Estoril-Historicos-dos-Jogos-Todos-os-campeonatos\n",
      "https://fbref.com/pt/equipes/a549d6c6/2022-2023/partidas/all_comps/shooting/Portimonense-Historicos-dos-Jogos-Todos-os-campeonatos\n",
      "https://fbref.com/pt/equipes/c1b0f61b/2022-2023/partidas/all_comps/shooting/Maritimo-Historicos-dos-Jogos-Todos-os-campeonatos\n",
      "https://fbref.com/pt/equipes/f6af6f6f/2022-2023/partidas/all_comps/shooting/Pacos-de-Ferreira-Historicos-dos-Jogos-Todos-os-campeonatos\n",
      "https://fbref.com/pt/equipes/f5b64cb1/2022-2023/partidas/all_comps/shooting/Santa-Clara-Historicos-dos-Jogos-Todos-os-campeonatos\n",
      "https://fbref.com/pt/equipes/5e876ee6/2021-2022/partidas/all_comps/shooting/Porto-Historicos-dos-Jogos-Todos-os-campeonatos\n",
      "https://fbref.com/pt/equipes/13dc44fd/2021-2022/partidas/all_comps/shooting/Sporting-CP-Historicos-dos-Jogos-Todos-os-campeonatos\n",
      "https://fbref.com/pt/equipes/a77c513e/2021-2022/partidas/all_comps/shooting/Benfica-Historicos-dos-Jogos-Todos-os-campeonatos\n",
      "https://fbref.com/pt/equipes/69d84c29/2021-2022/partidas/all_comps/shooting/Braga-Historicos-dos-Jogos-Todos-os-campeonatos\n",
      "https://fbref.com/pt/equipes/6a329209/2021-2022/partidas/all_comps/shooting/Gil-Vicente-FC-Historicos-dos-Jogos-Todos-os-campeonatos\n",
      "https://fbref.com/pt/equipes/3f319bc9/2021-2022/partidas/all_comps/shooting/Vitoria-Guimaraes-Historicos-dos-Jogos-Todos-os-campeonatos\n",
      "https://fbref.com/pt/equipes/f5b64cb1/2021-2022/partidas/all_comps/shooting/Santa-Clara-Historicos-dos-Jogos-Todos-os-campeonatos\n",
      "https://fbref.com/pt/equipes/2de656d5/2021-2022/partidas/all_comps/shooting/Famalicao-Historicos-dos-Jogos-Todos-os-campeonatos\n",
      "https://fbref.com/pt/equipes/00c41b75/2021-2022/partidas/all_comps/shooting/Estoril-Historicos-dos-Jogos-Todos-os-campeonatos\n",
      "https://fbref.com/pt/equipes/c1b0f61b/2021-2022/partidas/all_comps/shooting/Maritimo-Historicos-dos-Jogos-Todos-os-campeonatos\n",
      "https://fbref.com/pt/equipes/f6af6f6f/2021-2022/partidas/all_comps/shooting/Pacos-de-Ferreira-Historicos-dos-Jogos-Todos-os-campeonatos\n",
      "https://fbref.com/pt/equipes/37b7e9e2/2021-2022/partidas/all_comps/shooting/Boavista-Historicos-dos-Jogos-Todos-os-campeonatos\n",
      "https://fbref.com/pt/equipes/a549d6c6/2021-2022/partidas/all_comps/shooting/Portimonense-Historicos-dos-Jogos-Todos-os-campeonatos\n",
      "https://fbref.com/pt/equipes/b9daacef/2021-2022/partidas/all_comps/shooting/Vizela-Historicos-dos-Jogos-Todos-os-campeonatos\n",
      "https://fbref.com/pt/equipes/0d36ddd4/2021-2022/partidas/all_comps/shooting/Arouca-Historicos-dos-Jogos-Todos-os-campeonatos\n",
      "https://fbref.com/pt/equipes/e4502862/2021-2022/partidas/all_comps/shooting/Moreirense-Historicos-dos-Jogos-Todos-os-campeonatos\n",
      "https://fbref.com/pt/equipes/e442fa76/2021-2022/partidas/all_comps/shooting/Tondela-Historicos-dos-Jogos-Todos-os-campeonatos\n",
      "https://fbref.com/pt/equipes/5905b07a/2021-2022/partidas/all_comps/shooting/Belenenses-SAD-Historicos-dos-Jogos-Todos-os-campeonatos\n",
      "https://fbref.com/pt/equipes/13dc44fd/2020-2021/partidas/all_comps/shooting/Sporting-CP-Historicos-dos-Jogos-Todos-os-campeonatos\n",
      "https://fbref.com/pt/equipes/5e876ee6/2020-2021/partidas/all_comps/shooting/Porto-Historicos-dos-Jogos-Todos-os-campeonatos\n",
      "https://fbref.com/pt/equipes/a77c513e/2020-2021/partidas/all_comps/shooting/Benfica-Historicos-dos-Jogos-Todos-os-campeonatos\n",
      "https://fbref.com/pt/equipes/69d84c29/2020-2021/partidas/all_comps/shooting/Braga-Historicos-dos-Jogos-Todos-os-campeonatos\n",
      "https://fbref.com/pt/equipes/f6af6f6f/2020-2021/partidas/all_comps/shooting/Pacos-de-Ferreira-Historicos-dos-Jogos-Todos-os-campeonatos\n",
      "https://fbref.com/pt/equipes/f5b64cb1/2020-2021/partidas/all_comps/shooting/Santa-Clara-Historicos-dos-Jogos-Todos-os-campeonatos\n",
      "https://fbref.com/pt/equipes/3f319bc9/2020-2021/partidas/all_comps/shooting/Vitoria-Guimaraes-Historicos-dos-Jogos-Todos-os-campeonatos\n",
      "https://fbref.com/pt/equipes/e4502862/2020-2021/partidas/all_comps/shooting/Moreirense-Historicos-dos-Jogos-Todos-os-campeonatos\n",
      "https://fbref.com/pt/equipes/2de656d5/2020-2021/partidas/all_comps/shooting/Famalicao-Historicos-dos-Jogos-Todos-os-campeonatos\n",
      "https://fbref.com/pt/equipes/5905b07a/2020-2021/partidas/all_comps/shooting/Belenenses-SAD-Historicos-dos-Jogos-Todos-os-campeonatos\n",
      "https://fbref.com/pt/equipes/6a329209/2020-2021/partidas/all_comps/shooting/Gil-Vicente-FC-Historicos-dos-Jogos-Todos-os-campeonatos\n",
      "https://fbref.com/pt/equipes/e442fa76/2020-2021/partidas/all_comps/shooting/Tondela-Historicos-dos-Jogos-Todos-os-campeonatos\n",
      "https://fbref.com/pt/equipes/37b7e9e2/2020-2021/partidas/all_comps/shooting/Boavista-Historicos-dos-Jogos-Todos-os-campeonatos\n",
      "https://fbref.com/pt/equipes/a549d6c6/2020-2021/partidas/all_comps/shooting/Portimonense-Historicos-dos-Jogos-Todos-os-campeonatos\n",
      "https://fbref.com/pt/equipes/c1b0f61b/2020-2021/partidas/all_comps/shooting/Maritimo-Historicos-dos-Jogos-Todos-os-campeonatos\n",
      "https://fbref.com/pt/equipes/eea856da/2020-2021/partidas/all_comps/shooting/Rio-Ave-Historicos-dos-Jogos-Todos-os-campeonatos\n",
      "https://fbref.com/pt/equipes/489c9cd9/2020-2021/partidas/all_comps/shooting/Farense-Historicos-dos-Jogos-Todos-os-campeonatos\n",
      "https://fbref.com/pt/equipes/5c9eb756/2020-2021/partidas/all_comps/shooting/Nacional-Historicos-dos-Jogos-Todos-os-campeonatos\n",
      "https://fbref.com/pt/equipes/5e876ee6/2019-2020/partidas/all_comps/shooting/Porto-Historicos-dos-Jogos-Todos-os-campeonatos\n",
      "https://fbref.com/pt/equipes/a77c513e/2019-2020/partidas/all_comps/shooting/Benfica-Historicos-dos-Jogos-Todos-os-campeonatos\n",
      "https://fbref.com/pt/equipes/69d84c29/2019-2020/partidas/all_comps/shooting/Braga-Historicos-dos-Jogos-Todos-os-campeonatos\n",
      "https://fbref.com/pt/equipes/13dc44fd/2019-2020/partidas/all_comps/shooting/Sporting-CP-Historicos-dos-Jogos-Todos-os-campeonatos\n",
      "https://fbref.com/pt/equipes/eea856da/2019-2020/partidas/all_comps/shooting/Rio-Ave-Historicos-dos-Jogos-Todos-os-campeonatos\n",
      "https://fbref.com/pt/equipes/2de656d5/2019-2020/partidas/all_comps/shooting/Famalicao-Historicos-dos-Jogos-Todos-os-campeonatos\n",
      "https://fbref.com/pt/equipes/3f319bc9/2019-2020/partidas/all_comps/shooting/Vitoria-Guimaraes-Historicos-dos-Jogos-Todos-os-campeonatos\n",
      "https://fbref.com/pt/equipes/e4502862/2019-2020/partidas/all_comps/shooting/Moreirense-Historicos-dos-Jogos-Todos-os-campeonatos\n",
      "https://fbref.com/pt/equipes/f5b64cb1/2019-2020/partidas/all_comps/shooting/Santa-Clara-Historicos-dos-Jogos-Todos-os-campeonatos\n",
      "https://fbref.com/pt/equipes/6a329209/2019-2020/partidas/all_comps/shooting/Gil-Vicente-FC-Historicos-dos-Jogos-Todos-os-campeonatos\n",
      "https://fbref.com/pt/equipes/c1b0f61b/2019-2020/partidas/all_comps/shooting/Maritimo-Historicos-dos-Jogos-Todos-os-campeonatos\n",
      "https://fbref.com/pt/equipes/37b7e9e2/2019-2020/partidas/all_comps/shooting/Boavista-Historicos-dos-Jogos-Todos-os-campeonatos\n",
      "https://fbref.com/pt/equipes/f6af6f6f/2019-2020/partidas/all_comps/shooting/Pacos-de-Ferreira-Historicos-dos-Jogos-Todos-os-campeonatos\n",
      "https://fbref.com/pt/equipes/e442fa76/2019-2020/partidas/all_comps/shooting/Tondela-Historicos-dos-Jogos-Todos-os-campeonatos\n",
      "https://fbref.com/pt/equipes/5905b07a/2019-2020/partidas/all_comps/shooting/Belenenses-SAD-Historicos-dos-Jogos-Todos-os-campeonatos\n",
      "https://fbref.com/pt/equipes/4cb59dcf/2019-2020/partidas/all_comps/shooting/Vitoria-Setubal-Historicos-dos-Jogos-Todos-os-campeonatos\n",
      "https://fbref.com/pt/equipes/a549d6c6/2019-2020/partidas/all_comps/shooting/Portimonense-Historicos-dos-Jogos-Todos-os-campeonatos\n",
      "https://fbref.com/pt/equipes/cfdb925a/2019-2020/partidas/all_comps/shooting/Aves-Historicos-dos-Jogos-Todos-os-campeonatos\n"
     ]
    }
   ],
   "source": [
    "standings_url = \"https://fbref.com/pt/comps/32/{ano}-{ano1}/{ano}-{ano1}-Primeira-Liga-estatisticas\"\n",
    "\n",
    "for year in years:\n",
    "    data = requests.get(standings_url.replace(\"{ano}\", str(year-1)).replace(\"{ano1}\", str(year)))\n",
    "    if data.status_code != 200:\n",
    "        print(f'{year-1}-{year} - Temporada Não Disponível')\n",
    "        continue;\n",
    "    soup = bs(data.text)\n",
    "    standings_table = soup.select('table.stats_table')[0]\n",
    "\n",
    "    links = [l.get('href') for l in standings_table.find_all('a')]\n",
    "    links = [l for l in links if '/equipes/' in l]\n",
    "    team_urls = [f'https://fbref.com{l}' for l in links]\n",
    "\n",
    "    # previous_season = soup.select('a.prev')[0].get('href')\n",
    "    # standings_url = f\"https://fbref.com/{previous_season}\"\n",
    "\n",
    "    for team_url in team_urls:\n",
    "        team_name = team_url.split('/')[-1].replace('-Estatisticas', '').replace('-', ' ')\n",
    "\n",
    "        data = requests.get(team_url)\n",
    "        matches = pd.read_html(StringIO(data.text), match='Resultados e Calendários')[0]\n",
    "\n",
    "        soup = bs(data.text)\n",
    "        links = [l.get('href') for l in soup.find_all('a')]\n",
    "        links = [l for l in links if l and '/partidas/all_comps/shooting/' in l]\n",
    "        print(f'https://fbref.com{links[0]}')\n",
    "        data = requests.get(f'https://fbref.com{links[0]}')\n",
    "        shooting = pd.read_html(StringIO(data.text), match='Chutes')[0]\n",
    "        shooting.columns = shooting.columns.droplevel()\n",
    "\n",
    "        try:\n",
    "            team_data = matches.merge(shooting[['Data', 'TC', 'CaG', 'Dist', 'G/Sh', 'FK', 'PB', 'PT']], on='Data')\n",
    "        except ValueError:\n",
    "            continue\n",
    "\n",
    "        team_data = team_data[team_data['Camp.'] == 'Primeira Liga']\n",
    "        team_data['Temporada'] = f'{year}-{year+1}'\n",
    "        team_data['Time'] = team_name\n",
    "        all_matches.append(team_data)\n",
    "        time.sleep(6)"
   ]
  },
  {
   "cell_type": "code",
   "execution_count": null,
   "metadata": {},
   "outputs": [],
   "source": [
    "match_df = pd.concat(all_matches, ignore_index=True)"
   ]
  },
  {
   "cell_type": "code",
   "execution_count": null,
   "metadata": {},
   "outputs": [],
   "source": [
    "match_df['Camp'] = match_df['Camp.']\n",
    "match_df = match_df.drop('Camp.', axis='columns')"
   ]
  },
  {
   "cell_type": "code",
   "execution_count": null,
   "metadata": {},
   "outputs": [],
   "source": [
    "match_df.columns = [c.lower() for c in match_df.columns]"
   ]
  },
  {
   "cell_type": "code",
   "execution_count": null,
   "metadata": {},
   "outputs": [],
   "source": [
    "match_df.to_csv('portugal_matches.csv')"
   ]
  }
 ],
 "metadata": {
  "kernelspec": {
   "display_name": "Python 3",
   "language": "python",
   "name": "python3"
  },
  "language_info": {
   "codemirror_mode": {
    "name": "ipython",
    "version": 3
   },
   "file_extension": ".py",
   "mimetype": "text/x-python",
   "name": "python",
   "nbconvert_exporter": "python",
   "pygments_lexer": "ipython3",
   "version": "3.11.5"
  }
 },
 "nbformat": 4,
 "nbformat_minor": 2
}
