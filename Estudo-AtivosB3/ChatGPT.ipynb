{
 "cells": [
  {
   "cell_type": "code",
   "execution_count": 2,
   "metadata": {},
   "outputs": [
    {
     "ename": "ModuleNotFoundError",
     "evalue": "No module named 'pandas'",
     "output_type": "error",
     "traceback": [
      "\u001b[0;31m---------------------------------------------------------------------------\u001b[0m",
      "\u001b[0;31mModuleNotFoundError\u001b[0m                       Traceback (most recent call last)",
      "\u001b[1;32m/Users/marciopmm/repos/Git/DataScienceProjects/Estudo-AtivosB3/ChatGPT.ipynb Cell 1\u001b[0m line \u001b[0;36m3\n\u001b[1;32m      <a href='vscode-notebook-cell:/Users/marciopmm/repos/Git/DataScienceProjects/Estudo-AtivosB3/ChatGPT.ipynb#W0sZmlsZQ%3D%3D?line=0'>1</a>\u001b[0m \u001b[39mimport\u001b[39;00m \u001b[39mgym\u001b[39;00m\n\u001b[1;32m      <a href='vscode-notebook-cell:/Users/marciopmm/repos/Git/DataScienceProjects/Estudo-AtivosB3/ChatGPT.ipynb#W0sZmlsZQ%3D%3D?line=1'>2</a>\u001b[0m \u001b[39mimport\u001b[39;00m \u001b[39mnumpy\u001b[39;00m \u001b[39mas\u001b[39;00m \u001b[39mnp\u001b[39;00m\n\u001b[0;32m----> <a href='vscode-notebook-cell:/Users/marciopmm/repos/Git/DataScienceProjects/Estudo-AtivosB3/ChatGPT.ipynb#W0sZmlsZQ%3D%3D?line=2'>3</a>\u001b[0m \u001b[39mimport\u001b[39;00m \u001b[39mpandas\u001b[39;00m \u001b[39mas\u001b[39;00m \u001b[39mpd\u001b[39;00m\n\u001b[1;32m      <a href='vscode-notebook-cell:/Users/marciopmm/repos/Git/DataScienceProjects/Estudo-AtivosB3/ChatGPT.ipynb#W0sZmlsZQ%3D%3D?line=3'>4</a>\u001b[0m \u001b[39m#import yfinance as yf\u001b[39;00m\n\u001b[1;32m      <a href='vscode-notebook-cell:/Users/marciopmm/repos/Git/DataScienceProjects/Estudo-AtivosB3/ChatGPT.ipynb#W0sZmlsZQ%3D%3D?line=4'>5</a>\u001b[0m \u001b[39mfrom\u001b[39;00m \u001b[39msklearn\u001b[39;00m\u001b[39m.\u001b[39;00m\u001b[39mpreprocessing\u001b[39;00m \u001b[39mimport\u001b[39;00m MinMaxScaler\n",
      "\u001b[0;31mModuleNotFoundError\u001b[0m: No module named 'pandas'"
     ]
    }
   ],
   "source": [
    "import gym\n",
    "import numpy as np\n",
    "import pandas as pd\n",
    "#import yfinance as yf\n",
    "from sklearn.preprocessing import MinMaxScaler\n",
    "import tensorflow\n",
    "from tensorflow import keras\n",
    "from keras.models import Sequential\n",
    "from keras.layers import Dense\n",
    "from keras import layers\n",
    "from keras.optimizers import Adam\n",
    "from collections import deque\n",
    "import random\n",
    "import datetime as dt\n",
    "import alpaca_trade_api as tradeapi"
   ]
  },
  {
   "cell_type": "code",
   "execution_count": null,
   "metadata": {},
   "outputs": [
    {
     "name": "stdout",
     "output_type": "stream",
     "text": [
      "Empty DataFrame\n",
      "Columns: []\n",
      "Index: []\n"
     ]
    }
   ],
   "source": [
    "# Replace 'YOUR_API_KEY' and 'YOUR_SECRET_KEY' with your actual API keys\n",
    "API_KEY = 'PK58SXLOXJ0MCMQBJZVT'\n",
    "SECRET_KEY = 'fYlO75pUZ3GG7rYTuBvKio21wMyXVSwQn2CB6bIT'\n",
    "\n",
    "# Initialize the Alpaca API client\n",
    "api = tradeapi.REST(API_KEY, SECRET_KEY, base_url='https://paper-api.alpaca.markets', api_version='v2')\n",
    "\n",
    "# Define the stock symbol and time frame\n",
    "symbol = 'NVD'  # Replace with the stock symbol you want to fetch data for\n",
    "timeframe = '1D'  # 1D for daily data, 1H for hourly, etc.\n",
    "\n",
    "# Get historical stock data\n",
    "historical_data = api.get_bars(symbol, timeframe, limit=10).df\n",
    "\n",
    "# Print the retrieved data\n",
    "print(historical_data)\n"
   ]
  },
  {
   "cell_type": "code",
   "execution_count": null,
   "metadata": {},
   "outputs": [],
   "source": [
    "# Define the Alpaca stock symbol and date range\n",
    "symbol = 'AAPL'\n",
    "start_date = '2000-01-01'\n",
    "end = dt.date.today() - dt.timedelta(days=1)\n",
    "end_date = end.strftime('%Y-%m-%d')"
   ]
  },
  {
   "cell_type": "code",
   "execution_count": null,
   "metadata": {},
   "outputs": [
    {
     "name": "stdout",
     "output_type": "stream",
     "text": [
      "[*********************100%***********************]  1 of 1 completed\n"
     ]
    },
    {
     "data": {
      "text/html": [
       "<div>\n",
       "<style scoped>\n",
       "    .dataframe tbody tr th:only-of-type {\n",
       "        vertical-align: middle;\n",
       "    }\n",
       "\n",
       "    .dataframe tbody tr th {\n",
       "        vertical-align: top;\n",
       "    }\n",
       "\n",
       "    .dataframe thead th {\n",
       "        text-align: right;\n",
       "    }\n",
       "</style>\n",
       "<table border=\"1\" class=\"dataframe\">\n",
       "  <thead>\n",
       "    <tr style=\"text-align: right;\">\n",
       "      <th></th>\n",
       "      <th>Open</th>\n",
       "      <th>High</th>\n",
       "      <th>Low</th>\n",
       "      <th>Close</th>\n",
       "      <th>Adj Close</th>\n",
       "      <th>Volume</th>\n",
       "    </tr>\n",
       "    <tr>\n",
       "      <th>Date</th>\n",
       "      <th></th>\n",
       "      <th></th>\n",
       "      <th></th>\n",
       "      <th></th>\n",
       "      <th></th>\n",
       "      <th></th>\n",
       "    </tr>\n",
       "  </thead>\n",
       "  <tbody>\n",
       "    <tr>\n",
       "      <th>2000-01-03</th>\n",
       "      <td>0.936384</td>\n",
       "      <td>1.004464</td>\n",
       "      <td>0.907924</td>\n",
       "      <td>0.999442</td>\n",
       "      <td>0.848323</td>\n",
       "      <td>535796800</td>\n",
       "    </tr>\n",
       "    <tr>\n",
       "      <th>2000-01-04</th>\n",
       "      <td>0.966518</td>\n",
       "      <td>0.987723</td>\n",
       "      <td>0.903460</td>\n",
       "      <td>0.915179</td>\n",
       "      <td>0.776801</td>\n",
       "      <td>512377600</td>\n",
       "    </tr>\n",
       "    <tr>\n",
       "      <th>2000-01-05</th>\n",
       "      <td>0.926339</td>\n",
       "      <td>0.987165</td>\n",
       "      <td>0.919643</td>\n",
       "      <td>0.928571</td>\n",
       "      <td>0.788168</td>\n",
       "      <td>778321600</td>\n",
       "    </tr>\n",
       "    <tr>\n",
       "      <th>2000-01-06</th>\n",
       "      <td>0.947545</td>\n",
       "      <td>0.955357</td>\n",
       "      <td>0.848214</td>\n",
       "      <td>0.848214</td>\n",
       "      <td>0.719961</td>\n",
       "      <td>767972800</td>\n",
       "    </tr>\n",
       "    <tr>\n",
       "      <th>2000-01-07</th>\n",
       "      <td>0.861607</td>\n",
       "      <td>0.901786</td>\n",
       "      <td>0.852679</td>\n",
       "      <td>0.888393</td>\n",
       "      <td>0.754065</td>\n",
       "      <td>460734400</td>\n",
       "    </tr>\n",
       "    <tr>\n",
       "      <th>...</th>\n",
       "      <td>...</td>\n",
       "      <td>...</td>\n",
       "      <td>...</td>\n",
       "      <td>...</td>\n",
       "      <td>...</td>\n",
       "      <td>...</td>\n",
       "    </tr>\n",
       "    <tr>\n",
       "      <th>2023-09-11</th>\n",
       "      <td>180.070007</td>\n",
       "      <td>180.300003</td>\n",
       "      <td>177.339996</td>\n",
       "      <td>179.360001</td>\n",
       "      <td>179.360001</td>\n",
       "      <td>58953100</td>\n",
       "    </tr>\n",
       "    <tr>\n",
       "      <th>2023-09-12</th>\n",
       "      <td>179.490005</td>\n",
       "      <td>180.130005</td>\n",
       "      <td>174.820007</td>\n",
       "      <td>176.300003</td>\n",
       "      <td>176.300003</td>\n",
       "      <td>90370200</td>\n",
       "    </tr>\n",
       "    <tr>\n",
       "      <th>2023-09-13</th>\n",
       "      <td>176.509995</td>\n",
       "      <td>177.300003</td>\n",
       "      <td>173.979996</td>\n",
       "      <td>174.210007</td>\n",
       "      <td>174.210007</td>\n",
       "      <td>84267900</td>\n",
       "    </tr>\n",
       "    <tr>\n",
       "      <th>2023-09-14</th>\n",
       "      <td>174.000000</td>\n",
       "      <td>176.100006</td>\n",
       "      <td>173.580002</td>\n",
       "      <td>175.740005</td>\n",
       "      <td>175.740005</td>\n",
       "      <td>60895800</td>\n",
       "    </tr>\n",
       "    <tr>\n",
       "      <th>2023-09-15</th>\n",
       "      <td>176.479996</td>\n",
       "      <td>176.500000</td>\n",
       "      <td>173.820007</td>\n",
       "      <td>175.009995</td>\n",
       "      <td>175.009995</td>\n",
       "      <td>109205100</td>\n",
       "    </tr>\n",
       "  </tbody>\n",
       "</table>\n",
       "<p>5964 rows × 6 columns</p>\n",
       "</div>"
      ],
      "text/plain": [
       "                  Open        High         Low       Close   Adj Close  \\\n",
       "Date                                                                     \n",
       "2000-01-03    0.936384    1.004464    0.907924    0.999442    0.848323   \n",
       "2000-01-04    0.966518    0.987723    0.903460    0.915179    0.776801   \n",
       "2000-01-05    0.926339    0.987165    0.919643    0.928571    0.788168   \n",
       "2000-01-06    0.947545    0.955357    0.848214    0.848214    0.719961   \n",
       "2000-01-07    0.861607    0.901786    0.852679    0.888393    0.754065   \n",
       "...                ...         ...         ...         ...         ...   \n",
       "2023-09-11  180.070007  180.300003  177.339996  179.360001  179.360001   \n",
       "2023-09-12  179.490005  180.130005  174.820007  176.300003  176.300003   \n",
       "2023-09-13  176.509995  177.300003  173.979996  174.210007  174.210007   \n",
       "2023-09-14  174.000000  176.100006  173.580002  175.740005  175.740005   \n",
       "2023-09-15  176.479996  176.500000  173.820007  175.009995  175.009995   \n",
       "\n",
       "               Volume  \n",
       "Date                   \n",
       "2000-01-03  535796800  \n",
       "2000-01-04  512377600  \n",
       "2000-01-05  778321600  \n",
       "2000-01-06  767972800  \n",
       "2000-01-07  460734400  \n",
       "...               ...  \n",
       "2023-09-11   58953100  \n",
       "2023-09-12   90370200  \n",
       "2023-09-13   84267900  \n",
       "2023-09-14   60895800  \n",
       "2023-09-15  109205100  \n",
       "\n",
       "[5964 rows x 6 columns]"
      ]
     },
     "execution_count": 25,
     "metadata": {},
     "output_type": "execute_result"
    }
   ],
   "source": [
    "# Download historical stock data using alpaca\n",
    "df = yf.download(symbol, start=start_date, end=end_date)\n",
    "df"
   ]
  },
  {
   "cell_type": "code",
   "execution_count": null,
   "metadata": {},
   "outputs": [],
   "source": [
    "# Preprocess the data\n",
    "df['Date'] = df.index\n",
    "df.reset_index(drop=True, inplace=True)\n",
    "df['Date'] = pd.to_datetime(df['Date'])\n",
    "df.set_index('Date', inplace=True)"
   ]
  },
  {
   "cell_type": "code",
   "execution_count": null,
   "metadata": {},
   "outputs": [],
   "source": [
    "# Create a function to calculate technical indicators (e.g., moving averages)\n",
    "def calculate_technical_indicators(df):\n",
    "    df['SMA_50'] = df['Close'].rolling(window=50).mean()\n",
    "    df['SMA_200'] = df['Close'].rolling(window=200).mean()\n",
    "    return df"
   ]
  },
  {
   "cell_type": "code",
   "execution_count": null,
   "metadata": {},
   "outputs": [],
   "source": [
    "df = calculate_technical_indicators(df)"
   ]
  },
  {
   "cell_type": "code",
   "execution_count": null,
   "metadata": {},
   "outputs": [],
   "source": [
    "# Define the state size and action space\n",
    "state_size = 5  # Number of historical prices to consider\n",
    "action_size = 3  # Buy, Hold, Sell"
   ]
  },
  {
   "cell_type": "code",
   "execution_count": null,
   "metadata": {},
   "outputs": [],
   "source": [
    "# Create a DQN model using Keras\n",
    "model = Sequential()\n",
    "model.add(Dense(24, input_dim=state_size, activation='relu'))\n",
    "model.add(Dense(24, activation='relu'))\n",
    "model.add(Dense(action_size, activation='linear'))\n",
    "model.compile(loss='mse', optimizer='adam')"
   ]
  },
  {
   "cell_type": "code",
   "execution_count": null,
   "metadata": {},
   "outputs": [],
   "source": [
    "# Define hyperparameters\n",
    "gamma = 0.95  # Discount factor for future rewards\n",
    "epsilon = 1.0  # Exploration rate\n",
    "epsilon_min = 0.01  # Minimum exploration rate\n",
    "epsilon_decay = 0.995  # Decay rate for exploration"
   ]
  },
  {
   "cell_type": "code",
   "execution_count": null,
   "metadata": {},
   "outputs": [],
   "source": [
    "# Create a replay buffer to store past experiences\n",
    "replay_buffer = deque(maxlen=1000)"
   ]
  },
  {
   "cell_type": "code",
   "execution_count": null,
   "metadata": {},
   "outputs": [],
   "source": [
    "# Define a function to select an action (Buy, Hold, or Sell) using epsilon-greedy policy\n",
    "def select_action(state):\n",
    "    if np.random.rand() <= epsilon:\n",
    "        return random.randrange(action_size)\n",
    "    q_values = model.predict(state)\n",
    "    return np.argmax(q_values[0])"
   ]
  },
  {
   "cell_type": "code",
   "execution_count": null,
   "metadata": {},
   "outputs": [],
   "source": [
    "# Define a function to preprocess the state\n",
    "def preprocess_state(state):\n",
    "    scaler = MinMaxScaler()\n",
    "    state = np.reshape(state, [1, state_size])\n",
    "    state = scaler.fit_transform(state)\n",
    "    return state"
   ]
  },
  {
   "cell_type": "code",
   "execution_count": null,
   "metadata": {},
   "outputs": [
    {
     "ename": "ValueError",
     "evalue": "cannot reshape array of size 1 into shape (1,5)",
     "output_type": "error",
     "traceback": [
      "\u001b[0;31m---------------------------------------------------------------------------\u001b[0m",
      "\u001b[0;31mValueError\u001b[0m                                Traceback (most recent call last)",
      "\u001b[1;32m/Users/marciopmm/repos/Git/DataScienceProjects/Estudo-AtivosB3/ChatGPT.ipynb Cell 14\u001b[0m line \u001b[0;36m1\n\u001b[1;32m     <a href='vscode-notebook-cell:/Users/marciopmm/repos/Git/DataScienceProjects/Estudo-AtivosB3/ChatGPT.ipynb#X16sZmlsZQ%3D%3D?line=11'>12</a>\u001b[0m action \u001b[39m=\u001b[39m select_action(state)\n\u001b[1;32m     <a href='vscode-notebook-cell:/Users/marciopmm/repos/Git/DataScienceProjects/Estudo-AtivosB3/ChatGPT.ipynb#X16sZmlsZQ%3D%3D?line=12'>13</a>\u001b[0m next_state \u001b[39m=\u001b[39m df\u001b[39m.\u001b[39miloc[state_size:state_size \u001b[39m+\u001b[39m \u001b[39m1\u001b[39m][\u001b[39m'\u001b[39m\u001b[39mClose\u001b[39m\u001b[39m'\u001b[39m]\u001b[39m.\u001b[39mvalues\n\u001b[0;32m---> <a href='vscode-notebook-cell:/Users/marciopmm/repos/Git/DataScienceProjects/Estudo-AtivosB3/ChatGPT.ipynb#X16sZmlsZQ%3D%3D?line=13'>14</a>\u001b[0m next_state \u001b[39m=\u001b[39m preprocess_state(next_state)\n\u001b[1;32m     <a href='vscode-notebook-cell:/Users/marciopmm/repos/Git/DataScienceProjects/Estudo-AtivosB3/ChatGPT.ipynb#X16sZmlsZQ%3D%3D?line=14'>15</a>\u001b[0m reward \u001b[39m=\u001b[39m \u001b[39m0\u001b[39m  \u001b[39m# Define your reward function based on trading strategy\u001b[39;00m\n\u001b[1;32m     <a href='vscode-notebook-cell:/Users/marciopmm/repos/Git/DataScienceProjects/Estudo-AtivosB3/ChatGPT.ipynb#X16sZmlsZQ%3D%3D?line=15'>16</a>\u001b[0m total_reward \u001b[39m+\u001b[39m\u001b[39m=\u001b[39m reward\n",
      "\u001b[1;32m/Users/marciopmm/repos/Git/DataScienceProjects/Estudo-AtivosB3/ChatGPT.ipynb Cell 14\u001b[0m line \u001b[0;36m4\n\u001b[1;32m      <a href='vscode-notebook-cell:/Users/marciopmm/repos/Git/DataScienceProjects/Estudo-AtivosB3/ChatGPT.ipynb#X16sZmlsZQ%3D%3D?line=1'>2</a>\u001b[0m \u001b[39mdef\u001b[39;00m \u001b[39mpreprocess_state\u001b[39m(state):\n\u001b[1;32m      <a href='vscode-notebook-cell:/Users/marciopmm/repos/Git/DataScienceProjects/Estudo-AtivosB3/ChatGPT.ipynb#X16sZmlsZQ%3D%3D?line=2'>3</a>\u001b[0m     scaler \u001b[39m=\u001b[39m MinMaxScaler()\n\u001b[0;32m----> <a href='vscode-notebook-cell:/Users/marciopmm/repos/Git/DataScienceProjects/Estudo-AtivosB3/ChatGPT.ipynb#X16sZmlsZQ%3D%3D?line=3'>4</a>\u001b[0m     state \u001b[39m=\u001b[39m np\u001b[39m.\u001b[39;49mreshape(state, [\u001b[39m1\u001b[39;49m, state_size])\n\u001b[1;32m      <a href='vscode-notebook-cell:/Users/marciopmm/repos/Git/DataScienceProjects/Estudo-AtivosB3/ChatGPT.ipynb#X16sZmlsZQ%3D%3D?line=4'>5</a>\u001b[0m     state \u001b[39m=\u001b[39m scaler\u001b[39m.\u001b[39mfit_transform(state)\n\u001b[1;32m      <a href='vscode-notebook-cell:/Users/marciopmm/repos/Git/DataScienceProjects/Estudo-AtivosB3/ChatGPT.ipynb#X16sZmlsZQ%3D%3D?line=5'>6</a>\u001b[0m     \u001b[39mreturn\u001b[39;00m state\n",
      "File \u001b[0;32m<__array_function__ internals>:200\u001b[0m, in \u001b[0;36mreshape\u001b[0;34m(*args, **kwargs)\u001b[0m\n",
      "File \u001b[0;32m/Library/Frameworks/Python.framework/Versions/3.10/lib/python3.10/site-packages/numpy/core/fromnumeric.py:298\u001b[0m, in \u001b[0;36mreshape\u001b[0;34m(a, newshape, order)\u001b[0m\n\u001b[1;32m    198\u001b[0m \u001b[39m@array_function_dispatch\u001b[39m(_reshape_dispatcher)\n\u001b[1;32m    199\u001b[0m \u001b[39mdef\u001b[39;00m \u001b[39mreshape\u001b[39m(a, newshape, order\u001b[39m=\u001b[39m\u001b[39m'\u001b[39m\u001b[39mC\u001b[39m\u001b[39m'\u001b[39m):\n\u001b[1;32m    200\u001b[0m     \u001b[39m\"\"\"\u001b[39;00m\n\u001b[1;32m    201\u001b[0m \u001b[39m    Gives a new shape to an array without changing its data.\u001b[39;00m\n\u001b[1;32m    202\u001b[0m \n\u001b[0;32m   (...)\u001b[0m\n\u001b[1;32m    296\u001b[0m \u001b[39m           [5, 6]])\u001b[39;00m\n\u001b[1;32m    297\u001b[0m \u001b[39m    \"\"\"\u001b[39;00m\n\u001b[0;32m--> 298\u001b[0m     \u001b[39mreturn\u001b[39;00m _wrapfunc(a, \u001b[39m'\u001b[39;49m\u001b[39mreshape\u001b[39;49m\u001b[39m'\u001b[39;49m, newshape, order\u001b[39m=\u001b[39;49morder)\n",
      "File \u001b[0;32m/Library/Frameworks/Python.framework/Versions/3.10/lib/python3.10/site-packages/numpy/core/fromnumeric.py:57\u001b[0m, in \u001b[0;36m_wrapfunc\u001b[0;34m(obj, method, *args, **kwds)\u001b[0m\n\u001b[1;32m     54\u001b[0m     \u001b[39mreturn\u001b[39;00m _wrapit(obj, method, \u001b[39m*\u001b[39margs, \u001b[39m*\u001b[39m\u001b[39m*\u001b[39mkwds)\n\u001b[1;32m     56\u001b[0m \u001b[39mtry\u001b[39;00m:\n\u001b[0;32m---> 57\u001b[0m     \u001b[39mreturn\u001b[39;00m bound(\u001b[39m*\u001b[39;49margs, \u001b[39m*\u001b[39;49m\u001b[39m*\u001b[39;49mkwds)\n\u001b[1;32m     58\u001b[0m \u001b[39mexcept\u001b[39;00m \u001b[39mTypeError\u001b[39;00m:\n\u001b[1;32m     59\u001b[0m     \u001b[39m# A TypeError occurs if the object does have such a method in its\u001b[39;00m\n\u001b[1;32m     60\u001b[0m     \u001b[39m# class, but its signature is not identical to that of NumPy's. This\u001b[39;00m\n\u001b[0;32m   (...)\u001b[0m\n\u001b[1;32m     64\u001b[0m     \u001b[39m# Call _wrapit from within the except clause to ensure a potential\u001b[39;00m\n\u001b[1;32m     65\u001b[0m     \u001b[39m# exception has a traceback chain.\u001b[39;00m\n\u001b[1;32m     66\u001b[0m     \u001b[39mreturn\u001b[39;00m _wrapit(obj, method, \u001b[39m*\u001b[39margs, \u001b[39m*\u001b[39m\u001b[39m*\u001b[39mkwds)\n",
      "\u001b[0;31mValueError\u001b[0m: cannot reshape array of size 1 into shape (1,5)"
     ]
    }
   ],
   "source": [
    "# Define training parameters\n",
    "batch_size = 32\n",
    "n_episodes = 1000\n",
    "\n",
    "for episode in range(n_episodes):\n",
    "    state = df.iloc[0:state_size]['Close'].values\n",
    "    state = preprocess_state(state)\n",
    "    done = False\n",
    "    total_reward = 0\n",
    "\n",
    "    while not done:\n",
    "        action = select_action(state)\n",
    "        next_state = df.iloc[state_size:state_size + 1]['Close'].values\n",
    "        next_state = preprocess_state(next_state)\n",
    "        reward = 0  # Define your reward function based on trading strategy\n",
    "        total_reward += reward\n",
    "\n",
    "        replay_buffer.append((state, action, reward, next_state, done))\n",
    "\n",
    "        if len(replay_buffer) > batch_size:\n",
    "            minibatch = random.sample(replay_buffer, batch_size)\n",
    "            for state, action, reward, next_state, done in minibatch:\n",
    "                target = reward\n",
    "                if not done:\n",
    "                    target = reward + gamma * np.amax(model.predict(next_state)[0])\n",
    "                target_f = model.predict(state)\n",
    "                target_f[0][action] = target\n",
    "                model.fit(state, target_f, epochs=1, verbose=0)\n",
    "\n",
    "        state = next_state\n",
    "\n",
    "        if epsilon > epsilon_min:\n",
    "            epsilon *= epsilon_decay\n",
    "\n",
    "    print(f\"Episode: {episode + 1}, Total Reward: {total_reward}\")"
   ]
  },
  {
   "cell_type": "code",
   "execution_count": null,
   "metadata": {},
   "outputs": [],
   "source": [
    "# Save the trained model\n",
    "model.save('yahoo_stock_dqn_model.h5')"
   ]
  }
 ],
 "metadata": {
  "kernelspec": {
   "display_name": "Python 3",
   "language": "python",
   "name": "python3"
  },
  "language_info": {
   "codemirror_mode": {
    "name": "ipython",
    "version": 3
   },
   "file_extension": ".py",
   "mimetype": "text/x-python",
   "name": "python",
   "nbconvert_exporter": "python",
   "pygments_lexer": "ipython3",
   "version": "3.11.5"
  },
  "orig_nbformat": 4
 },
 "nbformat": 4,
 "nbformat_minor": 2
}
