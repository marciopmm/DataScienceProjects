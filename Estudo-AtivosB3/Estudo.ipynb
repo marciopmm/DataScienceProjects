{
 "cells": [
  {
   "cell_type": "code",
   "execution_count": 97,
   "metadata": {},
   "outputs": [],
   "source": [
    "import os, zipfile, re\n",
    "import requests\n",
    "import pandas as pd\n",
    "from datetime import datetime"
   ]
  },
  {
   "cell_type": "code",
   "execution_count": 98,
   "metadata": {},
   "outputs": [],
   "source": [
    "path = %pwd\n",
    "os.chdir(path)"
   ]
  },
  {
   "cell_type": "code",
   "execution_count": 99,
   "metadata": {},
   "outputs": [
    {
     "name": "stdout",
     "output_type": "stream",
     "text": [
      "Criando a pasta de trabalho: /hist\n"
     ]
    }
   ],
   "source": [
    "main_path = 'hist'\n",
    "if os.path.exists(main_path):\n",
    "    os.chdir(main_path)\n",
    "else:\n",
    "    os.mkdir(main_path)\n",
    "    print('Criando a pasta de trabalho: /hist')"
   ]
  },
  {
   "cell_type": "code",
   "execution_count": 100,
   "metadata": {},
   "outputs": [],
   "source": [
    "intervalo = range(2000, 2024)\n",
    "colunas = ['Data', 'BDI', 'CodNeg', 'TipoMercado', 'NomeResumido', 'Especificacao', 'Abertura', 'Maximo', 'Minimo', 'Ultimo', 'Volume']\n",
    "df = pd.DataFrame(columns=colunas)"
   ]
  },
  {
   "cell_type": "code",
   "execution_count": 107,
   "metadata": {},
   "outputs": [],
   "source": [
    "# Função para converter o formato de moeda para float\n",
    "\n",
    "def prepareToFloat(value):\n",
    "    value = value.strip()\n",
    "    return value[:-2] + '.' + value[-2:]"
   ]
  },
  {
   "attachments": {},
   "cell_type": "markdown",
   "metadata": {},
   "source": [
    "## Só execute caso não haja arquivos .csv na pasta de Cotações Históricas"
   ]
  },
  {
   "cell_type": "code",
   "execution_count": 5,
   "metadata": {},
   "outputs": [
    {
     "name": "stdout",
     "output_type": "stream",
     "text": [
      "https://bvmf.bmfbovespa.com.br/InstDados/SerHist/COTAHIST_A2000.ZIP\n",
      "https://bvmf.bmfbovespa.com.br/InstDados/SerHist/COTAHIST_A2001.ZIP\n",
      "https://bvmf.bmfbovespa.com.br/InstDados/SerHist/COTAHIST_A2002.ZIP\n",
      "https://bvmf.bmfbovespa.com.br/InstDados/SerHist/COTAHIST_A2003.ZIP\n"
     ]
    },
    {
     "ename": "KeyboardInterrupt",
     "evalue": "",
     "output_type": "error",
     "traceback": [
      "\u001b[0;31m---------------------------------------------------------------------------\u001b[0m",
      "\u001b[0;31mKeyboardInterrupt\u001b[0m                         Traceback (most recent call last)",
      "\u001b[1;32m/Users/marciopmm/Desktop/Estudo - Ações/Estudo.ipynb Cell 4\u001b[0m in \u001b[0;36m9\n\u001b[1;32m      <a href='vscode-notebook-cell:/Users/marciopmm/Desktop/Estudo%20-%20A%C3%A7%C3%B5es/Estudo.ipynb#W3sZmlsZQ%3D%3D?line=6'>7</a>\u001b[0m \u001b[39mif\u001b[39;00m \u001b[39mnot\u001b[39;00m os\u001b[39m.\u001b[39mpath\u001b[39m.\u001b[39mexists(fileName):\n\u001b[1;32m      <a href='vscode-notebook-cell:/Users/marciopmm/Desktop/Estudo%20-%20A%C3%A7%C3%B5es/Estudo.ipynb#W3sZmlsZQ%3D%3D?line=7'>8</a>\u001b[0m     \u001b[39mprint\u001b[39m(localUrl)\n\u001b[0;32m----> <a href='vscode-notebook-cell:/Users/marciopmm/Desktop/Estudo%20-%20A%C3%A7%C3%B5es/Estudo.ipynb#W3sZmlsZQ%3D%3D?line=8'>9</a>\u001b[0m     r \u001b[39m=\u001b[39m requests\u001b[39m.\u001b[39;49mget(localUrl, allow_redirects\u001b[39m=\u001b[39;49m\u001b[39mTrue\u001b[39;49;00m)\n\u001b[1;32m     <a href='vscode-notebook-cell:/Users/marciopmm/Desktop/Estudo%20-%20A%C3%A7%C3%B5es/Estudo.ipynb#W3sZmlsZQ%3D%3D?line=10'>11</a>\u001b[0m     \u001b[39mwith\u001b[39;00m \u001b[39mopen\u001b[39m(fileName, \u001b[39m'\u001b[39m\u001b[39mwb\u001b[39m\u001b[39m'\u001b[39m) \u001b[39mas\u001b[39;00m zipFile:\n\u001b[1;32m     <a href='vscode-notebook-cell:/Users/marciopmm/Desktop/Estudo%20-%20A%C3%A7%C3%B5es/Estudo.ipynb#W3sZmlsZQ%3D%3D?line=11'>12</a>\u001b[0m         zipFile\u001b[39m.\u001b[39mwrite(r\u001b[39m.\u001b[39mcontent)\n",
      "File \u001b[0;32m/Library/Frameworks/Python.framework/Versions/3.10/lib/python3.10/site-packages/requests/api.py:73\u001b[0m, in \u001b[0;36mget\u001b[0;34m(url, params, **kwargs)\u001b[0m\n\u001b[1;32m     62\u001b[0m \u001b[39mdef\u001b[39;00m \u001b[39mget\u001b[39m(url, params\u001b[39m=\u001b[39m\u001b[39mNone\u001b[39;00m, \u001b[39m*\u001b[39m\u001b[39m*\u001b[39mkwargs):\n\u001b[1;32m     63\u001b[0m     \u001b[39mr\u001b[39m\u001b[39m\"\"\"Sends a GET request.\u001b[39;00m\n\u001b[1;32m     64\u001b[0m \n\u001b[1;32m     65\u001b[0m \u001b[39m    :param url: URL for the new :class:`Request` object.\u001b[39;00m\n\u001b[0;32m   (...)\u001b[0m\n\u001b[1;32m     70\u001b[0m \u001b[39m    :rtype: requests.Response\u001b[39;00m\n\u001b[1;32m     71\u001b[0m \u001b[39m    \"\"\"\u001b[39;00m\n\u001b[0;32m---> 73\u001b[0m     \u001b[39mreturn\u001b[39;00m request(\u001b[39m\"\u001b[39;49m\u001b[39mget\u001b[39;49m\u001b[39m\"\u001b[39;49m, url, params\u001b[39m=\u001b[39;49mparams, \u001b[39m*\u001b[39;49m\u001b[39m*\u001b[39;49mkwargs)\n",
      "File \u001b[0;32m/Library/Frameworks/Python.framework/Versions/3.10/lib/python3.10/site-packages/requests/api.py:59\u001b[0m, in \u001b[0;36mrequest\u001b[0;34m(method, url, **kwargs)\u001b[0m\n\u001b[1;32m     55\u001b[0m \u001b[39m# By using the 'with' statement we are sure the session is closed, thus we\u001b[39;00m\n\u001b[1;32m     56\u001b[0m \u001b[39m# avoid leaving sockets open which can trigger a ResourceWarning in some\u001b[39;00m\n\u001b[1;32m     57\u001b[0m \u001b[39m# cases, and look like a memory leak in others.\u001b[39;00m\n\u001b[1;32m     58\u001b[0m \u001b[39mwith\u001b[39;00m sessions\u001b[39m.\u001b[39mSession() \u001b[39mas\u001b[39;00m session:\n\u001b[0;32m---> 59\u001b[0m     \u001b[39mreturn\u001b[39;00m session\u001b[39m.\u001b[39;49mrequest(method\u001b[39m=\u001b[39;49mmethod, url\u001b[39m=\u001b[39;49murl, \u001b[39m*\u001b[39;49m\u001b[39m*\u001b[39;49mkwargs)\n",
      "File \u001b[0;32m/Library/Frameworks/Python.framework/Versions/3.10/lib/python3.10/site-packages/requests/sessions.py:587\u001b[0m, in \u001b[0;36mSession.request\u001b[0;34m(self, method, url, params, data, headers, cookies, files, auth, timeout, allow_redirects, proxies, hooks, stream, verify, cert, json)\u001b[0m\n\u001b[1;32m    582\u001b[0m send_kwargs \u001b[39m=\u001b[39m {\n\u001b[1;32m    583\u001b[0m     \u001b[39m\"\u001b[39m\u001b[39mtimeout\u001b[39m\u001b[39m\"\u001b[39m: timeout,\n\u001b[1;32m    584\u001b[0m     \u001b[39m\"\u001b[39m\u001b[39mallow_redirects\u001b[39m\u001b[39m\"\u001b[39m: allow_redirects,\n\u001b[1;32m    585\u001b[0m }\n\u001b[1;32m    586\u001b[0m send_kwargs\u001b[39m.\u001b[39mupdate(settings)\n\u001b[0;32m--> 587\u001b[0m resp \u001b[39m=\u001b[39m \u001b[39mself\u001b[39;49m\u001b[39m.\u001b[39;49msend(prep, \u001b[39m*\u001b[39;49m\u001b[39m*\u001b[39;49msend_kwargs)\n\u001b[1;32m    589\u001b[0m \u001b[39mreturn\u001b[39;00m resp\n",
      "File \u001b[0;32m/Library/Frameworks/Python.framework/Versions/3.10/lib/python3.10/site-packages/requests/sessions.py:745\u001b[0m, in \u001b[0;36mSession.send\u001b[0;34m(self, request, **kwargs)\u001b[0m\n\u001b[1;32m    742\u001b[0m         \u001b[39mpass\u001b[39;00m\n\u001b[1;32m    744\u001b[0m \u001b[39mif\u001b[39;00m \u001b[39mnot\u001b[39;00m stream:\n\u001b[0;32m--> 745\u001b[0m     r\u001b[39m.\u001b[39;49mcontent\n\u001b[1;32m    747\u001b[0m \u001b[39mreturn\u001b[39;00m r\n",
      "File \u001b[0;32m/Library/Frameworks/Python.framework/Versions/3.10/lib/python3.10/site-packages/requests/models.py:899\u001b[0m, in \u001b[0;36mResponse.content\u001b[0;34m(self)\u001b[0m\n\u001b[1;32m    897\u001b[0m         \u001b[39mself\u001b[39m\u001b[39m.\u001b[39m_content \u001b[39m=\u001b[39m \u001b[39mNone\u001b[39;00m\n\u001b[1;32m    898\u001b[0m     \u001b[39melse\u001b[39;00m:\n\u001b[0;32m--> 899\u001b[0m         \u001b[39mself\u001b[39m\u001b[39m.\u001b[39m_content \u001b[39m=\u001b[39m \u001b[39mb\u001b[39;49m\u001b[39m\"\u001b[39;49m\u001b[39m\"\u001b[39;49m\u001b[39m.\u001b[39;49mjoin(\u001b[39mself\u001b[39;49m\u001b[39m.\u001b[39;49miter_content(CONTENT_CHUNK_SIZE)) \u001b[39mor\u001b[39;00m \u001b[39mb\u001b[39m\u001b[39m\"\u001b[39m\u001b[39m\"\u001b[39m\n\u001b[1;32m    901\u001b[0m \u001b[39mself\u001b[39m\u001b[39m.\u001b[39m_content_consumed \u001b[39m=\u001b[39m \u001b[39mTrue\u001b[39;00m\n\u001b[1;32m    902\u001b[0m \u001b[39m# don't need to release the connection; that's been handled by urllib3\u001b[39;00m\n\u001b[1;32m    903\u001b[0m \u001b[39m# since we exhausted the data.\u001b[39;00m\n",
      "File \u001b[0;32m/Library/Frameworks/Python.framework/Versions/3.10/lib/python3.10/site-packages/requests/models.py:816\u001b[0m, in \u001b[0;36mResponse.iter_content.<locals>.generate\u001b[0;34m()\u001b[0m\n\u001b[1;32m    814\u001b[0m \u001b[39mif\u001b[39;00m \u001b[39mhasattr\u001b[39m(\u001b[39mself\u001b[39m\u001b[39m.\u001b[39mraw, \u001b[39m\"\u001b[39m\u001b[39mstream\u001b[39m\u001b[39m\"\u001b[39m):\n\u001b[1;32m    815\u001b[0m     \u001b[39mtry\u001b[39;00m:\n\u001b[0;32m--> 816\u001b[0m         \u001b[39myield from\u001b[39;00m \u001b[39mself\u001b[39m\u001b[39m.\u001b[39mraw\u001b[39m.\u001b[39mstream(chunk_size, decode_content\u001b[39m=\u001b[39m\u001b[39mTrue\u001b[39;00m)\n\u001b[1;32m    817\u001b[0m     \u001b[39mexcept\u001b[39;00m ProtocolError \u001b[39mas\u001b[39;00m e:\n\u001b[1;32m    818\u001b[0m         \u001b[39mraise\u001b[39;00m ChunkedEncodingError(e)\n",
      "File \u001b[0;32m/Library/Frameworks/Python.framework/Versions/3.10/lib/python3.10/site-packages/urllib3/response.py:628\u001b[0m, in \u001b[0;36mHTTPResponse.stream\u001b[0;34m(self, amt, decode_content)\u001b[0m\n\u001b[1;32m    626\u001b[0m \u001b[39melse\u001b[39;00m:\n\u001b[1;32m    627\u001b[0m     \u001b[39mwhile\u001b[39;00m \u001b[39mnot\u001b[39;00m is_fp_closed(\u001b[39mself\u001b[39m\u001b[39m.\u001b[39m_fp):\n\u001b[0;32m--> 628\u001b[0m         data \u001b[39m=\u001b[39m \u001b[39mself\u001b[39;49m\u001b[39m.\u001b[39;49mread(amt\u001b[39m=\u001b[39;49mamt, decode_content\u001b[39m=\u001b[39;49mdecode_content)\n\u001b[1;32m    630\u001b[0m         \u001b[39mif\u001b[39;00m data:\n\u001b[1;32m    631\u001b[0m             \u001b[39myield\u001b[39;00m data\n",
      "File \u001b[0;32m/Library/Frameworks/Python.framework/Versions/3.10/lib/python3.10/site-packages/urllib3/response.py:567\u001b[0m, in \u001b[0;36mHTTPResponse.read\u001b[0;34m(self, amt, decode_content, cache_content)\u001b[0m\n\u001b[1;32m    564\u001b[0m fp_closed \u001b[39m=\u001b[39m \u001b[39mgetattr\u001b[39m(\u001b[39mself\u001b[39m\u001b[39m.\u001b[39m_fp, \u001b[39m\"\u001b[39m\u001b[39mclosed\u001b[39m\u001b[39m\"\u001b[39m, \u001b[39mFalse\u001b[39;00m)\n\u001b[1;32m    566\u001b[0m \u001b[39mwith\u001b[39;00m \u001b[39mself\u001b[39m\u001b[39m.\u001b[39m_error_catcher():\n\u001b[0;32m--> 567\u001b[0m     data \u001b[39m=\u001b[39m \u001b[39mself\u001b[39;49m\u001b[39m.\u001b[39;49m_fp_read(amt) \u001b[39mif\u001b[39;00m \u001b[39mnot\u001b[39;00m fp_closed \u001b[39melse\u001b[39;00m \u001b[39mb\u001b[39m\u001b[39m\"\u001b[39m\u001b[39m\"\u001b[39m\n\u001b[1;32m    568\u001b[0m     \u001b[39mif\u001b[39;00m amt \u001b[39mis\u001b[39;00m \u001b[39mNone\u001b[39;00m:\n\u001b[1;32m    569\u001b[0m         flush_decoder \u001b[39m=\u001b[39m \u001b[39mTrue\u001b[39;00m\n",
      "File \u001b[0;32m/Library/Frameworks/Python.framework/Versions/3.10/lib/python3.10/site-packages/urllib3/response.py:533\u001b[0m, in \u001b[0;36mHTTPResponse._fp_read\u001b[0;34m(self, amt)\u001b[0m\n\u001b[1;32m    530\u001b[0m     \u001b[39mreturn\u001b[39;00m buffer\u001b[39m.\u001b[39mgetvalue()\n\u001b[1;32m    531\u001b[0m \u001b[39melse\u001b[39;00m:\n\u001b[1;32m    532\u001b[0m     \u001b[39m# StringIO doesn't like amt=None\u001b[39;00m\n\u001b[0;32m--> 533\u001b[0m     \u001b[39mreturn\u001b[39;00m \u001b[39mself\u001b[39;49m\u001b[39m.\u001b[39;49m_fp\u001b[39m.\u001b[39;49mread(amt) \u001b[39mif\u001b[39;00m amt \u001b[39mis\u001b[39;00m \u001b[39mnot\u001b[39;00m \u001b[39mNone\u001b[39;00m \u001b[39melse\u001b[39;00m \u001b[39mself\u001b[39m\u001b[39m.\u001b[39m_fp\u001b[39m.\u001b[39mread()\n",
      "File \u001b[0;32m/Library/Frameworks/Python.framework/Versions/3.10/lib/python3.10/http/client.py:465\u001b[0m, in \u001b[0;36mHTTPResponse.read\u001b[0;34m(self, amt)\u001b[0m\n\u001b[1;32m    462\u001b[0m \u001b[39mif\u001b[39;00m \u001b[39mself\u001b[39m\u001b[39m.\u001b[39mlength \u001b[39mis\u001b[39;00m \u001b[39mnot\u001b[39;00m \u001b[39mNone\u001b[39;00m \u001b[39mand\u001b[39;00m amt \u001b[39m>\u001b[39m \u001b[39mself\u001b[39m\u001b[39m.\u001b[39mlength:\n\u001b[1;32m    463\u001b[0m     \u001b[39m# clip the read to the \"end of response\"\u001b[39;00m\n\u001b[1;32m    464\u001b[0m     amt \u001b[39m=\u001b[39m \u001b[39mself\u001b[39m\u001b[39m.\u001b[39mlength\n\u001b[0;32m--> 465\u001b[0m s \u001b[39m=\u001b[39m \u001b[39mself\u001b[39;49m\u001b[39m.\u001b[39;49mfp\u001b[39m.\u001b[39;49mread(amt)\n\u001b[1;32m    466\u001b[0m \u001b[39mif\u001b[39;00m \u001b[39mnot\u001b[39;00m s \u001b[39mand\u001b[39;00m amt:\n\u001b[1;32m    467\u001b[0m     \u001b[39m# Ideally, we would raise IncompleteRead if the content-length\u001b[39;00m\n\u001b[1;32m    468\u001b[0m     \u001b[39m# wasn't satisfied, but it might break compatibility.\u001b[39;00m\n\u001b[1;32m    469\u001b[0m     \u001b[39mself\u001b[39m\u001b[39m.\u001b[39m_close_conn()\n",
      "File \u001b[0;32m/Library/Frameworks/Python.framework/Versions/3.10/lib/python3.10/socket.py:705\u001b[0m, in \u001b[0;36mSocketIO.readinto\u001b[0;34m(self, b)\u001b[0m\n\u001b[1;32m    703\u001b[0m \u001b[39mwhile\u001b[39;00m \u001b[39mTrue\u001b[39;00m:\n\u001b[1;32m    704\u001b[0m     \u001b[39mtry\u001b[39;00m:\n\u001b[0;32m--> 705\u001b[0m         \u001b[39mreturn\u001b[39;00m \u001b[39mself\u001b[39;49m\u001b[39m.\u001b[39;49m_sock\u001b[39m.\u001b[39;49mrecv_into(b)\n\u001b[1;32m    706\u001b[0m     \u001b[39mexcept\u001b[39;00m timeout:\n\u001b[1;32m    707\u001b[0m         \u001b[39mself\u001b[39m\u001b[39m.\u001b[39m_timeout_occurred \u001b[39m=\u001b[39m \u001b[39mTrue\u001b[39;00m\n",
      "File \u001b[0;32m/Library/Frameworks/Python.framework/Versions/3.10/lib/python3.10/ssl.py:1274\u001b[0m, in \u001b[0;36mSSLSocket.recv_into\u001b[0;34m(self, buffer, nbytes, flags)\u001b[0m\n\u001b[1;32m   1270\u001b[0m     \u001b[39mif\u001b[39;00m flags \u001b[39m!=\u001b[39m \u001b[39m0\u001b[39m:\n\u001b[1;32m   1271\u001b[0m         \u001b[39mraise\u001b[39;00m \u001b[39mValueError\u001b[39;00m(\n\u001b[1;32m   1272\u001b[0m           \u001b[39m\"\u001b[39m\u001b[39mnon-zero flags not allowed in calls to recv_into() on \u001b[39m\u001b[39m%s\u001b[39;00m\u001b[39m\"\u001b[39m \u001b[39m%\u001b[39m\n\u001b[1;32m   1273\u001b[0m           \u001b[39mself\u001b[39m\u001b[39m.\u001b[39m\u001b[39m__class__\u001b[39m)\n\u001b[0;32m-> 1274\u001b[0m     \u001b[39mreturn\u001b[39;00m \u001b[39mself\u001b[39;49m\u001b[39m.\u001b[39;49mread(nbytes, buffer)\n\u001b[1;32m   1275\u001b[0m \u001b[39melse\u001b[39;00m:\n\u001b[1;32m   1276\u001b[0m     \u001b[39mreturn\u001b[39;00m \u001b[39msuper\u001b[39m()\u001b[39m.\u001b[39mrecv_into(buffer, nbytes, flags)\n",
      "File \u001b[0;32m/Library/Frameworks/Python.framework/Versions/3.10/lib/python3.10/ssl.py:1130\u001b[0m, in \u001b[0;36mSSLSocket.read\u001b[0;34m(self, len, buffer)\u001b[0m\n\u001b[1;32m   1128\u001b[0m \u001b[39mtry\u001b[39;00m:\n\u001b[1;32m   1129\u001b[0m     \u001b[39mif\u001b[39;00m buffer \u001b[39mis\u001b[39;00m \u001b[39mnot\u001b[39;00m \u001b[39mNone\u001b[39;00m:\n\u001b[0;32m-> 1130\u001b[0m         \u001b[39mreturn\u001b[39;00m \u001b[39mself\u001b[39;49m\u001b[39m.\u001b[39;49m_sslobj\u001b[39m.\u001b[39;49mread(\u001b[39mlen\u001b[39;49m, buffer)\n\u001b[1;32m   1131\u001b[0m     \u001b[39melse\u001b[39;00m:\n\u001b[1;32m   1132\u001b[0m         \u001b[39mreturn\u001b[39;00m \u001b[39mself\u001b[39m\u001b[39m.\u001b[39m_sslobj\u001b[39m.\u001b[39mread(\u001b[39mlen\u001b[39m)\n",
      "\u001b[0;31mKeyboardInterrupt\u001b[0m: "
     ]
    }
   ],
   "source": [
    "url = 'https://bvmf.bmfbovespa.com.br/InstDados/SerHist/COTAHIST_A'\n",
    "\n",
    "for ano in range(2000, 2024):\n",
    "    localUrl = f'{url}{ano}.ZIP'\n",
    "    fileName = f'COTAHIST_A{ano}.ZIP'\n",
    "\n",
    "    if not os.path.exists(fileName):\n",
    "        print(localUrl)\n",
    "        r = requests.get(localUrl, allow_redirects=True)\n",
    "    \n",
    "        with open(fileName, 'wb') as zipFile:\n",
    "            zipFile.write(r.content)\n",
    "            zipFile.close()\n",
    "\n",
    "    try:\n",
    "        zip_ref = zipfile.ZipFile(os.path.abspath(fileName))\n",
    "        zip_ref.extractall() # extract file to dir\n",
    "        zip_ref.close() # close file\n",
    "    except:\n",
    "        print (f'Não foi possível descompactar o arquivo {fileName}')\n",
    "\n",
    "    os.remove(fileName) # delete zipped file"
   ]
  },
  {
   "cell_type": "code",
   "execution_count": null,
   "metadata": {},
   "outputs": [
    {
     "name": "stdout",
     "output_type": "stream",
     "text": [
      "COTAHIST_A2015.txt\n",
      "COTAHIST_A2014.txt\n",
      "COTAHIST_A2016.txt\n",
      "COTAHIST_A2002.txt\n",
      "COTAHIST_A2003.txt\n",
      "COTAHIST_A2017.txt\n",
      "COTAHIST_A2013.txt\n",
      "COTAHIST_A2007.txt\n",
      "COTAHIST_A2006.txt\n",
      "COTAHIST_A2012.txt\n",
      "COTAHIST_A2004.txt\n",
      "COTAHIST_A2010.txt\n",
      "COTAHIST_A2011.txt\n",
      "COTAHIST_A2005.txt\n",
      "COTAHIST_A2001.txt\n",
      "COTAHIST_A2008.txt\n",
      "COTAHIST_A2020.txt\n",
      "COTAHIST_A2021.txt\n",
      "COTAHIST_A2009.txt\n",
      "COTAHIST_A2023.txt\n",
      "COTAHIST_A2022.txt\n",
      "COTAHIST_A2019.txt\n",
      "COTAHIST_A2000.txt\n",
      "COTAHIST_A2018.txt\n"
     ]
    }
   ],
   "source": [
    "# Correção dos formatos dos nomes de arquivos\n",
    "for name in os.listdir():\n",
    "    match = re.match(r'^COTAHIST.A(\\d{4}).*$', name)\n",
    "    if match:\n",
    "        newName = f'COTAHIST_A{match.group(1)}.txt'\n",
    "        os.rename(name, newName)\n",
    "        print (newName)"
   ]
  },
  {
   "cell_type": "code",
   "execution_count": 38,
   "metadata": {},
   "outputs": [],
   "source": [
    "# Mapeamento dos dados para .csv\n",
    "\n",
    "for name in os.listdir():\n",
    "    if not os.path.isdir(name) and not name.endswith('.csv') :\n",
    "        print(name)\n",
    "        try:\n",
    "            with open(name, 'r') as arq:    \n",
    "                linhas = arq.readlines()\n",
    "                with open(name[:-4] + '.csv', 'w') as csv:\n",
    "                    strCol = ''\n",
    "                    for col in colunas:\n",
    "                        strCol += f'{col};'\n",
    "                    csv.write(f'{strCol[:-1]}\\n')\n",
    "\n",
    "                    for linha in linhas[1:len(linhas[:-1])]:               \n",
    "                        csv.write(linha[2:10].strip()) # Data\n",
    "                        csv.write(';')\n",
    "                        csv.write(linha[10:12].strip()) # BDI\n",
    "                        csv.write(';')\n",
    "                        csv.write(linha[12:24].strip()) # Codigo Negociacao\n",
    "                        csv.write(';')\n",
    "                        csv.write(linha[24:27].strip()) # Tipo de Mercado\n",
    "                        csv.write(';')\n",
    "                        csv.write(linha[27:39].strip()) # Nome Resumido\n",
    "                        csv.write(';')\n",
    "                        csv.write(linha[39:49].strip()) # Especificacao do Papel\n",
    "                        csv.write(';')\n",
    "                        csv.write(prepareToFloat(linha[56:69])) # Abertura\n",
    "                        csv.write(';')\n",
    "                        csv.write(prepareToFloat(linha[69:82])) # Maximo\n",
    "                        csv.write(';')\n",
    "                        csv.write(prepareToFloat(linha[82:95])) # Minimo\n",
    "                        csv.write(';')\n",
    "                        csv.write(prepareToFloat(linha[108:121])) # Ultimo\n",
    "                        csv.write(';')\n",
    "                        csv.write(linha[170:188]) # Volume\n",
    "                        csv.write('\\n')\n",
    "        except:\n",
    "            print(f'Não foi possível abrir o arquivo {name}')\n",
    "\n",
    "        os.remove(name)   \n",
    "    \n",
    "\n"
   ]
  },
  {
   "attachments": {},
   "cell_type": "markdown",
   "metadata": {},
   "source": [
    "## Pode executar sempre"
   ]
  },
  {
   "cell_type": "code",
   "execution_count": 108,
   "metadata": {},
   "outputs": [
    {
     "name": "stdout",
     "output_type": "stream",
     "text": [
      "[Errno 2] No such file or directory: 'COTAHIST_A2000.csv'\n",
      "Não foi possivel carregar 2000\n",
      "[Errno 2] No such file or directory: 'COTAHIST_A2001.csv'\n",
      "Não foi possivel carregar 2001\n",
      "[Errno 2] No such file or directory: 'COTAHIST_A2002.csv'\n",
      "Não foi possivel carregar 2002\n",
      "[Errno 2] No such file or directory: 'COTAHIST_A2003.csv'\n",
      "Não foi possivel carregar 2003\n",
      "[Errno 2] No such file or directory: 'COTAHIST_A2004.csv'\n",
      "Não foi possivel carregar 2004\n",
      "[Errno 2] No such file or directory: 'COTAHIST_A2005.csv'\n",
      "Não foi possivel carregar 2005\n",
      "[Errno 2] No such file or directory: 'COTAHIST_A2006.csv'\n",
      "Não foi possivel carregar 2006\n",
      "[Errno 2] No such file or directory: 'COTAHIST_A2007.csv'\n",
      "Não foi possivel carregar 2007\n",
      "[Errno 2] No such file or directory: 'COTAHIST_A2008.csv'\n",
      "Não foi possivel carregar 2008\n",
      "[Errno 2] No such file or directory: 'COTAHIST_A2009.csv'\n",
      "Não foi possivel carregar 2009\n",
      "[Errno 2] No such file or directory: 'COTAHIST_A2010.csv'\n",
      "Não foi possivel carregar 2010\n",
      "[Errno 2] No such file or directory: 'COTAHIST_A2011.csv'\n",
      "Não foi possivel carregar 2011\n",
      "[Errno 2] No such file or directory: 'COTAHIST_A2012.csv'\n",
      "Não foi possivel carregar 2012\n",
      "[Errno 2] No such file or directory: 'COTAHIST_A2013.csv'\n",
      "Não foi possivel carregar 2013\n",
      "[Errno 2] No such file or directory: 'COTAHIST_A2014.csv'\n",
      "Não foi possivel carregar 2014\n",
      "[Errno 2] No such file or directory: 'COTAHIST_A2015.csv'\n",
      "Não foi possivel carregar 2015\n",
      "[Errno 2] No such file or directory: 'COTAHIST_A2016.csv'\n",
      "Não foi possivel carregar 2016\n",
      "[Errno 2] No such file or directory: 'COTAHIST_A2017.csv'\n",
      "Não foi possivel carregar 2017\n",
      "[Errno 2] No such file or directory: 'COTAHIST_A2018.csv'\n",
      "Não foi possivel carregar 2018\n",
      "[Errno 2] No such file or directory: 'COTAHIST_A2019.csv'\n",
      "Não foi possivel carregar 2019\n",
      "[Errno 2] No such file or directory: 'COTAHIST_A2020.csv'\n",
      "Não foi possivel carregar 2020\n",
      "[Errno 2] No such file or directory: 'COTAHIST_A2021.csv'\n",
      "Não foi possivel carregar 2021\n",
      "[Errno 2] No such file or directory: 'COTAHIST_A2022.csv'\n",
      "Não foi possivel carregar 2022\n",
      "[Errno 2] No such file or directory: 'COTAHIST_A2023.csv'\n",
      "Não foi possivel carregar 2023\n"
     ]
    }
   ],
   "source": [
    "for ano in intervalo:\n",
    "    try:\n",
    "        df = pd.concat([df, pd.read_csv(f'COTAHIST_A{ano}.csv', sep=';')], ignore_index=True)\n",
    "        print(f'Ano {ano} OK')\n",
    "    except Exception as err:\n",
    "        print(err)\n",
    "        print(f'Não foi possivel carregar {ano}')"
   ]
  },
  {
   "attachments": {},
   "cell_type": "markdown",
   "metadata": {},
   "source": [
    "Separar as ações mais rentaveis de 2023"
   ]
  },
  {
   "cell_type": "code",
   "execution_count": 103,
   "metadata": {},
   "outputs": [
    {
     "data": {
      "text/html": [
       "<div>\n",
       "<style scoped>\n",
       "    .dataframe tbody tr th:only-of-type {\n",
       "        vertical-align: middle;\n",
       "    }\n",
       "\n",
       "    .dataframe tbody tr th {\n",
       "        vertical-align: top;\n",
       "    }\n",
       "\n",
       "    .dataframe thead th {\n",
       "        text-align: right;\n",
       "    }\n",
       "</style>\n",
       "<table border=\"1\" class=\"dataframe\">\n",
       "  <thead>\n",
       "    <tr style=\"text-align: right;\">\n",
       "      <th></th>\n",
       "      <th>Data</th>\n",
       "      <th>BDI</th>\n",
       "      <th>CodNeg</th>\n",
       "      <th>TipoMercado</th>\n",
       "      <th>NomeResumido</th>\n",
       "      <th>Especificacao</th>\n",
       "      <th>Abertura</th>\n",
       "      <th>Maximo</th>\n",
       "      <th>Minimo</th>\n",
       "      <th>Ultimo</th>\n",
       "      <th>Volume</th>\n",
       "    </tr>\n",
       "  </thead>\n",
       "  <tbody>\n",
       "  </tbody>\n",
       "</table>\n",
       "</div>"
      ],
      "text/plain": [
       "Empty DataFrame\n",
       "Columns: [Data, BDI, CodNeg, TipoMercado, NomeResumido, Especificacao, Abertura, Maximo, Minimo, Ultimo, Volume]\n",
       "Index: []"
      ]
     },
     "execution_count": 103,
     "metadata": {},
     "output_type": "execute_result"
    }
   ],
   "source": [
    "df['Data'] = pd.to_datetime(df['Data'], format='%Y%m%d')\n",
    "df2023 = df[df['Data'].dt.year >= 2023]\n",
    "df2023"
   ]
  },
  {
   "cell_type": "code",
   "execution_count": 104,
   "metadata": {},
   "outputs": [
    {
     "data": {
      "text/plain": [
       "Series([], Name: CodNeg, dtype: int64)"
      ]
     },
     "execution_count": 104,
     "metadata": {},
     "output_type": "execute_result"
    }
   ],
   "source": [
    "codigos = df.CodNeg.value_counts()[:10]\n",
    "codigos"
   ]
  },
  {
   "cell_type": "code",
   "execution_count": 105,
   "metadata": {},
   "outputs": [
    {
     "ename": "IndexError",
     "evalue": "index 0 is out of bounds for axis 0 with size 0",
     "output_type": "error",
     "traceback": [
      "\u001b[0;31m---------------------------------------------------------------------------\u001b[0m",
      "\u001b[0;31mIndexError\u001b[0m                                Traceback (most recent call last)",
      "\u001b[1;32m/Users/marciopmm/repos/Git/DataScienceProjects/Estudo-AtivosB3/Estudo.ipynb Cell 15\u001b[0m in \u001b[0;36m1\n\u001b[0;32m----> <a href='vscode-notebook-cell:/Users/marciopmm/repos/Git/DataScienceProjects/Estudo-AtivosB3/Estudo.ipynb#X62sZmlsZQ%3D%3D?line=0'>1</a>\u001b[0m codigos\u001b[39m.\u001b[39;49mindex[\u001b[39m0\u001b[39;49m]\n",
      "File \u001b[0;32m/Library/Frameworks/Python.framework/Versions/3.10/lib/python3.10/site-packages/pandas/core/indexes/base.py:5358\u001b[0m, in \u001b[0;36mIndex.__getitem__\u001b[0;34m(self, key)\u001b[0m\n\u001b[1;32m   5355\u001b[0m \u001b[39mif\u001b[39;00m is_integer(key) \u001b[39mor\u001b[39;00m is_float(key):\n\u001b[1;32m   5356\u001b[0m     \u001b[39m# GH#44051 exclude bool, which would return a 2d ndarray\u001b[39;00m\n\u001b[1;32m   5357\u001b[0m     key \u001b[39m=\u001b[39m com\u001b[39m.\u001b[39mcast_scalar_indexer(key, warn_float\u001b[39m=\u001b[39m\u001b[39mTrue\u001b[39;00m)\n\u001b[0;32m-> 5358\u001b[0m     \u001b[39mreturn\u001b[39;00m getitem(key)\n\u001b[1;32m   5360\u001b[0m \u001b[39mif\u001b[39;00m \u001b[39misinstance\u001b[39m(key, \u001b[39mslice\u001b[39m):\n\u001b[1;32m   5361\u001b[0m     \u001b[39m# This case is separated from the conditional above to avoid\u001b[39;00m\n\u001b[1;32m   5362\u001b[0m     \u001b[39m# pessimization com.is_bool_indexer and ndim checks.\u001b[39;00m\n\u001b[1;32m   5363\u001b[0m     result \u001b[39m=\u001b[39m getitem(key)\n",
      "\u001b[0;31mIndexError\u001b[0m: index 0 is out of bounds for axis 0 with size 0"
     ]
    }
   ],
   "source": [
    "codigos.index[0]"
   ]
  },
  {
   "cell_type": "code",
   "execution_count": null,
   "metadata": {},
   "outputs": [
    {
     "data": {
      "text/plain": [
       "[{'codNeg': 'PETR4T', 'diff': 132.38},\n",
       " {'codNeg': 'VALE5T', 'diff': 160.89},\n",
       " {'codNeg': 'USIM5T', 'diff': 145.9},\n",
       " {'codNeg': 'BBAS3T', 'diff': 79.42999999999999},\n",
       " {'codNeg': 'BBDC4T', 'diff': 197.26000000000002},\n",
       " {'codNeg': 'CSNA3T', 'diff': 208.14},\n",
       " {'codNeg': 'GGBR4T', 'diff': 86.43},\n",
       " {'codNeg': 'ITSA4T', 'diff': 50.519999999999996},\n",
       " {'codNeg': 'VALE3T', 'diff': 173.04},\n",
       " {'codNeg': 'BRKM5T', 'diff': 831.0100000000001}]"
      ]
     },
     "execution_count": 37,
     "metadata": {},
     "output_type": "execute_result"
    }
   ],
   "source": [
    "dfDiff = []\n",
    "\n",
    "for i in range(len(codigos)):\n",
    "    df_cod = df[df['CodNeg'] == codigos.index[i]][['Abertura', 'Ultimo']].copy()\n",
    "    dfDiff.append({'codNeg': codigos.index[i], 'diff': df_cod['Ultimo'].max() - df_cod['Abertura'].min()})\n",
    "\n",
    "dfDiff"
   ]
  },
  {
   "attachments": {},
   "cell_type": "markdown",
   "metadata": {},
   "source": [
    "## BRKM5T (BRASKEM)"
   ]
  },
  {
   "cell_type": "code",
   "execution_count": null,
   "metadata": {},
   "outputs": [],
   "source": [
    "dfBraskem = df[df.CodNeg == 'BRKM5T']"
   ]
  },
  {
   "attachments": {},
   "cell_type": "markdown",
   "metadata": {},
   "source": [
    "Calcular os retornos diários para cada ação.\n",
    "\n",
    "Isso pode ser feito usando a fórmula (preço atual - preço anterior) / preço anterior."
   ]
  },
  {
   "cell_type": "code",
   "execution_count": null,
   "metadata": {},
   "outputs": [
    {
     "name": "stderr",
     "output_type": "stream",
     "text": [
      "/var/folders/mq/07ht7frx6vn8rjnw4vfpptvr0000gp/T/ipykernel_33720/2318669226.py:1: SettingWithCopyWarning: \n",
      "A value is trying to be set on a copy of a slice from a DataFrame.\n",
      "Try using .loc[row_indexer,col_indexer] = value instead\n",
      "\n",
      "See the caveats in the documentation: https://pandas.pydata.org/pandas-docs/stable/user_guide/indexing.html#returning-a-view-versus-a-copy\n",
      "  dfBraskem[\"Retorno\"] = dfBraskem['Ultimo'].pct_change()\n"
     ]
    }
   ],
   "source": [
    "dfBraskem[\"Retorno\"] = dfBraskem['Ultimo'].pct_change()"
   ]
  },
  {
   "attachments": {},
   "cell_type": "markdown",
   "metadata": {},
   "source": [
    "Calcular o retorno acumulado para cada ação ao longo do tempo.\n",
    "\n",
    "Isso pode ser feito somando os retornos diários cumulativamente."
   ]
  },
  {
   "cell_type": "code",
   "execution_count": null,
   "metadata": {},
   "outputs": [
    {
     "name": "stderr",
     "output_type": "stream",
     "text": [
      "/var/folders/mq/07ht7frx6vn8rjnw4vfpptvr0000gp/T/ipykernel_33720/26031330.py:1: SettingWithCopyWarning: \n",
      "A value is trying to be set on a copy of a slice from a DataFrame.\n",
      "Try using .loc[row_indexer,col_indexer] = value instead\n",
      "\n",
      "See the caveats in the documentation: https://pandas.pydata.org/pandas-docs/stable/user_guide/indexing.html#returning-a-view-versus-a-copy\n",
      "  dfBraskem[\"Retorno Cumulativo\"] = (1 + dfBraskem[\"Retorno\"]).cumprod()\n"
     ]
    },
    {
     "data": {
      "text/html": [
       "<div>\n",
       "<style scoped>\n",
       "    .dataframe tbody tr th:only-of-type {\n",
       "        vertical-align: middle;\n",
       "    }\n",
       "\n",
       "    .dataframe tbody tr th {\n",
       "        vertical-align: top;\n",
       "    }\n",
       "\n",
       "    .dataframe thead th {\n",
       "        text-align: right;\n",
       "    }\n",
       "</style>\n",
       "<table border=\"1\" class=\"dataframe\">\n",
       "  <thead>\n",
       "    <tr style=\"text-align: right;\">\n",
       "      <th></th>\n",
       "      <th>Data</th>\n",
       "      <th>BDI</th>\n",
       "      <th>CodNeg</th>\n",
       "      <th>TipoMercado</th>\n",
       "      <th>NomeResumido</th>\n",
       "      <th>Especificacao</th>\n",
       "      <th>Abertura</th>\n",
       "      <th>Maximo</th>\n",
       "      <th>Minimo</th>\n",
       "      <th>Ultimo</th>\n",
       "      <th>Volume</th>\n",
       "      <th>Retorno</th>\n",
       "      <th>Retorno Cumulativo</th>\n",
       "    </tr>\n",
       "  </thead>\n",
       "  <tbody>\n",
       "    <tr>\n",
       "      <th>391119</th>\n",
       "      <td>2002-12-19</td>\n",
       "      <td>62</td>\n",
       "      <td>BRKM5T</td>\n",
       "      <td>30</td>\n",
       "      <td>BRKM</td>\n",
       "      <td>PNA*</td>\n",
       "      <td>221.34</td>\n",
       "      <td>221.35</td>\n",
       "      <td>221.34</td>\n",
       "      <td>221.35</td>\n",
       "      <td>21470788</td>\n",
       "      <td>NaN</td>\n",
       "      <td>NaN</td>\n",
       "    </tr>\n",
       "    <tr>\n",
       "      <th>391120</th>\n",
       "      <td>2002-10-24</td>\n",
       "      <td>62</td>\n",
       "      <td>BRKM5T</td>\n",
       "      <td>30</td>\n",
       "      <td>BRKM</td>\n",
       "      <td>PNA*</td>\n",
       "      <td>217.63</td>\n",
       "      <td>217.63</td>\n",
       "      <td>217.62</td>\n",
       "      <td>217.62</td>\n",
       "      <td>8704876</td>\n",
       "      <td>-0.016851</td>\n",
       "      <td>0.983149</td>\n",
       "    </tr>\n",
       "    <tr>\n",
       "      <th>391121</th>\n",
       "      <td>2002-09-03</td>\n",
       "      <td>62</td>\n",
       "      <td>BRKM5T</td>\n",
       "      <td>30</td>\n",
       "      <td>BRKM</td>\n",
       "      <td>PNA*</td>\n",
       "      <td>297.16</td>\n",
       "      <td>297.17</td>\n",
       "      <td>297.16</td>\n",
       "      <td>297.17</td>\n",
       "      <td>1485847</td>\n",
       "      <td>0.365545</td>\n",
       "      <td>1.342534</td>\n",
       "    </tr>\n",
       "    <tr>\n",
       "      <th>391122</th>\n",
       "      <td>2002-09-04</td>\n",
       "      <td>62</td>\n",
       "      <td>BRKM5T</td>\n",
       "      <td>30</td>\n",
       "      <td>BRKM</td>\n",
       "      <td>PNA*</td>\n",
       "      <td>290.71</td>\n",
       "      <td>290.72</td>\n",
       "      <td>284.06</td>\n",
       "      <td>284.06</td>\n",
       "      <td>7168371</td>\n",
       "      <td>-0.044116</td>\n",
       "      <td>1.283307</td>\n",
       "    </tr>\n",
       "    <tr>\n",
       "      <th>391123</th>\n",
       "      <td>2002-09-05</td>\n",
       "      <td>62</td>\n",
       "      <td>BRKM5T</td>\n",
       "      <td>30</td>\n",
       "      <td>BRKM</td>\n",
       "      <td>PNA*</td>\n",
       "      <td>279.86</td>\n",
       "      <td>279.87</td>\n",
       "      <td>279.86</td>\n",
       "      <td>279.87</td>\n",
       "      <td>1399320</td>\n",
       "      <td>-0.014750</td>\n",
       "      <td>1.264378</td>\n",
       "    </tr>\n",
       "    <tr>\n",
       "      <th>...</th>\n",
       "      <td>...</td>\n",
       "      <td>...</td>\n",
       "      <td>...</td>\n",
       "      <td>...</td>\n",
       "      <td>...</td>\n",
       "      <td>...</td>\n",
       "      <td>...</td>\n",
       "      <td>...</td>\n",
       "      <td>...</td>\n",
       "      <td>...</td>\n",
       "      <td>...</td>\n",
       "      <td>...</td>\n",
       "      <td>...</td>\n",
       "    </tr>\n",
       "    <tr>\n",
       "      <th>11899489</th>\n",
       "      <td>2023-06-15</td>\n",
       "      <td>62</td>\n",
       "      <td>BRKM5T</td>\n",
       "      <td>30</td>\n",
       "      <td>BRASKEM</td>\n",
       "      <td>PNA     N1</td>\n",
       "      <td>29.01</td>\n",
       "      <td>29.99</td>\n",
       "      <td>28.61</td>\n",
       "      <td>29.99</td>\n",
       "      <td>2346266</td>\n",
       "      <td>0.015921</td>\n",
       "      <td>0.135487</td>\n",
       "    </tr>\n",
       "    <tr>\n",
       "      <th>11899490</th>\n",
       "      <td>2023-06-15</td>\n",
       "      <td>62</td>\n",
       "      <td>BRKM5T</td>\n",
       "      <td>30</td>\n",
       "      <td>BRASKEM</td>\n",
       "      <td>PNA     N1</td>\n",
       "      <td>30.15</td>\n",
       "      <td>30.21</td>\n",
       "      <td>28.80</td>\n",
       "      <td>30.21</td>\n",
       "      <td>7408553</td>\n",
       "      <td>0.007336</td>\n",
       "      <td>0.136481</td>\n",
       "    </tr>\n",
       "    <tr>\n",
       "      <th>11910721</th>\n",
       "      <td>2023-06-16</td>\n",
       "      <td>62</td>\n",
       "      <td>BRKM5T</td>\n",
       "      <td>30</td>\n",
       "      <td>BRASKEM</td>\n",
       "      <td>PNA     N1</td>\n",
       "      <td>30.43</td>\n",
       "      <td>30.65</td>\n",
       "      <td>29.48</td>\n",
       "      <td>29.49</td>\n",
       "      <td>60791932</td>\n",
       "      <td>-0.023833</td>\n",
       "      <td>0.133228</td>\n",
       "    </tr>\n",
       "    <tr>\n",
       "      <th>11910722</th>\n",
       "      <td>2023-06-16</td>\n",
       "      <td>62</td>\n",
       "      <td>BRKM5T</td>\n",
       "      <td>30</td>\n",
       "      <td>BRASKEM</td>\n",
       "      <td>PNA     N1</td>\n",
       "      <td>30.30</td>\n",
       "      <td>30.31</td>\n",
       "      <td>30.30</td>\n",
       "      <td>30.31</td>\n",
       "      <td>2727806</td>\n",
       "      <td>0.027806</td>\n",
       "      <td>0.136932</td>\n",
       "    </tr>\n",
       "    <tr>\n",
       "      <th>11910723</th>\n",
       "      <td>2023-06-16</td>\n",
       "      <td>62</td>\n",
       "      <td>BRKM5T</td>\n",
       "      <td>30</td>\n",
       "      <td>BRASKEM</td>\n",
       "      <td>PNA     N1</td>\n",
       "      <td>31.48</td>\n",
       "      <td>31.49</td>\n",
       "      <td>31.00</td>\n",
       "      <td>31.05</td>\n",
       "      <td>10892557</td>\n",
       "      <td>0.024414</td>\n",
       "      <td>0.140276</td>\n",
       "    </tr>\n",
       "  </tbody>\n",
       "</table>\n",
       "<p>13062 rows × 13 columns</p>\n",
       "</div>"
      ],
      "text/plain": [
       "               Data BDI  CodNeg TipoMercado NomeResumido Especificacao  \\\n",
       "391119   2002-12-19  62  BRKM5T          30         BRKM          PNA*   \n",
       "391120   2002-10-24  62  BRKM5T          30         BRKM          PNA*   \n",
       "391121   2002-09-03  62  BRKM5T          30         BRKM          PNA*   \n",
       "391122   2002-09-04  62  BRKM5T          30         BRKM          PNA*   \n",
       "391123   2002-09-05  62  BRKM5T          30         BRKM          PNA*   \n",
       "...             ...  ..     ...         ...          ...           ...   \n",
       "11899489 2023-06-15  62  BRKM5T          30      BRASKEM    PNA     N1   \n",
       "11899490 2023-06-15  62  BRKM5T          30      BRASKEM    PNA     N1   \n",
       "11910721 2023-06-16  62  BRKM5T          30      BRASKEM    PNA     N1   \n",
       "11910722 2023-06-16  62  BRKM5T          30      BRASKEM    PNA     N1   \n",
       "11910723 2023-06-16  62  BRKM5T          30      BRASKEM    PNA     N1   \n",
       "\n",
       "          Abertura  Maximo  Minimo  Ultimo    Volume   Retorno  \\\n",
       "391119      221.34  221.35  221.34  221.35  21470788       NaN   \n",
       "391120      217.63  217.63  217.62  217.62   8704876 -0.016851   \n",
       "391121      297.16  297.17  297.16  297.17   1485847  0.365545   \n",
       "391122      290.71  290.72  284.06  284.06   7168371 -0.044116   \n",
       "391123      279.86  279.87  279.86  279.87   1399320 -0.014750   \n",
       "...            ...     ...     ...     ...       ...       ...   \n",
       "11899489     29.01   29.99   28.61   29.99   2346266  0.015921   \n",
       "11899490     30.15   30.21   28.80   30.21   7408553  0.007336   \n",
       "11910721     30.43   30.65   29.48   29.49  60791932 -0.023833   \n",
       "11910722     30.30   30.31   30.30   30.31   2727806  0.027806   \n",
       "11910723     31.48   31.49   31.00   31.05  10892557  0.024414   \n",
       "\n",
       "          Retorno Cumulativo  \n",
       "391119                   NaN  \n",
       "391120              0.983149  \n",
       "391121              1.342534  \n",
       "391122              1.283307  \n",
       "391123              1.264378  \n",
       "...                      ...  \n",
       "11899489            0.135487  \n",
       "11899490            0.136481  \n",
       "11910721            0.133228  \n",
       "11910722            0.136932  \n",
       "11910723            0.140276  \n",
       "\n",
       "[13062 rows x 13 columns]"
      ]
     },
     "execution_count": 41,
     "metadata": {},
     "output_type": "execute_result"
    }
   ],
   "source": [
    "dfBraskem[\"Retorno Cumulativo\"] = (1 + dfBraskem[\"Retorno\"]).cumprod()\n",
    "dfBraskem\n"
   ]
  },
  {
   "cell_type": "code",
   "execution_count": null,
   "metadata": {},
   "outputs": [],
   "source": [
    "dfBraskem = dfBraskem[['Data', 'CodNeg', 'Abertura', 'Minimo', 'Maximo', 'Ultimo', 'Volume']].copy()"
   ]
  },
  {
   "attachments": {},
   "cell_type": "markdown",
   "metadata": {},
   "source": [
    "## Definição do ativo a ser verificado\n",
    "\n",
    "- BRKM5T - Braskem\n",
    "- NEWU11\n",
    "- BBVH12\n",
    "- HBRH11\n",
    "- PETR4\n",
    "- LMTB34"
   ]
  },
  {
   "cell_type": "code",
   "execution_count": null,
   "metadata": {},
   "outputs": [],
   "source": [
    "def preparaAtivo(df_ativo):\n",
    "    df_ativo['Amanha'] = df_ativo['Ultimo'].shift(-1)\n",
    "    df_ativo['Alvo'] = (df_ativo['Amanha'] > df_ativo['Ultimo']).astype(int)\n",
    "    return df_ativo\n"
   ]
  },
  {
   "cell_type": "code",
   "execution_count": null,
   "metadata": {},
   "outputs": [
    {
     "data": {
      "text/html": [
       "<div>\n",
       "<style scoped>\n",
       "    .dataframe tbody tr th:only-of-type {\n",
       "        vertical-align: middle;\n",
       "    }\n",
       "\n",
       "    .dataframe tbody tr th {\n",
       "        vertical-align: top;\n",
       "    }\n",
       "\n",
       "    .dataframe thead th {\n",
       "        text-align: right;\n",
       "    }\n",
       "</style>\n",
       "<table border=\"1\" class=\"dataframe\">\n",
       "  <thead>\n",
       "    <tr style=\"text-align: right;\">\n",
       "      <th></th>\n",
       "      <th>Data</th>\n",
       "      <th>CodNeg</th>\n",
       "      <th>Abertura</th>\n",
       "      <th>Minimo</th>\n",
       "      <th>Maximo</th>\n",
       "      <th>Ultimo</th>\n",
       "      <th>Volume</th>\n",
       "      <th>Amanha</th>\n",
       "      <th>Alvo</th>\n",
       "    </tr>\n",
       "  </thead>\n",
       "  <tbody>\n",
       "    <tr>\n",
       "      <th>391119</th>\n",
       "      <td>2002-12-19</td>\n",
       "      <td>BRKM5T</td>\n",
       "      <td>221.34</td>\n",
       "      <td>221.34</td>\n",
       "      <td>221.35</td>\n",
       "      <td>221.35</td>\n",
       "      <td>21470788</td>\n",
       "      <td>217.62</td>\n",
       "      <td>0</td>\n",
       "    </tr>\n",
       "    <tr>\n",
       "      <th>391120</th>\n",
       "      <td>2002-10-24</td>\n",
       "      <td>BRKM5T</td>\n",
       "      <td>217.63</td>\n",
       "      <td>217.62</td>\n",
       "      <td>217.63</td>\n",
       "      <td>217.62</td>\n",
       "      <td>8704876</td>\n",
       "      <td>297.17</td>\n",
       "      <td>1</td>\n",
       "    </tr>\n",
       "    <tr>\n",
       "      <th>391121</th>\n",
       "      <td>2002-09-03</td>\n",
       "      <td>BRKM5T</td>\n",
       "      <td>297.16</td>\n",
       "      <td>297.16</td>\n",
       "      <td>297.17</td>\n",
       "      <td>297.17</td>\n",
       "      <td>1485847</td>\n",
       "      <td>284.06</td>\n",
       "      <td>0</td>\n",
       "    </tr>\n",
       "    <tr>\n",
       "      <th>391122</th>\n",
       "      <td>2002-09-04</td>\n",
       "      <td>BRKM5T</td>\n",
       "      <td>290.71</td>\n",
       "      <td>284.06</td>\n",
       "      <td>290.72</td>\n",
       "      <td>284.06</td>\n",
       "      <td>7168371</td>\n",
       "      <td>279.87</td>\n",
       "      <td>0</td>\n",
       "    </tr>\n",
       "    <tr>\n",
       "      <th>391123</th>\n",
       "      <td>2002-09-05</td>\n",
       "      <td>BRKM5T</td>\n",
       "      <td>279.86</td>\n",
       "      <td>279.86</td>\n",
       "      <td>279.87</td>\n",
       "      <td>279.87</td>\n",
       "      <td>1399320</td>\n",
       "      <td>271.81</td>\n",
       "      <td>0</td>\n",
       "    </tr>\n",
       "    <tr>\n",
       "      <th>...</th>\n",
       "      <td>...</td>\n",
       "      <td>...</td>\n",
       "      <td>...</td>\n",
       "      <td>...</td>\n",
       "      <td>...</td>\n",
       "      <td>...</td>\n",
       "      <td>...</td>\n",
       "      <td>...</td>\n",
       "      <td>...</td>\n",
       "    </tr>\n",
       "    <tr>\n",
       "      <th>11899489</th>\n",
       "      <td>2023-06-15</td>\n",
       "      <td>BRKM5T</td>\n",
       "      <td>29.01</td>\n",
       "      <td>28.61</td>\n",
       "      <td>29.99</td>\n",
       "      <td>29.99</td>\n",
       "      <td>2346266</td>\n",
       "      <td>30.21</td>\n",
       "      <td>1</td>\n",
       "    </tr>\n",
       "    <tr>\n",
       "      <th>11899490</th>\n",
       "      <td>2023-06-15</td>\n",
       "      <td>BRKM5T</td>\n",
       "      <td>30.15</td>\n",
       "      <td>28.80</td>\n",
       "      <td>30.21</td>\n",
       "      <td>30.21</td>\n",
       "      <td>7408553</td>\n",
       "      <td>29.49</td>\n",
       "      <td>0</td>\n",
       "    </tr>\n",
       "    <tr>\n",
       "      <th>11910721</th>\n",
       "      <td>2023-06-16</td>\n",
       "      <td>BRKM5T</td>\n",
       "      <td>30.43</td>\n",
       "      <td>29.48</td>\n",
       "      <td>30.65</td>\n",
       "      <td>29.49</td>\n",
       "      <td>60791932</td>\n",
       "      <td>30.31</td>\n",
       "      <td>1</td>\n",
       "    </tr>\n",
       "    <tr>\n",
       "      <th>11910722</th>\n",
       "      <td>2023-06-16</td>\n",
       "      <td>BRKM5T</td>\n",
       "      <td>30.30</td>\n",
       "      <td>30.30</td>\n",
       "      <td>30.31</td>\n",
       "      <td>30.31</td>\n",
       "      <td>2727806</td>\n",
       "      <td>31.05</td>\n",
       "      <td>1</td>\n",
       "    </tr>\n",
       "    <tr>\n",
       "      <th>11910723</th>\n",
       "      <td>2023-06-16</td>\n",
       "      <td>BRKM5T</td>\n",
       "      <td>31.48</td>\n",
       "      <td>31.00</td>\n",
       "      <td>31.49</td>\n",
       "      <td>31.05</td>\n",
       "      <td>10892557</td>\n",
       "      <td>NaN</td>\n",
       "      <td>0</td>\n",
       "    </tr>\n",
       "  </tbody>\n",
       "</table>\n",
       "<p>13062 rows × 9 columns</p>\n",
       "</div>"
      ],
      "text/plain": [
       "               Data  CodNeg  Abertura  Minimo  Maximo  Ultimo    Volume  \\\n",
       "391119   2002-12-19  BRKM5T    221.34  221.34  221.35  221.35  21470788   \n",
       "391120   2002-10-24  BRKM5T    217.63  217.62  217.63  217.62   8704876   \n",
       "391121   2002-09-03  BRKM5T    297.16  297.16  297.17  297.17   1485847   \n",
       "391122   2002-09-04  BRKM5T    290.71  284.06  290.72  284.06   7168371   \n",
       "391123   2002-09-05  BRKM5T    279.86  279.86  279.87  279.87   1399320   \n",
       "...             ...     ...       ...     ...     ...     ...       ...   \n",
       "11899489 2023-06-15  BRKM5T     29.01   28.61   29.99   29.99   2346266   \n",
       "11899490 2023-06-15  BRKM5T     30.15   28.80   30.21   30.21   7408553   \n",
       "11910721 2023-06-16  BRKM5T     30.43   29.48   30.65   29.49  60791932   \n",
       "11910722 2023-06-16  BRKM5T     30.30   30.30   30.31   30.31   2727806   \n",
       "11910723 2023-06-16  BRKM5T     31.48   31.00   31.49   31.05  10892557   \n",
       "\n",
       "          Amanha  Alvo  \n",
       "391119    217.62     0  \n",
       "391120    297.17     1  \n",
       "391121    284.06     0  \n",
       "391122    279.87     0  \n",
       "391123    271.81     0  \n",
       "...          ...   ...  \n",
       "11899489   30.21     1  \n",
       "11899490   29.49     0  \n",
       "11910721   30.31     1  \n",
       "11910722   31.05     1  \n",
       "11910723     NaN     0  \n",
       "\n",
       "[13062 rows x 9 columns]"
      ]
     },
     "execution_count": 45,
     "metadata": {},
     "output_type": "execute_result"
    }
   ],
   "source": [
    "dfBraskem = preparaAtivo(dfBraskem)\n",
    "dfBraskem"
   ]
  },
  {
   "attachments": {},
   "cell_type": "markdown",
   "metadata": {},
   "source": [
    "## Contrução do Modelo de Predição"
   ]
  },
  {
   "cell_type": "code",
   "execution_count": null,
   "metadata": {},
   "outputs": [
    {
     "data": {
      "text/html": [
       "<style>#sk-container-id-1 {color: black;background-color: white;}#sk-container-id-1 pre{padding: 0;}#sk-container-id-1 div.sk-toggleable {background-color: white;}#sk-container-id-1 label.sk-toggleable__label {cursor: pointer;display: block;width: 100%;margin-bottom: 0;padding: 0.3em;box-sizing: border-box;text-align: center;}#sk-container-id-1 label.sk-toggleable__label-arrow:before {content: \"▸\";float: left;margin-right: 0.25em;color: #696969;}#sk-container-id-1 label.sk-toggleable__label-arrow:hover:before {color: black;}#sk-container-id-1 div.sk-estimator:hover label.sk-toggleable__label-arrow:before {color: black;}#sk-container-id-1 div.sk-toggleable__content {max-height: 0;max-width: 0;overflow: hidden;text-align: left;background-color: #f0f8ff;}#sk-container-id-1 div.sk-toggleable__content pre {margin: 0.2em;color: black;border-radius: 0.25em;background-color: #f0f8ff;}#sk-container-id-1 input.sk-toggleable__control:checked~div.sk-toggleable__content {max-height: 200px;max-width: 100%;overflow: auto;}#sk-container-id-1 input.sk-toggleable__control:checked~label.sk-toggleable__label-arrow:before {content: \"▾\";}#sk-container-id-1 div.sk-estimator input.sk-toggleable__control:checked~label.sk-toggleable__label {background-color: #d4ebff;}#sk-container-id-1 div.sk-label input.sk-toggleable__control:checked~label.sk-toggleable__label {background-color: #d4ebff;}#sk-container-id-1 input.sk-hidden--visually {border: 0;clip: rect(1px 1px 1px 1px);clip: rect(1px, 1px, 1px, 1px);height: 1px;margin: -1px;overflow: hidden;padding: 0;position: absolute;width: 1px;}#sk-container-id-1 div.sk-estimator {font-family: monospace;background-color: #f0f8ff;border: 1px dotted black;border-radius: 0.25em;box-sizing: border-box;margin-bottom: 0.5em;}#sk-container-id-1 div.sk-estimator:hover {background-color: #d4ebff;}#sk-container-id-1 div.sk-parallel-item::after {content: \"\";width: 100%;border-bottom: 1px solid gray;flex-grow: 1;}#sk-container-id-1 div.sk-label:hover label.sk-toggleable__label {background-color: #d4ebff;}#sk-container-id-1 div.sk-serial::before {content: \"\";position: absolute;border-left: 1px solid gray;box-sizing: border-box;top: 0;bottom: 0;left: 50%;z-index: 0;}#sk-container-id-1 div.sk-serial {display: flex;flex-direction: column;align-items: center;background-color: white;padding-right: 0.2em;padding-left: 0.2em;position: relative;}#sk-container-id-1 div.sk-item {position: relative;z-index: 1;}#sk-container-id-1 div.sk-parallel {display: flex;align-items: stretch;justify-content: center;background-color: white;position: relative;}#sk-container-id-1 div.sk-item::before, #sk-container-id-1 div.sk-parallel-item::before {content: \"\";position: absolute;border-left: 1px solid gray;box-sizing: border-box;top: 0;bottom: 0;left: 50%;z-index: -1;}#sk-container-id-1 div.sk-parallel-item {display: flex;flex-direction: column;z-index: 1;position: relative;background-color: white;}#sk-container-id-1 div.sk-parallel-item:first-child::after {align-self: flex-end;width: 50%;}#sk-container-id-1 div.sk-parallel-item:last-child::after {align-self: flex-start;width: 50%;}#sk-container-id-1 div.sk-parallel-item:only-child::after {width: 0;}#sk-container-id-1 div.sk-dashed-wrapped {border: 1px dashed gray;margin: 0 0.4em 0.5em 0.4em;box-sizing: border-box;padding-bottom: 0.4em;background-color: white;}#sk-container-id-1 div.sk-label label {font-family: monospace;font-weight: bold;display: inline-block;line-height: 1.2em;}#sk-container-id-1 div.sk-label-container {text-align: center;}#sk-container-id-1 div.sk-container {/* jupyter's `normalize.less` sets `[hidden] { display: none; }` but bootstrap.min.css set `[hidden] { display: none !important; }` so we also need the `!important` here to be able to override the default hidden behavior on the sphinx rendered scikit-learn.org. See: https://github.com/scikit-learn/scikit-learn/issues/21755 */display: inline-block !important;position: relative;}#sk-container-id-1 div.sk-text-repr-fallback {display: none;}</style><div id=\"sk-container-id-1\" class=\"sk-top-container\"><div class=\"sk-text-repr-fallback\"><pre>RandomForestClassifier(min_samples_split=100, random_state=1)</pre><b>In a Jupyter environment, please rerun this cell to show the HTML representation or trust the notebook. <br />On GitHub, the HTML representation is unable to render, please try loading this page with nbviewer.org.</b></div><div class=\"sk-container\" hidden><div class=\"sk-item\"><div class=\"sk-estimator sk-toggleable\"><input class=\"sk-toggleable__control sk-hidden--visually\" id=\"sk-estimator-id-1\" type=\"checkbox\" checked><label for=\"sk-estimator-id-1\" class=\"sk-toggleable__label sk-toggleable__label-arrow\">RandomForestClassifier</label><div class=\"sk-toggleable__content\"><pre>RandomForestClassifier(min_samples_split=100, random_state=1)</pre></div></div></div></div></div>"
      ],
      "text/plain": [
       "RandomForestClassifier(min_samples_split=100, random_state=1)"
      ]
     },
     "execution_count": 46,
     "metadata": {},
     "output_type": "execute_result"
    }
   ],
   "source": [
    "from sklearn.ensemble import RandomForestClassifier\n",
    "\n",
    "model = RandomForestClassifier(n_estimators=100, min_samples_split=100, random_state=1)\n",
    "\n",
    "train = dfBraskem.iloc[:-100]\n",
    "test = dfBraskem.iloc[-100:]\n",
    "\n",
    "predictors = ['Ultimo', 'Volume', 'Abertura', 'Maximo', 'Minimo']\n",
    "model.fit(train[predictors], train['Alvo'])"
   ]
  },
  {
   "cell_type": "code",
   "execution_count": null,
   "metadata": {},
   "outputs": [],
   "source": [
    "from sklearn.metrics import precision_score\n",
    "\n",
    "preds = model.predict(test[predictors])"
   ]
  },
  {
   "cell_type": "code",
   "execution_count": null,
   "metadata": {},
   "outputs": [],
   "source": [
    "preds = pd.Series(preds, index=test.index)"
   ]
  },
  {
   "cell_type": "code",
   "execution_count": null,
   "metadata": {},
   "outputs": [
    {
     "data": {
      "text/plain": [
       "11657897    1\n",
       "11657898    0\n",
       "11657899    1\n",
       "11657900    1\n",
       "11657901    1\n",
       "           ..\n",
       "11899489    1\n",
       "11899490    1\n",
       "11910721    1\n",
       "11910722    0\n",
       "11910723    1\n",
       "Length: 100, dtype: int64"
      ]
     },
     "execution_count": 49,
     "metadata": {},
     "output_type": "execute_result"
    }
   ],
   "source": [
    "preds"
   ]
  },
  {
   "cell_type": "code",
   "execution_count": null,
   "metadata": {},
   "outputs": [
    {
     "data": {
      "text/plain": [
       "0.6615384615384615"
      ]
     },
     "execution_count": 50,
     "metadata": {},
     "output_type": "execute_result"
    }
   ],
   "source": [
    "precision_score(test['Alvo'], preds)"
   ]
  },
  {
   "cell_type": "code",
   "execution_count": null,
   "metadata": {},
   "outputs": [],
   "source": [
    "combined = pd.concat([test['Alvo'], preds], axis=1)"
   ]
  },
  {
   "cell_type": "code",
   "execution_count": null,
   "metadata": {},
   "outputs": [
    {
     "data": {
      "text/plain": [
       "<AxesSubplot: >"
      ]
     },
     "execution_count": 52,
     "metadata": {},
     "output_type": "execute_result"
    },
    {
     "data": {
      "image/png": "[encoded data removed]",
      "text/plain": [
       "<Figure size 640x480 with 1 Axes>"
      ]
     },
     "metadata": {},
     "output_type": "display_data"
    }
   ],
   "source": [
    "combined.plot()"
   ]
  },
  {
   "attachments": {},
   "cell_type": "markdown",
   "metadata": {},
   "source": [
    "## Backtesting"
   ]
  },
  {
   "cell_type": "code",
   "execution_count": null,
   "metadata": {},
   "outputs": [],
   "source": [
    "def predict(train, test, predictors, model):\n",
    "    model.fit(train[predictors], train['Alvo'])\n",
    "    preds = model.predict(test[predictors])\n",
    "    preds = pd.Series(preds, index=test.index, name='Predictions')\n",
    "    combined = pd.concat([test['Alvo'], preds], axis=1)\n",
    "    return combined"
   ]
  },
  {
   "cell_type": "code",
   "execution_count": null,
   "metadata": {},
   "outputs": [],
   "source": [
    "def backtest(data, model, predictors, start=100, step=10):\n",
    "    all_predictions = []\n",
    "    for i in range(start, data.shape[0], step):\n",
    "        train = data.iloc[0:i].copy()\n",
    "        test = data.iloc[i:(i+step)].copy()\n",
    "        predictions = predict(train, test, predictors, model)\n",
    "        all_predictions.append(predictions)\n",
    "\n",
    "    return pd.concat(all_predictions)"
   ]
  },
  {
   "cell_type": "code",
   "execution_count": null,
   "metadata": {},
   "outputs": [
    {
     "data": {
      "text/plain": [
       "13062"
      ]
     },
     "execution_count": 55,
     "metadata": {},
     "output_type": "execute_result"
    }
   ],
   "source": [
    "dfBraskem.shape[0]"
   ]
  },
  {
   "cell_type": "code",
   "execution_count": null,
   "metadata": {},
   "outputs": [],
   "source": [
    "predictions = backtest(dfBraskem, model, predictors)"
   ]
  },
  {
   "cell_type": "code",
   "execution_count": null,
   "metadata": {},
   "outputs": [
    {
     "data": {
      "text/plain": [
       "1    9967\n",
       "0    2995\n",
       "Name: Predictions, dtype: int64"
      ]
     },
     "execution_count": 60,
     "metadata": {},
     "output_type": "execute_result"
    }
   ],
   "source": [
    "predictions['Predictions'].value_counts()"
   ]
  },
  {
   "cell_type": "code",
   "execution_count": null,
   "metadata": {},
   "outputs": [
    {
     "data": {
      "text/plain": [
       "0.5844286144276111"
      ]
     },
     "execution_count": 61,
     "metadata": {},
     "output_type": "execute_result"
    }
   ],
   "source": [
    "precision_score(predictions['Alvo'], predictions['Predictions'])"
   ]
  },
  {
   "cell_type": "code",
   "execution_count": null,
   "metadata": {},
   "outputs": [
    {
     "data": {
      "text/plain": [
       "1    0.565345\n",
       "0    0.434655\n",
       "Name: Alvo, dtype: float64"
      ]
     },
     "execution_count": 80,
     "metadata": {},
     "output_type": "execute_result"
    }
   ],
   "source": [
    "predictions[\"Alvo\"].value_counts() / predictions.shape[0]"
   ]
  },
  {
   "attachments": {},
   "cell_type": "markdown",
   "metadata": {},
   "source": [
    "## Adicionando mais preditores ao modelo"
   ]
  },
  {
   "cell_type": "code",
   "execution_count": null,
   "metadata": {},
   "outputs": [
    {
     "name": "stderr",
     "output_type": "stream",
     "text": [
      "/var/folders/mq/07ht7frx6vn8rjnw4vfpptvr0000gp/T/ipykernel_33720/2467511920.py:5: FutureWarning: Dropping of nuisance columns in rolling operations is deprecated; in a future version this will raise TypeError. Select only valid columns before calling the operation. Dropped columns were Index(['CodNeg', 'Data'], dtype='object')\n",
      "  rolling_averages = dfBraskem.rolling(horizon).mean()\n",
      "/var/folders/mq/07ht7frx6vn8rjnw4vfpptvr0000gp/T/ipykernel_33720/2467511920.py:12: FutureWarning: Dropping of nuisance columns in rolling operations is deprecated; in a future version this will raise TypeError. Select only valid columns before calling the operation. Dropped columns were Index(['CodNeg', 'Data'], dtype='object')\n",
      "  dfBraskem[trend_column] = dfBraskem.shift(1).rolling(horizon).sum()['Alvo']\n",
      "/var/folders/mq/07ht7frx6vn8rjnw4vfpptvr0000gp/T/ipykernel_33720/2467511920.py:5: FutureWarning: Dropping of nuisance columns in rolling operations is deprecated; in a future version this will raise TypeError. Select only valid columns before calling the operation. Dropped columns were Index(['CodNeg', 'Data'], dtype='object')\n",
      "  rolling_averages = dfBraskem.rolling(horizon).mean()\n",
      "/var/folders/mq/07ht7frx6vn8rjnw4vfpptvr0000gp/T/ipykernel_33720/2467511920.py:12: FutureWarning: Dropping of nuisance columns in rolling operations is deprecated; in a future version this will raise TypeError. Select only valid columns before calling the operation. Dropped columns were Index(['CodNeg', 'Data'], dtype='object')\n",
      "  dfBraskem[trend_column] = dfBraskem.shift(1).rolling(horizon).sum()['Alvo']\n",
      "/var/folders/mq/07ht7frx6vn8rjnw4vfpptvr0000gp/T/ipykernel_33720/2467511920.py:5: FutureWarning: Dropping of nuisance columns in rolling operations is deprecated; in a future version this will raise TypeError. Select only valid columns before calling the operation. Dropped columns were Index(['CodNeg', 'Data'], dtype='object')\n",
      "  rolling_averages = dfBraskem.rolling(horizon).mean()\n",
      "/var/folders/mq/07ht7frx6vn8rjnw4vfpptvr0000gp/T/ipykernel_33720/2467511920.py:12: FutureWarning: Dropping of nuisance columns in rolling operations is deprecated; in a future version this will raise TypeError. Select only valid columns before calling the operation. Dropped columns were Index(['CodNeg', 'Data'], dtype='object')\n",
      "  dfBraskem[trend_column] = dfBraskem.shift(1).rolling(horizon).sum()['Alvo']\n",
      "/var/folders/mq/07ht7frx6vn8rjnw4vfpptvr0000gp/T/ipykernel_33720/2467511920.py:5: FutureWarning: Dropping of nuisance columns in rolling operations is deprecated; in a future version this will raise TypeError. Select only valid columns before calling the operation. Dropped columns were Index(['CodNeg', 'Data'], dtype='object')\n",
      "  rolling_averages = dfBraskem.rolling(horizon).mean()\n",
      "/var/folders/mq/07ht7frx6vn8rjnw4vfpptvr0000gp/T/ipykernel_33720/2467511920.py:12: FutureWarning: Dropping of nuisance columns in rolling operations is deprecated; in a future version this will raise TypeError. Select only valid columns before calling the operation. Dropped columns were Index(['CodNeg', 'Data'], dtype='object')\n",
      "  dfBraskem[trend_column] = dfBraskem.shift(1).rolling(horizon).sum()['Alvo']\n",
      "/var/folders/mq/07ht7frx6vn8rjnw4vfpptvr0000gp/T/ipykernel_33720/2467511920.py:5: FutureWarning: Dropping of nuisance columns in rolling operations is deprecated; in a future version this will raise TypeError. Select only valid columns before calling the operation. Dropped columns were Index(['CodNeg', 'Data'], dtype='object')\n",
      "  rolling_averages = dfBraskem.rolling(horizon).mean()\n",
      "/var/folders/mq/07ht7frx6vn8rjnw4vfpptvr0000gp/T/ipykernel_33720/2467511920.py:12: FutureWarning: Dropping of nuisance columns in rolling operations is deprecated; in a future version this will raise TypeError. Select only valid columns before calling the operation. Dropped columns were Index(['CodNeg', 'Data'], dtype='object')\n",
      "  dfBraskem[trend_column] = dfBraskem.shift(1).rolling(horizon).sum()['Alvo']\n"
     ]
    }
   ],
   "source": [
    "horizons = [2, 5, 60, 250, 1000]\n",
    "new_predictors  = []\n",
    "\n",
    "for horizon in horizons:\n",
    "    rolling_averages = dfBraskem.rolling(horizon).mean()\n",
    "\n",
    "    ratio_column = f\"Taxa_Ultimo_{horizon}\"\n",
    "\n",
    "    dfBraskem[ratio_column] = dfBraskem['Ultimo'] / rolling_averages['Ultimo']\n",
    "\n",
    "    trend_column = f'Trend_{horizon}'\n",
    "    dfBraskem[trend_column] = dfBraskem.shift(1).rolling(horizon).sum()['Alvo']\n",
    "\n",
    "    new_predictors += [ratio_column, trend_column]"
   ]
  },
  {
   "cell_type": "code",
   "execution_count": null,
   "metadata": {},
   "outputs": [
    {
     "data": {
      "text/html": [
       "<div>\n",
       "<style scoped>\n",
       "    .dataframe tbody tr th:only-of-type {\n",
       "        vertical-align: middle;\n",
       "    }\n",
       "\n",
       "    .dataframe tbody tr th {\n",
       "        vertical-align: top;\n",
       "    }\n",
       "\n",
       "    .dataframe thead th {\n",
       "        text-align: right;\n",
       "    }\n",
       "</style>\n",
       "<table border=\"1\" class=\"dataframe\">\n",
       "  <thead>\n",
       "    <tr style=\"text-align: right;\">\n",
       "      <th></th>\n",
       "      <th>Data</th>\n",
       "      <th>CodNeg</th>\n",
       "      <th>Abertura</th>\n",
       "      <th>Minimo</th>\n",
       "      <th>Maximo</th>\n",
       "      <th>Ultimo</th>\n",
       "      <th>Volume</th>\n",
       "      <th>Amanha</th>\n",
       "      <th>Alvo</th>\n",
       "      <th>Taxa_Ultima_2</th>\n",
       "      <th>Trend_2</th>\n",
       "      <th>Taxa_Ultima_5</th>\n",
       "      <th>Trend_5</th>\n",
       "      <th>Taxa_Ultima_60</th>\n",
       "      <th>Trend_60</th>\n",
       "      <th>Taxa_Ultima_250</th>\n",
       "      <th>Trend_250</th>\n",
       "      <th>Taxa_Ultima_1000</th>\n",
       "      <th>Trend_1000</th>\n",
       "    </tr>\n",
       "  </thead>\n",
       "  <tbody>\n",
       "    <tr>\n",
       "      <th>391119</th>\n",
       "      <td>2002-12-19</td>\n",
       "      <td>BRKM5T</td>\n",
       "      <td>221.34</td>\n",
       "      <td>221.34</td>\n",
       "      <td>221.35</td>\n",
       "      <td>221.35</td>\n",
       "      <td>21470788</td>\n",
       "      <td>217.62</td>\n",
       "      <td>0</td>\n",
       "      <td>NaN</td>\n",
       "      <td>NaN</td>\n",
       "      <td>NaN</td>\n",
       "      <td>NaN</td>\n",
       "      <td>NaN</td>\n",
       "      <td>NaN</td>\n",
       "      <td>NaN</td>\n",
       "      <td>NaN</td>\n",
       "      <td>NaN</td>\n",
       "      <td>NaN</td>\n",
       "    </tr>\n",
       "    <tr>\n",
       "      <th>391120</th>\n",
       "      <td>2002-10-24</td>\n",
       "      <td>BRKM5T</td>\n",
       "      <td>217.63</td>\n",
       "      <td>217.62</td>\n",
       "      <td>217.63</td>\n",
       "      <td>217.62</td>\n",
       "      <td>8704876</td>\n",
       "      <td>297.17</td>\n",
       "      <td>1</td>\n",
       "      <td>0.991503</td>\n",
       "      <td>NaN</td>\n",
       "      <td>NaN</td>\n",
       "      <td>NaN</td>\n",
       "      <td>NaN</td>\n",
       "      <td>NaN</td>\n",
       "      <td>NaN</td>\n",
       "      <td>NaN</td>\n",
       "      <td>NaN</td>\n",
       "      <td>NaN</td>\n",
       "    </tr>\n",
       "    <tr>\n",
       "      <th>391121</th>\n",
       "      <td>2002-09-03</td>\n",
       "      <td>BRKM5T</td>\n",
       "      <td>297.16</td>\n",
       "      <td>297.16</td>\n",
       "      <td>297.17</td>\n",
       "      <td>297.17</td>\n",
       "      <td>1485847</td>\n",
       "      <td>284.06</td>\n",
       "      <td>0</td>\n",
       "      <td>1.154529</td>\n",
       "      <td>1.0</td>\n",
       "      <td>NaN</td>\n",
       "      <td>NaN</td>\n",
       "      <td>NaN</td>\n",
       "      <td>NaN</td>\n",
       "      <td>NaN</td>\n",
       "      <td>NaN</td>\n",
       "      <td>NaN</td>\n",
       "      <td>NaN</td>\n",
       "    </tr>\n",
       "    <tr>\n",
       "      <th>391122</th>\n",
       "      <td>2002-09-04</td>\n",
       "      <td>BRKM5T</td>\n",
       "      <td>290.71</td>\n",
       "      <td>284.06</td>\n",
       "      <td>290.72</td>\n",
       "      <td>284.06</td>\n",
       "      <td>7168371</td>\n",
       "      <td>279.87</td>\n",
       "      <td>0</td>\n",
       "      <td>0.977444</td>\n",
       "      <td>1.0</td>\n",
       "      <td>NaN</td>\n",
       "      <td>NaN</td>\n",
       "      <td>NaN</td>\n",
       "      <td>NaN</td>\n",
       "      <td>NaN</td>\n",
       "      <td>NaN</td>\n",
       "      <td>NaN</td>\n",
       "      <td>NaN</td>\n",
       "    </tr>\n",
       "    <tr>\n",
       "      <th>391123</th>\n",
       "      <td>2002-09-05</td>\n",
       "      <td>BRKM5T</td>\n",
       "      <td>279.86</td>\n",
       "      <td>279.86</td>\n",
       "      <td>279.87</td>\n",
       "      <td>279.87</td>\n",
       "      <td>1399320</td>\n",
       "      <td>271.81</td>\n",
       "      <td>0</td>\n",
       "      <td>0.992570</td>\n",
       "      <td>0.0</td>\n",
       "      <td>1.076365</td>\n",
       "      <td>NaN</td>\n",
       "      <td>NaN</td>\n",
       "      <td>NaN</td>\n",
       "      <td>NaN</td>\n",
       "      <td>NaN</td>\n",
       "      <td>NaN</td>\n",
       "      <td>NaN</td>\n",
       "    </tr>\n",
       "    <tr>\n",
       "      <th>...</th>\n",
       "      <td>...</td>\n",
       "      <td>...</td>\n",
       "      <td>...</td>\n",
       "      <td>...</td>\n",
       "      <td>...</td>\n",
       "      <td>...</td>\n",
       "      <td>...</td>\n",
       "      <td>...</td>\n",
       "      <td>...</td>\n",
       "      <td>...</td>\n",
       "      <td>...</td>\n",
       "      <td>...</td>\n",
       "      <td>...</td>\n",
       "      <td>...</td>\n",
       "      <td>...</td>\n",
       "      <td>...</td>\n",
       "      <td>...</td>\n",
       "      <td>...</td>\n",
       "      <td>...</td>\n",
       "    </tr>\n",
       "    <tr>\n",
       "      <th>11899489</th>\n",
       "      <td>2023-06-15</td>\n",
       "      <td>BRKM5T</td>\n",
       "      <td>29.01</td>\n",
       "      <td>28.61</td>\n",
       "      <td>29.99</td>\n",
       "      <td>29.99</td>\n",
       "      <td>2346266</td>\n",
       "      <td>30.21</td>\n",
       "      <td>1</td>\n",
       "      <td>1.007898</td>\n",
       "      <td>2.0</td>\n",
       "      <td>1.039731</td>\n",
       "      <td>4.0</td>\n",
       "      <td>1.171713</td>\n",
       "      <td>39.0</td>\n",
       "      <td>1.361387</td>\n",
       "      <td>156.0</td>\n",
       "      <td>0.881054</td>\n",
       "      <td>500.0</td>\n",
       "    </tr>\n",
       "    <tr>\n",
       "      <th>11899490</th>\n",
       "      <td>2023-06-15</td>\n",
       "      <td>BRKM5T</td>\n",
       "      <td>30.15</td>\n",
       "      <td>28.80</td>\n",
       "      <td>30.21</td>\n",
       "      <td>30.21</td>\n",
       "      <td>7408553</td>\n",
       "      <td>29.49</td>\n",
       "      <td>0</td>\n",
       "      <td>1.003654</td>\n",
       "      <td>2.0</td>\n",
       "      <td>1.032256</td>\n",
       "      <td>4.0</td>\n",
       "      <td>1.175410</td>\n",
       "      <td>40.0</td>\n",
       "      <td>1.369713</td>\n",
       "      <td>156.0</td>\n",
       "      <td>0.888249</td>\n",
       "      <td>500.0</td>\n",
       "    </tr>\n",
       "    <tr>\n",
       "      <th>11910721</th>\n",
       "      <td>2023-06-16</td>\n",
       "      <td>BRKM5T</td>\n",
       "      <td>30.43</td>\n",
       "      <td>29.48</td>\n",
       "      <td>30.65</td>\n",
       "      <td>29.49</td>\n",
       "      <td>60791932</td>\n",
       "      <td>30.31</td>\n",
       "      <td>1</td>\n",
       "      <td>0.987940</td>\n",
       "      <td>1.0</td>\n",
       "      <td>0.996890</td>\n",
       "      <td>4.0</td>\n",
       "      <td>1.143792</td>\n",
       "      <td>39.0</td>\n",
       "      <td>1.335583</td>\n",
       "      <td>156.0</td>\n",
       "      <td>0.867675</td>\n",
       "      <td>500.0</td>\n",
       "    </tr>\n",
       "    <tr>\n",
       "      <th>11910722</th>\n",
       "      <td>2023-06-16</td>\n",
       "      <td>BRKM5T</td>\n",
       "      <td>30.30</td>\n",
       "      <td>30.30</td>\n",
       "      <td>30.31</td>\n",
       "      <td>30.31</td>\n",
       "      <td>2727806</td>\n",
       "      <td>31.05</td>\n",
       "      <td>1</td>\n",
       "      <td>1.013712</td>\n",
       "      <td>1.0</td>\n",
       "      <td>1.013577</td>\n",
       "      <td>4.0</td>\n",
       "      <td>1.170300</td>\n",
       "      <td>40.0</td>\n",
       "      <td>1.370618</td>\n",
       "      <td>157.0</td>\n",
       "      <td>0.892460</td>\n",
       "      <td>500.0</td>\n",
       "    </tr>\n",
       "    <tr>\n",
       "      <th>11910723</th>\n",
       "      <td>2023-06-16</td>\n",
       "      <td>BRKM5T</td>\n",
       "      <td>31.48</td>\n",
       "      <td>31.00</td>\n",
       "      <td>31.49</td>\n",
       "      <td>31.05</td>\n",
       "      <td>10892557</td>\n",
       "      <td>NaN</td>\n",
       "      <td>0</td>\n",
       "      <td>1.012060</td>\n",
       "      <td>2.0</td>\n",
       "      <td>1.027805</td>\n",
       "      <td>4.0</td>\n",
       "      <td>1.193183</td>\n",
       "      <td>40.0</td>\n",
       "      <td>1.401778</td>\n",
       "      <td>157.0</td>\n",
       "      <td>0.915010</td>\n",
       "      <td>500.0</td>\n",
       "    </tr>\n",
       "  </tbody>\n",
       "</table>\n",
       "<p>13062 rows × 19 columns</p>\n",
       "</div>"
      ],
      "text/plain": [
       "               Data  CodNeg  Abertura  Minimo  Maximo  Ultimo    Volume  \\\n",
       "391119   2002-12-19  BRKM5T    221.34  221.34  221.35  221.35  21470788   \n",
       "391120   2002-10-24  BRKM5T    217.63  217.62  217.63  217.62   8704876   \n",
       "391121   2002-09-03  BRKM5T    297.16  297.16  297.17  297.17   1485847   \n",
       "391122   2002-09-04  BRKM5T    290.71  284.06  290.72  284.06   7168371   \n",
       "391123   2002-09-05  BRKM5T    279.86  279.86  279.87  279.87   1399320   \n",
       "...             ...     ...       ...     ...     ...     ...       ...   \n",
       "11899489 2023-06-15  BRKM5T     29.01   28.61   29.99   29.99   2346266   \n",
       "11899490 2023-06-15  BRKM5T     30.15   28.80   30.21   30.21   7408553   \n",
       "11910721 2023-06-16  BRKM5T     30.43   29.48   30.65   29.49  60791932   \n",
       "11910722 2023-06-16  BRKM5T     30.30   30.30   30.31   30.31   2727806   \n",
       "11910723 2023-06-16  BRKM5T     31.48   31.00   31.49   31.05  10892557   \n",
       "\n",
       "          Amanha  Alvo  Taxa_Ultima_2  Trend_2  Taxa_Ultima_5  Trend_5  \\\n",
       "391119    217.62     0            NaN      NaN            NaN      NaN   \n",
       "391120    297.17     1       0.991503      NaN            NaN      NaN   \n",
       "391121    284.06     0       1.154529      1.0            NaN      NaN   \n",
       "391122    279.87     0       0.977444      1.0            NaN      NaN   \n",
       "391123    271.81     0       0.992570      0.0       1.076365      NaN   \n",
       "...          ...   ...            ...      ...            ...      ...   \n",
       "11899489   30.21     1       1.007898      2.0       1.039731      4.0   \n",
       "11899490   29.49     0       1.003654      2.0       1.032256      4.0   \n",
       "11910721   30.31     1       0.987940      1.0       0.996890      4.0   \n",
       "11910722   31.05     1       1.013712      1.0       1.013577      4.0   \n",
       "11910723     NaN     0       1.012060      2.0       1.027805      4.0   \n",
       "\n",
       "          Taxa_Ultima_60  Trend_60  Taxa_Ultima_250  Trend_250  \\\n",
       "391119               NaN       NaN              NaN        NaN   \n",
       "391120               NaN       NaN              NaN        NaN   \n",
       "391121               NaN       NaN              NaN        NaN   \n",
       "391122               NaN       NaN              NaN        NaN   \n",
       "391123               NaN       NaN              NaN        NaN   \n",
       "...                  ...       ...              ...        ...   \n",
       "11899489        1.171713      39.0         1.361387      156.0   \n",
       "11899490        1.175410      40.0         1.369713      156.0   \n",
       "11910721        1.143792      39.0         1.335583      156.0   \n",
       "11910722        1.170300      40.0         1.370618      157.0   \n",
       "11910723        1.193183      40.0         1.401778      157.0   \n",
       "\n",
       "          Taxa_Ultima_1000  Trend_1000  \n",
       "391119                 NaN         NaN  \n",
       "391120                 NaN         NaN  \n",
       "391121                 NaN         NaN  \n",
       "391122                 NaN         NaN  \n",
       "391123                 NaN         NaN  \n",
       "...                    ...         ...  \n",
       "11899489          0.881054       500.0  \n",
       "11899490          0.888249       500.0  \n",
       "11910721          0.867675       500.0  \n",
       "11910722          0.892460       500.0  \n",
       "11910723          0.915010       500.0  \n",
       "\n",
       "[13062 rows x 19 columns]"
      ]
     },
     "execution_count": 89,
     "metadata": {},
     "output_type": "execute_result"
    }
   ],
   "source": [
    "dfBraskem"
   ]
  },
  {
   "cell_type": "code",
   "execution_count": null,
   "metadata": {},
   "outputs": [],
   "source": []
  }
 ],
 "metadata": {
  "kernelspec": {
   "display_name": "Python 3",
   "language": "python",
   "name": "python3"
  },
  "language_info": {
   "codemirror_mode": {
    "name": "ipython",
    "version": 3
   },
   "file_extension": ".py",
   "mimetype": "text/x-python",
   "name": "python",
   "nbconvert_exporter": "python",
   "pygments_lexer": "ipython3",
   "version": "3.11.5"
  },
  "orig_nbformat": 4
 },
 "nbformat": 4,
 "nbformat_minor": 2
}
