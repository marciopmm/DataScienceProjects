{
 "cells": [
  {
   "cell_type": "markdown",
   "metadata": {},
   "source": [
    "# Data Scrapper - Scrapping Tweets\n",
    "Learn from Tweets with mentions to \"Bolsonaro\""
   ]
  },
  {
   "cell_type": "code",
   "execution_count": 1,
   "metadata": {},
   "outputs": [],
   "source": [
    "#!pip3 install snscrape\n",
    "\n",
    "import snscrape.modules.twitter as sntwitter\n",
    "import pandas as pd\n",
    "from datetime import date\n",
    "import os\n",
    "import matplotlib.pyplot as plt\n",
    "import seaborn as sns\n",
    "\n",
    "max = 3000"
   ]
  },
  {
   "cell_type": "code",
   "execution_count": 2,
   "metadata": {},
   "outputs": [],
   "source": [
    "today = int(date.today().strftime(\"%d\"))\n",
    "df_b = pd.DataFrame(columns=['date', 'url', 'username', 'content'])\n",
    "df_l = df_b.copy()"
   ]
  },
  {
   "cell_type": "code",
   "execution_count": 3,
   "metadata": {},
   "outputs": [
    {
     "name": "stdout",
     "output_type": "stream",
     "text": [
      "Bolsonaro since:2022-10-03 until:2022-10-04\n",
      "<class 'pandas.core.frame.DataFrame'>\n",
      "RangeIndex: 3001 entries, 0 to 3000\n",
      "Data columns (total 4 columns):\n",
      " #   Column    Non-Null Count  Dtype              \n",
      "---  ------    --------------  -----              \n",
      " 0   date      3001 non-null   datetime64[ns, UTC]\n",
      " 1   url       3001 non-null   object             \n",
      " 2   username  3001 non-null   object             \n",
      " 3   content   3001 non-null   object             \n",
      "dtypes: datetime64[ns, UTC](1), object(3)\n",
      "memory usage: 93.9+ KB\n",
      "None\n",
      "Bolsonaro since:2022-10-05 until:2022-10-06\n",
      "<class 'pandas.core.frame.DataFrame'>\n",
      "RangeIndex: 3001 entries, 0 to 3000\n",
      "Data columns (total 4 columns):\n",
      " #   Column    Non-Null Count  Dtype              \n",
      "---  ------    --------------  -----              \n",
      " 0   date      3001 non-null   datetime64[ns, UTC]\n",
      " 1   url       3001 non-null   object             \n",
      " 2   username  3001 non-null   object             \n",
      " 3   content   3001 non-null   object             \n",
      "dtypes: datetime64[ns, UTC](1), object(3)\n",
      "memory usage: 93.9+ KB\n",
      "None\n",
      "Bolsonaro since:2022-10-07 until:2022-10-08\n",
      "<class 'pandas.core.frame.DataFrame'>\n",
      "RangeIndex: 3001 entries, 0 to 3000\n",
      "Data columns (total 4 columns):\n",
      " #   Column    Non-Null Count  Dtype              \n",
      "---  ------    --------------  -----              \n",
      " 0   date      3001 non-null   datetime64[ns, UTC]\n",
      " 1   url       3001 non-null   object             \n",
      " 2   username  3001 non-null   object             \n",
      " 3   content   3001 non-null   object             \n",
      "dtypes: datetime64[ns, UTC](1), object(3)\n",
      "memory usage: 93.9+ KB\n",
      "None\n",
      "Bolsonaro since:2022-10-09 until:2022-10-10\n",
      "<class 'pandas.core.frame.DataFrame'>\n",
      "RangeIndex: 3001 entries, 0 to 3000\n",
      "Data columns (total 4 columns):\n",
      " #   Column    Non-Null Count  Dtype              \n",
      "---  ------    --------------  -----              \n",
      " 0   date      3001 non-null   datetime64[ns, UTC]\n",
      " 1   url       3001 non-null   object             \n",
      " 2   username  3001 non-null   object             \n",
      " 3   content   3001 non-null   object             \n",
      "dtypes: datetime64[ns, UTC](1), object(3)\n",
      "memory usage: 93.9+ KB\n",
      "None\n",
      "Bolsonaro since:2022-10-11 until:2022-10-12\n",
      "<class 'pandas.core.frame.DataFrame'>\n",
      "RangeIndex: 3001 entries, 0 to 3000\n",
      "Data columns (total 4 columns):\n",
      " #   Column    Non-Null Count  Dtype              \n",
      "---  ------    --------------  -----              \n",
      " 0   date      3001 non-null   datetime64[ns, UTC]\n",
      " 1   url       3001 non-null   object             \n",
      " 2   username  3001 non-null   object             \n",
      " 3   content   3001 non-null   object             \n",
      "dtypes: datetime64[ns, UTC](1), object(3)\n",
      "memory usage: 93.9+ KB\n",
      "None\n",
      "Bolsonaro since:2022-10-13 until:2022-10-14\n",
      "<class 'pandas.core.frame.DataFrame'>\n",
      "RangeIndex: 3001 entries, 0 to 3000\n",
      "Data columns (total 4 columns):\n",
      " #   Column    Non-Null Count  Dtype              \n",
      "---  ------    --------------  -----              \n",
      " 0   date      3001 non-null   datetime64[ns, UTC]\n",
      " 1   url       3001 non-null   object             \n",
      " 2   username  3001 non-null   object             \n",
      " 3   content   3001 non-null   object             \n",
      "dtypes: datetime64[ns, UTC](1), object(3)\n",
      "memory usage: 93.9+ KB\n",
      "None\n",
      "Bolsonaro since:2022-10-15 until:2022-10-16\n",
      "<class 'pandas.core.frame.DataFrame'>\n",
      "RangeIndex: 3001 entries, 0 to 3000\n",
      "Data columns (total 4 columns):\n",
      " #   Column    Non-Null Count  Dtype              \n",
      "---  ------    --------------  -----              \n",
      " 0   date      3001 non-null   datetime64[ns, UTC]\n",
      " 1   url       3001 non-null   object             \n",
      " 2   username  3001 non-null   object             \n",
      " 3   content   3001 non-null   object             \n",
      "dtypes: datetime64[ns, UTC](1), object(3)\n",
      "memory usage: 93.9+ KB\n",
      "None\n",
      "Bolsonaro since:2022-10-17 until:2022-10-18\n",
      "<class 'pandas.core.frame.DataFrame'>\n",
      "RangeIndex: 3001 entries, 0 to 3000\n",
      "Data columns (total 4 columns):\n",
      " #   Column    Non-Null Count  Dtype              \n",
      "---  ------    --------------  -----              \n",
      " 0   date      3001 non-null   datetime64[ns, UTC]\n",
      " 1   url       3001 non-null   object             \n",
      " 2   username  3001 non-null   object             \n",
      " 3   content   3001 non-null   object             \n",
      "dtypes: datetime64[ns, UTC](1), object(3)\n",
      "memory usage: 93.9+ KB\n",
      "None\n",
      "Bolsonaro since:2022-10-19 until:2022-10-20\n",
      "<class 'pandas.core.frame.DataFrame'>\n",
      "RangeIndex: 3001 entries, 0 to 3000\n",
      "Data columns (total 4 columns):\n",
      " #   Column    Non-Null Count  Dtype              \n",
      "---  ------    --------------  -----              \n",
      " 0   date      3001 non-null   datetime64[ns, UTC]\n",
      " 1   url       3001 non-null   object             \n",
      " 2   username  3001 non-null   object             \n",
      " 3   content   3001 non-null   object             \n",
      "dtypes: datetime64[ns, UTC](1), object(3)\n",
      "memory usage: 93.9+ KB\n",
      "None\n"
     ]
    }
   ],
   "source": [
    "for t in range(4, today, 2):\n",
    "    str_tm1 = str(t-1).zfill(2)\n",
    "    str_t = str(t).zfill(2)\n",
    "    if os.path.exists(f'data/Bolsonaro_202210{str_tm1}_a_202210{str_t}.csv'):\n",
    "        df_b = pd.concat([df_b, pd.read_csv(f'data/Bolsonaro_202210{str_tm1}_a_202210{str_t}.csv', usecols=['date', 'url', 'username', 'content'])], ignore_index=True)\n",
    "        continue\n",
    "\n",
    "    print(f'Bolsonaro since:2022-10-{str_tm1} until:2022-10-{str_t}')\n",
    "\n",
    "    tweets_list = []\n",
    "    i = 0\n",
    "\n",
    "    for tweet in sntwitter.TwitterSearchScraper(f'Bolsonaro since:2022-10-{str_tm1} until:2022-10-{str_t}').get_items():\n",
    "        if i > max:\n",
    "            break\n",
    "        tweets_list.append([tweet.date, tweet.url, tweet.user.username, tweet.content])\n",
    "        i = i + 1\n",
    "\n",
    "    tweets_df = pd.DataFrame(tweets_list, columns=['date', 'url', 'username', 'content'])\n",
    "    df_b = pd.concat([df_b, tweets_df], ignore_index=True)\n",
    "    print (tweets_df.info())\n",
    "    tweets_df.to_csv(f'data/Bolsonaro_202210{str_tm1}_a_202210{str_t}.csv')\n"
   ]
  },
  {
   "cell_type": "code",
   "execution_count": 4,
   "metadata": {},
   "outputs": [
    {
     "name": "stdout",
     "output_type": "stream",
     "text": [
      "Lula since:2022-10-03 until:2022-10-04\n",
      "<class 'pandas.core.frame.DataFrame'>\n",
      "RangeIndex: 3001 entries, 0 to 3000\n",
      "Data columns (total 4 columns):\n",
      " #   Column    Non-Null Count  Dtype              \n",
      "---  ------    --------------  -----              \n",
      " 0   date      3001 non-null   datetime64[ns, UTC]\n",
      " 1   url       3001 non-null   object             \n",
      " 2   username  3001 non-null   object             \n",
      " 3   content   3001 non-null   object             \n",
      "dtypes: datetime64[ns, UTC](1), object(3)\n",
      "memory usage: 93.9+ KB\n",
      "None\n",
      "Lula since:2022-10-05 until:2022-10-06\n",
      "<class 'pandas.core.frame.DataFrame'>\n",
      "RangeIndex: 3001 entries, 0 to 3000\n",
      "Data columns (total 4 columns):\n",
      " #   Column    Non-Null Count  Dtype              \n",
      "---  ------    --------------  -----              \n",
      " 0   date      3001 non-null   datetime64[ns, UTC]\n",
      " 1   url       3001 non-null   object             \n",
      " 2   username  3001 non-null   object             \n",
      " 3   content   3001 non-null   object             \n",
      "dtypes: datetime64[ns, UTC](1), object(3)\n",
      "memory usage: 93.9+ KB\n",
      "None\n",
      "Lula since:2022-10-07 until:2022-10-08\n",
      "<class 'pandas.core.frame.DataFrame'>\n",
      "RangeIndex: 3001 entries, 0 to 3000\n",
      "Data columns (total 4 columns):\n",
      " #   Column    Non-Null Count  Dtype              \n",
      "---  ------    --------------  -----              \n",
      " 0   date      3001 non-null   datetime64[ns, UTC]\n",
      " 1   url       3001 non-null   object             \n",
      " 2   username  3001 non-null   object             \n",
      " 3   content   3001 non-null   object             \n",
      "dtypes: datetime64[ns, UTC](1), object(3)\n",
      "memory usage: 93.9+ KB\n",
      "None\n",
      "Lula since:2022-10-09 until:2022-10-10\n",
      "<class 'pandas.core.frame.DataFrame'>\n",
      "RangeIndex: 3001 entries, 0 to 3000\n",
      "Data columns (total 4 columns):\n",
      " #   Column    Non-Null Count  Dtype              \n",
      "---  ------    --------------  -----              \n",
      " 0   date      3001 non-null   datetime64[ns, UTC]\n",
      " 1   url       3001 non-null   object             \n",
      " 2   username  3001 non-null   object             \n",
      " 3   content   3001 non-null   object             \n",
      "dtypes: datetime64[ns, UTC](1), object(3)\n",
      "memory usage: 93.9+ KB\n",
      "None\n",
      "Lula since:2022-10-11 until:2022-10-12\n",
      "<class 'pandas.core.frame.DataFrame'>\n",
      "RangeIndex: 3001 entries, 0 to 3000\n",
      "Data columns (total 4 columns):\n",
      " #   Column    Non-Null Count  Dtype              \n",
      "---  ------    --------------  -----              \n",
      " 0   date      3001 non-null   datetime64[ns, UTC]\n",
      " 1   url       3001 non-null   object             \n",
      " 2   username  3001 non-null   object             \n",
      " 3   content   3001 non-null   object             \n",
      "dtypes: datetime64[ns, UTC](1), object(3)\n",
      "memory usage: 93.9+ KB\n",
      "None\n",
      "Lula since:2022-10-13 until:2022-10-14\n",
      "<class 'pandas.core.frame.DataFrame'>\n",
      "RangeIndex: 3001 entries, 0 to 3000\n",
      "Data columns (total 4 columns):\n",
      " #   Column    Non-Null Count  Dtype              \n",
      "---  ------    --------------  -----              \n",
      " 0   date      3001 non-null   datetime64[ns, UTC]\n",
      " 1   url       3001 non-null   object             \n",
      " 2   username  3001 non-null   object             \n",
      " 3   content   3001 non-null   object             \n",
      "dtypes: datetime64[ns, UTC](1), object(3)\n",
      "memory usage: 93.9+ KB\n",
      "None\n",
      "Lula since:2022-10-15 until:2022-10-16\n",
      "<class 'pandas.core.frame.DataFrame'>\n",
      "RangeIndex: 3001 entries, 0 to 3000\n",
      "Data columns (total 4 columns):\n",
      " #   Column    Non-Null Count  Dtype              \n",
      "---  ------    --------------  -----              \n",
      " 0   date      3001 non-null   datetime64[ns, UTC]\n",
      " 1   url       3001 non-null   object             \n",
      " 2   username  3001 non-null   object             \n",
      " 3   content   3001 non-null   object             \n",
      "dtypes: datetime64[ns, UTC](1), object(3)\n",
      "memory usage: 93.9+ KB\n",
      "None\n",
      "Lula since:2022-10-17 until:2022-10-18\n",
      "<class 'pandas.core.frame.DataFrame'>\n",
      "RangeIndex: 3001 entries, 0 to 3000\n",
      "Data columns (total 4 columns):\n",
      " #   Column    Non-Null Count  Dtype              \n",
      "---  ------    --------------  -----              \n",
      " 0   date      3001 non-null   datetime64[ns, UTC]\n",
      " 1   url       3001 non-null   object             \n",
      " 2   username  3001 non-null   object             \n",
      " 3   content   3001 non-null   object             \n",
      "dtypes: datetime64[ns, UTC](1), object(3)\n",
      "memory usage: 93.9+ KB\n",
      "None\n",
      "Lula since:2022-10-19 until:2022-10-20\n",
      "<class 'pandas.core.frame.DataFrame'>\n",
      "RangeIndex: 3001 entries, 0 to 3000\n",
      "Data columns (total 4 columns):\n",
      " #   Column    Non-Null Count  Dtype              \n",
      "---  ------    --------------  -----              \n",
      " 0   date      3001 non-null   datetime64[ns, UTC]\n",
      " 1   url       3001 non-null   object             \n",
      " 2   username  3001 non-null   object             \n",
      " 3   content   3001 non-null   object             \n",
      "dtypes: datetime64[ns, UTC](1), object(3)\n",
      "memory usage: 93.9+ KB\n",
      "None\n"
     ]
    }
   ],
   "source": [
    "for t in range(4, today, 2):\n",
    "    str_tm1 = str(t-1).zfill(2)\n",
    "    str_t = str(t).zfill(2)\n",
    "    if os.path.exists(f'data/Lula_202210{str_tm1}_a_202210{str_t}.csv'):\n",
    "        df_l = pd.concat([df_b, pd.read_csv(f'data/Lula_202210{str_tm1}_a_202210{str_t}.csv', usecols=['date', 'url', 'username', 'content'])], ignore_index=True)\n",
    "        continue\n",
    "\n",
    "    print(f'Lula since:2022-10-{str_tm1} until:2022-10-{str_t}')\n",
    "\n",
    "    tweets_list = []\n",
    "    i = 0\n",
    "\n",
    "    for tweet in sntwitter.TwitterSearchScraper(f'Lula since:2022-10-{str_tm1} until:2022-10-{str_t}').get_items():\n",
    "        if i > max:\n",
    "            break\n",
    "        tweets_list.append([tweet.date, tweet.url, tweet.user.username, tweet.content])\n",
    "        i = i + 1\n",
    "\n",
    "    tweets_df = pd.DataFrame(tweets_list, columns=['date', 'url', 'username', 'content'])\n",
    "    df_l = pd.concat([df_l, tweets_df], ignore_index=True)\n",
    "    print (tweets_df.info())\n",
    "    tweets_df.to_csv(f'data/Lula_202210{str_tm1}_a_202210{str_t}.csv')"
   ]
  },
  {
   "cell_type": "code",
   "execution_count": 6,
   "metadata": {},
   "outputs": [
    {
     "name": "stderr",
     "output_type": "stream",
     "text": [
      "[nltk_data] Downloading package punkt to /Users/marciopmm/nltk_data...\n",
      "[nltk_data]   Package punkt is already up-to-date!\n"
     ]
    },
    {
     "data": {
      "text/plain": [
       "True"
      ]
     },
     "execution_count": 6,
     "metadata": {},
     "output_type": "execute_result"
    }
   ],
   "source": [
    "#!pip3 install nltk\n",
    "import nltk\n",
    "import ssl\n",
    "from nltk.tokenize import RegexpTokenizer\n",
    "\n",
    "try:\n",
    "    _create_unverified_https_context = ssl._create_unverified_context\n",
    "except AttributeError:\n",
    "    pass\n",
    "else:\n",
    "    ssl._create_default_https_context = _create_unverified_https_context\n",
    "\n",
    "nltk.download('punkt')"
   ]
  },
  {
   "cell_type": "code",
   "execution_count": 7,
   "metadata": {},
   "outputs": [],
   "source": [
    "content_b = '. '.join(df_b.content)\n",
    "content_l = '. '.join(df_l.content)"
   ]
  },
  {
   "cell_type": "code",
   "execution_count": 8,
   "metadata": {},
   "outputs": [],
   "source": [
    "tokenizer = RegexpTokenizer(r'\\w{3,}')\n",
    "\n",
    "tokens_b = tokenizer.tokenize(content_b) # nltk.word_tokenize(content, language='portuguese')\n",
    "tokens_b = [w.lower() for w in tokens_b]\n",
    "\n",
    "tokens_l = tokenizer.tokenize(content_l) # nltk.word_tokenize(content, language='portuguese')\n",
    "tokens_l = [w.lower() for w in tokens_l]"
   ]
  },
  {
   "cell_type": "code",
   "execution_count": 9,
   "metadata": {},
   "outputs": [
    {
     "name": "stderr",
     "output_type": "stream",
     "text": [
      "[nltk_data] Downloading package stopwords to\n",
      "[nltk_data]     /Users/marciopmm/nltk_data...\n",
      "[nltk_data]   Package stopwords is already up-to-date!\n"
     ]
    },
    {
     "data": {
      "text/plain": [
       "True"
      ]
     },
     "execution_count": 9,
     "metadata": {},
     "output_type": "execute_result"
    }
   ],
   "source": [
    "nltk.download(\"stopwords\")"
   ]
  },
  {
   "cell_type": "code",
   "execution_count": 10,
   "metadata": {},
   "outputs": [
    {
     "data": {
      "text/plain": [
       "['a',\n",
       " 'à',\n",
       " 'ao',\n",
       " 'aos',\n",
       " 'aquela',\n",
       " 'aquelas',\n",
       " 'aquele',\n",
       " 'aqueles',\n",
       " 'aquilo',\n",
       " 'as']"
      ]
     },
     "execution_count": 10,
     "metadata": {},
     "output_type": "execute_result"
    }
   ],
   "source": [
    "sw = nltk.corpus.stopwords.words('portuguese')\n",
    "sw[:10]"
   ]
  },
  {
   "cell_type": "code",
   "execution_count": 19,
   "metadata": {},
   "outputs": [],
   "source": [
    "words_b = [w for w in tokens_b if w not in sw and w not in ['bolsonaro', 'https', 'jairbolsonaro']]\n",
    "words_l = [w for w in tokens_l if w not in sw and w not in ['lula', 'https', 'lulaoficial']]"
   ]
  },
  {
   "cell_type": "code",
   "execution_count": 20,
   "metadata": {},
   "outputs": [],
   "source": [
    "nlp_words_b = nltk.FreqDist(words_b)\n",
    "nlp_words_l = nltk.FreqDist(words_l)"
   ]
  },
  {
   "cell_type": "code",
   "execution_count": 21,
   "metadata": {},
   "outputs": [
    {
     "data": {
      "image/png": "[encoded data removed]",
      "text/plain": [
       "<Figure size 640x480 with 1 Axes>"
      ]
     },
     "metadata": {},
     "output_type": "display_data"
    },
    {
     "data": {
      "text/plain": [
       "<AxesSubplot: xlabel='Samples', ylabel='Counts'>"
      ]
     },
     "execution_count": 21,
     "metadata": {},
     "output_type": "execute_result"
    }
   ],
   "source": [
    "sns.set_style('darkgrid')\n",
    "nlp_words_b.plot(20)"
   ]
  },
  {
   "cell_type": "code",
   "execution_count": 22,
   "metadata": {},
   "outputs": [
    {
     "data": {
      "image/png": "[encoded data removed]",
      "text/plain": [
       "<Figure size 640x480 with 1 Axes>"
      ]
     },
     "metadata": {},
     "output_type": "display_data"
    },
    {
     "data": {
      "text/plain": [
       "<AxesSubplot: xlabel='Samples', ylabel='Counts'>"
      ]
     },
     "execution_count": 22,
     "metadata": {},
     "output_type": "execute_result"
    }
   ],
   "source": [
    "nlp_words_l.plot(20)"
   ]
  }
 ],
 "metadata": {
  "kernelspec": {
   "display_name": "Python 3.10.7 64-bit",
   "language": "python",
   "name": "python3"
  },
  "language_info": {
   "codemirror_mode": {
    "name": "ipython",
    "version": 3
   },
   "file_extension": ".py",
   "mimetype": "text/x-python",
   "name": "python",
   "nbconvert_exporter": "python",
   "pygments_lexer": "ipython3",
   "version": "3.10.7"
  },
  "orig_nbformat": 4,
  "vscode": {
   "interpreter": {
    "hash": "aee8b7b246df8f9039afb4144a1f6fd8d2ca17a180786b69acc140d282b71a49"
   }
  }
 },
 "nbformat": 4,
 "nbformat_minor": 2
}
