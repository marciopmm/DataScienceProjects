{
 "cells": [
  {
   "cell_type": "code",
   "execution_count": 1,
   "metadata": {},
   "outputs": [
    {
     "name": "stdout",
     "output_type": "stream",
     "text": [
      "Unauthorized\n",
      "\n"
     ]
    }
   ],
   "source": [
    "import http.client\n",
    "import json\n",
    "\n",
    "conn = http.client.HTTPSConnection(\"api.coinbase.com\")\n",
    "payload = ''\n",
    "headers = {\n",
    "  'Content-Type': 'application/json'\n",
    "}\n",
    "conn.request(\"GET\", \"/api/v3/brokerage/accounts\", payload, headers)\n",
    "res = conn.getresponse()\n",
    "data = res.read()\n",
    "print(data.decode(\"utf-8\"))\n"
   ]
  }
 ],
 "metadata": {
  "kernelspec": {
   "display_name": "Python 3",
   "language": "python",
   "name": "python3"
  },
  "language_info": {
   "codemirror_mode": {
    "name": "ipython",
    "version": 3
   },
   "file_extension": ".py",
   "mimetype": "text/x-python",
   "name": "python",
   "nbconvert_exporter": "python",
   "pygments_lexer": "ipython3",
   "version": "3.12.2"
  }
 },
 "nbformat": 4,
 "nbformat_minor": 2
}
